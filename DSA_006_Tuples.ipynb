{
 "cells": [
  {
   "cell_type": "markdown",
   "id": "3225c74f",
   "metadata": {},
   "source": [
    "### Tuple in Python\n",
    "\n",
    "`A tuple is an immutable sequence of Python objects. Similar to lists, tuples are sequential arrangements of data items. However, the elements of a tuple cannot be changed once assigned.`\n",
    "\n",
    "\n",
    "* A tuple can hold any number of items and they can be of different data types (int, float, string, etc.).\n",
    "\n",
    "####   Creating a Tuple\n",
    "\n",
    "\n",
    "`A tuple is created by placing all the elements separated by commas, enclosed within parentheses (). The parenthesis can be dropped but it is a good practice to use them.`\n",
    "\n",
    "\n",
    "\n",
    "There are different types of tuples in python based on the values of the data items they hold.\n",
    "\n",
    "The following code demonstrates how to create various types of tuples in python.\n",
    "\n"
   ]
  },
  {
   "cell_type": "code",
   "execution_count": null,
   "id": "1c1b70ac",
   "metadata": {},
   "outputs": [],
   "source": []
  }
 ],
 "metadata": {
  "kernelspec": {
   "display_name": "Python 3 (ipykernel)",
   "language": "python",
   "name": "python3"
  },
  "language_info": {
   "codemirror_mode": {
    "name": "ipython",
    "version": 3
   },
   "file_extension": ".py",
   "mimetype": "text/x-python",
   "name": "python",
   "nbconvert_exporter": "python",
   "pygments_lexer": "ipython3",
   "version": "3.9.7"
  }
 },
 "nbformat": 4,
 "nbformat_minor": 5
}
