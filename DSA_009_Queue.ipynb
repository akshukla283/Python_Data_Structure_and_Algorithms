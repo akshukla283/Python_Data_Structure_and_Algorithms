{
 "cells": [
  {
   "cell_type": "markdown",
   "id": "7f885c31",
   "metadata": {},
   "source": [
    "### Queue in Python :\n",
    "\n",
    "`In python, the queue is an abstract data structure that stores elements linearly. The items in a queue follow the First-In/First-Out (FIFO) order. This means that the first element to be inserted in a queue will be the first one to be removed.`\n",
    "\n",
    "\n",
    "`We can illustrate the “queue” data structure with the real-life example of a queue of people at a bank. A person will enter the queue at the last position. The first person to enter the queue will be the first to receive his services and leave. This demonstrates how the FIFO manner works. The person or the data item inserted first in the queue will be the first to be removed.`\n",
    "\n",
    "#### Queue Operations\n",
    "Various operations can be performed on a queue in python.\n",
    "\n",
    "\n",
    "#### Create Queue\n",
    "\n",
    "* – The creation of a queue is the most fundamental operation. Just like any other linear data structure, a queue can be implemented in python and used to store data elements.\n",
    "\n",
    "#### Enqueue\n",
    "\n",
    "* – The enqueue operation is used to insert new elements into a queue. The new elements are entered at the end of the queue.\n",
    "\n",
    "#### Dequeue\n",
    "\n",
    "* – The dequeue function is used for the removal of a data item from a queue data structure. Data items are also removed from the beginning of the queue following the FIFO approach.\n",
    "\n",
    "#### Peek\n",
    "\n",
    "* – Peek operation is used to retrieve the first element of the queue without deleting it.\n",
    "\n",
    "#### isEmpty\n",
    "\n",
    "\n",
    "* – The isEmpty method returns whether a queue is empty or not, returns a boolean value of True if the queue is empty, otherwise it returns False.\n",
    "\n",
    "#### isFull\n",
    "\n",
    "* – The isFull method returns whether a queue is full or not, returns a boolean value of True if the queue is full, otherwise it returns False.\n",
    "\n",
    "#### deleteQueue\n",
    "\n",
    "* – Removes all the data elements and free up the allocated memory space."
   ]
  },
  {
   "cell_type": "code",
   "execution_count": 1,
   "id": "a5137db8",
   "metadata": {},
   "outputs": [
    {
     "data": {
      "text/plain": [
       "[10, 20, 30]"
      ]
     },
     "execution_count": 1,
     "metadata": {},
     "output_type": "execute_result"
    }
   ],
   "source": [
    "### First let's some simple method to make queue\n",
    "\n",
    "queue = []\n",
    "queue.append(10)\n",
    "queue.append(20)\n",
    "queue.append(30)\n",
    "queue"
   ]
  },
  {
   "cell_type": "code",
   "execution_count": 2,
   "id": "e35c4fda",
   "metadata": {},
   "outputs": [
    {
     "data": {
      "text/plain": [
       "10"
      ]
     },
     "execution_count": 2,
     "metadata": {},
     "output_type": "execute_result"
    }
   ],
   "source": [
    "queue.pop(0)"
   ]
  },
  {
   "cell_type": "code",
   "execution_count": 3,
   "id": "b9359d42",
   "metadata": {},
   "outputs": [
    {
     "data": {
      "text/plain": [
       "20"
      ]
     },
     "execution_count": 3,
     "metadata": {},
     "output_type": "execute_result"
    }
   ],
   "source": [
    "queue.pop(0)"
   ]
  },
  {
   "cell_type": "code",
   "execution_count": 4,
   "id": "8e2c3a5a",
   "metadata": {},
   "outputs": [
    {
     "data": {
      "text/plain": [
       "30"
      ]
     },
     "execution_count": 4,
     "metadata": {},
     "output_type": "execute_result"
    }
   ],
   "source": [
    "queue.pop(0)"
   ]
  },
  {
   "cell_type": "markdown",
   "id": "f688c19c",
   "metadata": {},
   "source": [
    "As we can see that first in first out order has been performed."
   ]
  },
  {
   "cell_type": "code",
   "execution_count": 5,
   "id": "03ae0747",
   "metadata": {},
   "outputs": [
    {
     "data": {
      "text/plain": [
       "[30, 20, 10]"
      ]
     },
     "execution_count": 5,
     "metadata": {},
     "output_type": "execute_result"
    }
   ],
   "source": [
    "# Another way doing the same \n",
    "\n",
    "queue = []\n",
    "\n",
    "queue.insert(0,10)\n",
    "queue.insert(0,20)\n",
    "queue.insert(0,30)\n",
    "queue"
   ]
  },
  {
   "cell_type": "code",
   "execution_count": 6,
   "id": "579a9e9f",
   "metadata": {},
   "outputs": [
    {
     "data": {
      "text/plain": [
       "10"
      ]
     },
     "execution_count": 6,
     "metadata": {},
     "output_type": "execute_result"
    }
   ],
   "source": [
    "queue.pop()"
   ]
  },
  {
   "cell_type": "code",
   "execution_count": 7,
   "id": "f68862d7",
   "metadata": {},
   "outputs": [
    {
     "data": {
      "text/plain": [
       "20"
      ]
     },
     "execution_count": 7,
     "metadata": {},
     "output_type": "execute_result"
    }
   ],
   "source": [
    "queue.pop()"
   ]
  },
  {
   "cell_type": "code",
   "execution_count": 8,
   "id": "47772d8a",
   "metadata": {},
   "outputs": [
    {
     "data": {
      "text/plain": [
       "[30, 20, 10]"
      ]
     },
     "execution_count": 8,
     "metadata": {},
     "output_type": "execute_result"
    }
   ],
   "source": [
    "queue = []\n",
    "\n",
    "queue.insert(0,10)\n",
    "queue.insert(0,20)\n",
    "queue.insert(0,30)\n",
    "queue"
   ]
  },
  {
   "cell_type": "code",
   "execution_count": 9,
   "id": "6457215e",
   "metadata": {},
   "outputs": [
    {
     "name": "stdout",
     "output_type": "stream",
     "text": [
      "Front element : \n",
      "10\n",
      "Rear element : \n",
      "30\n"
     ]
    }
   ],
   "source": [
    "# checking rear and front element\n",
    "print(\"Front element : \")\n",
    "print(queue[-1])\n",
    "print(\"Rear element : \")\n",
    "print(queue[0])"
   ]
  },
  {
   "cell_type": "code",
   "execution_count": 10,
   "id": "5f65bfb1",
   "metadata": {},
   "outputs": [
    {
     "name": "stdout",
     "output_type": "stream",
     "text": [
      "Select the Queue operations\n",
      "1.enque, 2.dequeue, 3.show, 4.quit\n",
      "1\n",
      "Enter the element: 23\n",
      "23 is added to queue\n",
      "Select the Queue operations\n",
      "1.enque, 2.dequeue, 3.show, 4.quit\n",
      "1\n",
      "Enter the element: 32\n",
      "32 is added to queue\n",
      "Select the Queue operations\n",
      "1.enque, 2.dequeue, 3.show, 4.quit\n",
      "3\n",
      "['23', '32']\n",
      "Select the Queue operations\n",
      "1.enque, 2.dequeue, 3.show, 4.quit\n",
      "2\n",
      "removed element :  23\n",
      "Select the Queue operations\n",
      "1.enque, 2.dequeue, 3.show, 4.quit\n",
      "3\n",
      "['32']\n",
      "Select the Queue operations\n",
      "1.enque, 2.dequeue, 3.show, 4.quit\n",
      "4\n"
     ]
    }
   ],
   "source": [
    "queue = []\n",
    "\n",
    "def enqueue():\n",
    "    element = input(\"Enter the element: \")\n",
    "    queue.append(element)\n",
    "    print(element, \"is added to queue\")\n",
    "    \n",
    "def dequeue():\n",
    "    if not queue:\n",
    "        print(\"queue is empty!\")\n",
    "    else:\n",
    "        e = queue.pop(0)\n",
    "        print(\"removed element : \", e)\n",
    "        \n",
    "def display():\n",
    "    print(queue)\n",
    "    \n",
    "    \n",
    "while True:\n",
    "    try:\n",
    "        print(\"Select the Queue operations\\n1.enque, 2.dequeue, 3.show, 4.quit\")\n",
    "        choice = int(input())\n",
    "        if choice == 1:\n",
    "            enqueue()\n",
    "        elif choice == 2:\n",
    "            dequeue()\n",
    "        elif choice ==3:\n",
    "            display()\n",
    "        elif choice == 4:\n",
    "            break\n",
    "        else:\n",
    "            print(\"Enter the available option only!\")\n",
    "    except Exception as e:\n",
    "        print(e)"
   ]
  },
  {
   "cell_type": "markdown",
   "id": "20ea9f9d",
   "metadata": {},
   "source": [
    "#### How to implement Queue using different modules?\n",
    "\n",
    "*  `collections` module's  --- `deque` using this we can create Queue.\n",
    "\n",
    "* we use `leftappend` method to append value to the left side. or  we use `popleft` method to pop the value from left side."
   ]
  },
  {
   "cell_type": "code",
   "execution_count": 11,
   "id": "7cee409c",
   "metadata": {},
   "outputs": [],
   "source": [
    "import collections\n",
    "\n",
    "queue = collections.deque()"
   ]
  },
  {
   "cell_type": "code",
   "execution_count": 12,
   "id": "c44b3319",
   "metadata": {},
   "outputs": [
    {
     "data": {
      "text/plain": [
       "deque([])"
      ]
     },
     "execution_count": 12,
     "metadata": {},
     "output_type": "execute_result"
    }
   ],
   "source": [
    "queue"
   ]
  },
  {
   "cell_type": "code",
   "execution_count": 13,
   "id": "fe0ff487",
   "metadata": {},
   "outputs": [
    {
     "data": {
      "text/plain": [
       "deque([30, 20, 10])"
      ]
     },
     "execution_count": 13,
     "metadata": {},
     "output_type": "execute_result"
    }
   ],
   "source": [
    "queue.appendleft(10)\n",
    "queue.appendleft(20)\n",
    "queue.appendleft(30)\n",
    "queue"
   ]
  },
  {
   "cell_type": "code",
   "execution_count": 14,
   "id": "2a5617df",
   "metadata": {},
   "outputs": [
    {
     "data": {
      "text/plain": [
       "10"
      ]
     },
     "execution_count": 14,
     "metadata": {},
     "output_type": "execute_result"
    }
   ],
   "source": [
    "queue.pop()"
   ]
  },
  {
   "cell_type": "code",
   "execution_count": 15,
   "id": "1a3ea315",
   "metadata": {},
   "outputs": [
    {
     "data": {
      "text/plain": [
       "20"
      ]
     },
     "execution_count": 15,
     "metadata": {},
     "output_type": "execute_result"
    }
   ],
   "source": [
    "queue.pop()"
   ]
  },
  {
   "cell_type": "code",
   "execution_count": 16,
   "id": "7b399d6e",
   "metadata": {},
   "outputs": [
    {
     "data": {
      "text/plain": [
       "30"
      ]
     },
     "execution_count": 16,
     "metadata": {},
     "output_type": "execute_result"
    }
   ],
   "source": [
    "queue.pop()"
   ]
  },
  {
   "cell_type": "code",
   "execution_count": 17,
   "id": "dbf9a011",
   "metadata": {},
   "outputs": [
    {
     "ename": "IndexError",
     "evalue": "pop from an empty deque",
     "output_type": "error",
     "traceback": [
      "\u001b[1;31m---------------------------------------------------------------------------\u001b[0m",
      "\u001b[1;31mIndexError\u001b[0m                                Traceback (most recent call last)",
      "Input \u001b[1;32mIn [17]\u001b[0m, in \u001b[0;36m<cell line: 1>\u001b[1;34m()\u001b[0m\n\u001b[1;32m----> 1\u001b[0m \u001b[43mqueue\u001b[49m\u001b[38;5;241;43m.\u001b[39;49m\u001b[43mpop\u001b[49m\u001b[43m(\u001b[49m\u001b[43m)\u001b[49m\n",
      "\u001b[1;31mIndexError\u001b[0m: pop from an empty deque"
     ]
    }
   ],
   "source": [
    "queue.pop()"
   ]
  },
  {
   "cell_type": "markdown",
   "id": "3ab85336",
   "metadata": {},
   "source": [
    "### Queue using 'queue' module\n",
    "*  `queue`  module's --- `Queue` object  using this we can create Queue.\n",
    "\n",
    "* `queue` module contains different classes like Queue, Lifoqueue, PriorityQueue.\n",
    "\n",
    "*  `queue.queue(maxsize = 0)`  queue is infinite length so we need to give maxsize to limit the queue otherwise it will be infinte size.\n",
    "\n",
    "* `put(item, block= True, timeout)` and `put_nowait(item)` it will insert the element in Queue.\n",
    "\n",
    "*  `get(block= True, timeout = None)` it will remove the element from Queue once Queue is empty it won't print queue empty message instead of that it will block untill the item is available, to avoid that we can set Block = False, timeout = 1 or as per your own."
   ]
  },
  {
   "cell_type": "code",
   "execution_count": 18,
   "id": "d7287ef6",
   "metadata": {},
   "outputs": [],
   "source": [
    "import queue\n",
    "\n",
    "q = queue.Queue()\n",
    "q.put(10)\n",
    "q.put(20)\n",
    "q.put(30)\n"
   ]
  },
  {
   "cell_type": "code",
   "execution_count": 19,
   "id": "5bda1d9d",
   "metadata": {},
   "outputs": [
    {
     "data": {
      "text/plain": [
       "<queue.Queue at 0x1850c794e20>"
      ]
     },
     "execution_count": 19,
     "metadata": {},
     "output_type": "execute_result"
    }
   ],
   "source": [
    "q"
   ]
  },
  {
   "cell_type": "code",
   "execution_count": 20,
   "id": "b7827c9b",
   "metadata": {},
   "outputs": [
    {
     "data": {
      "text/plain": [
       "10"
      ]
     },
     "execution_count": 20,
     "metadata": {},
     "output_type": "execute_result"
    }
   ],
   "source": [
    "q.get()"
   ]
  },
  {
   "cell_type": "code",
   "execution_count": 21,
   "id": "63f6b957",
   "metadata": {},
   "outputs": [
    {
     "data": {
      "text/plain": [
       "20"
      ]
     },
     "execution_count": 21,
     "metadata": {},
     "output_type": "execute_result"
    }
   ],
   "source": [
    "q.get(timeout= .5)"
   ]
  },
  {
   "cell_type": "code",
   "execution_count": 22,
   "id": "8300226b",
   "metadata": {},
   "outputs": [
    {
     "data": {
      "text/plain": [
       "30"
      ]
     },
     "execution_count": 22,
     "metadata": {},
     "output_type": "execute_result"
    }
   ],
   "source": [
    "q.get(timeout= .5)"
   ]
  },
  {
   "cell_type": "code",
   "execution_count": 23,
   "id": "512486c8",
   "metadata": {},
   "outputs": [
    {
     "ename": "Empty",
     "evalue": "",
     "output_type": "error",
     "traceback": [
      "\u001b[1;31m---------------------------------------------------------------------------\u001b[0m",
      "\u001b[1;31mEmpty\u001b[0m                                     Traceback (most recent call last)",
      "Input \u001b[1;32mIn [23]\u001b[0m, in \u001b[0;36m<cell line: 1>\u001b[1;34m()\u001b[0m\n\u001b[1;32m----> 1\u001b[0m \u001b[43mq\u001b[49m\u001b[38;5;241;43m.\u001b[39;49m\u001b[43mget\u001b[49m\u001b[43m(\u001b[49m\u001b[43mtimeout\u001b[49m\u001b[38;5;241;43m=\u001b[39;49m\u001b[43m \u001b[49m\u001b[38;5;241;43m.5\u001b[39;49m\u001b[43m)\u001b[49m\n",
      "File \u001b[1;32m~\\AppData\\Local\\Programs\\Python\\Python39\\lib\\queue.py:179\u001b[0m, in \u001b[0;36mQueue.get\u001b[1;34m(self, block, timeout)\u001b[0m\n\u001b[0;32m    177\u001b[0m         remaining \u001b[38;5;241m=\u001b[39m endtime \u001b[38;5;241m-\u001b[39m time()\n\u001b[0;32m    178\u001b[0m         \u001b[38;5;28;01mif\u001b[39;00m remaining \u001b[38;5;241m<\u001b[39m\u001b[38;5;241m=\u001b[39m \u001b[38;5;241m0.0\u001b[39m:\n\u001b[1;32m--> 179\u001b[0m             \u001b[38;5;28;01mraise\u001b[39;00m Empty\n\u001b[0;32m    180\u001b[0m         \u001b[38;5;28mself\u001b[39m\u001b[38;5;241m.\u001b[39mnot_empty\u001b[38;5;241m.\u001b[39mwait(remaining)\n\u001b[0;32m    181\u001b[0m item \u001b[38;5;241m=\u001b[39m \u001b[38;5;28mself\u001b[39m\u001b[38;5;241m.\u001b[39m_get()\n",
      "\u001b[1;31mEmpty\u001b[0m: "
     ]
    }
   ],
   "source": [
    "q.get(timeout= .5)"
   ]
  },
  {
   "cell_type": "markdown",
   "id": "e23dc905",
   "metadata": {},
   "source": [
    "### Queue creation using List without size limit\n",
    "\n",
    "`The creation of Queue using the list data structure in python is a simple process. Firstly, we create a queue class and initialize an “int” list inside the “Queue” class. We also create the “__str__” function of this class to return the string version of our queue in the desired order. When we create “__str__” function, it modifies the “__str__” function of python.`\n",
    "\n",
    "The advantage of using the list data structure to create the Queue is that it is easy to implement and the list can be limitless. We can use the in-built functions, append and pop, associated with lists. However, its implementation may become slower as the size of the list increases."
   ]
  },
  {
   "cell_type": "code",
   "execution_count": 24,
   "id": "fdb3820b",
   "metadata": {},
   "outputs": [],
   "source": [
    "#Creating Queue class using list without size limit\n",
    "class Queue:\n",
    "      def __init__(self):\n",
    "        self.items = []\n",
    "\n",
    "#Modifying the __str__ function to return the desired string version of Queue\n",
    "      def __str__(self):\n",
    "        values = [str(x) for x in self.items]\n",
    "        return ' '.join(values)\n",
    "        "
   ]
  },
  {
   "cell_type": "markdown",
   "id": "1a8d2ad7",
   "metadata": {},
   "source": [
    "### Time and Space Complexity\n",
    "\n",
    "The time complexity of creating a Queue using a list is O(1) as it takes a constant amount of time to initialize a list. The space complexity is O(1) as well since no additional memory is required.\n",
    "\n",
    "\n",
    "### Operations on Queue using List without size limit\n",
    "\n",
    "### 1. isEmpty\n",
    "\n",
    "`The isEmpty function is used to check whether the given queue is empty or not. If there are no elements in the core list, we return a boolean value of True, otherwise False.`"
   ]
  },
  {
   "cell_type": "code",
   "execution_count": 25,
   "id": "bfb73244",
   "metadata": {},
   "outputs": [
    {
     "name": "stdout",
     "output_type": "stream",
     "text": [
      "True\n"
     ]
    }
   ],
   "source": [
    "class Queue:\n",
    "    def __init__(self):\n",
    "        self.items = []\n",
    "        \n",
    "    def __str__(self):\n",
    "        values = [str(x) for x in self.items]\n",
    "        return \" \".join(values)\n",
    "    \n",
    "    # isEmpty Function to check the que is empty \n",
    "    def isEmpty(self):\n",
    "        if self.items == []:\n",
    "            return True\n",
    "        else:\n",
    "            return False\n",
    "        \n",
    "# Example \n",
    "\n",
    "tempQueue = Queue()\n",
    "print(tempQueue.isEmpty())"
   ]
  },
  {
   "cell_type": "markdown",
   "id": "7198dcb5",
   "metadata": {},
   "source": [
    "`O(1) is the time complexity as it takes a constant time for initialization and space complexity is O(1) as no additional memory is required.`\n",
    "\n",
    "### 2. enqueue\n",
    "\n",
    "`The enqueue function is used to insert elements at the end of a given queue. We use the built-in function on the list data structure to implement the same.`"
   ]
  },
  {
   "cell_type": "code",
   "execution_count": 26,
   "id": "1d8329bd",
   "metadata": {},
   "outputs": [
    {
     "name": "stdout",
     "output_type": "stream",
     "text": [
      "1 2 3\n"
     ]
    }
   ],
   "source": [
    "class Queue:\n",
    "    def __init__(self):\n",
    "        self.items = []\n",
    "        \n",
    "    def __str__(self):\n",
    "        \n",
    "        values = [str(x) for x in self.items]\n",
    "        return \" \".join(values)\n",
    "    \n",
    "    # isEmpty method to check wether queue is empty or not\n",
    "    def isEmpty(self):\n",
    "        if self.items == []:\n",
    "            return True \n",
    "        else:\n",
    "            return False\n",
    "    # enqueue Function to insert elements\n",
    "    def enqueue(self, value):\n",
    "        self.items.append(value)\n",
    "        return \"The element is successfully inserted at the end of the Queue!\"\n",
    "    \n",
    "        \n",
    "\n",
    "\n",
    "\n",
    "#Example\n",
    "tempQueue = Queue()\n",
    "tempQueue.enqueue(1)\n",
    "tempQueue.enqueue(2)\n",
    "tempQueue.enqueue(3)\n",
    "print(tempQueue)\n"
   ]
  },
  {
   "cell_type": "markdown",
   "id": "3751fede",
   "metadata": {},
   "source": [
    "### 3. dequeue\n",
    "`The dequeue function is used to delete elements from the beginning of a given queue. This function is implemented by using the in-built pop function of the list data structure.`"
   ]
  },
  {
   "cell_type": "code",
   "execution_count": 27,
   "id": "819382bd",
   "metadata": {},
   "outputs": [
    {
     "name": "stdout",
     "output_type": "stream",
     "text": [
      "2 3\n"
     ]
    }
   ],
   "source": [
    "class Queue:\n",
    "    def __init__(self):\n",
    "        self.items = []\n",
    "        \n",
    "    def __str__(self):\n",
    "        \n",
    "        values = [str(x) for x in self.items]\n",
    "        return \" \".join(values)\n",
    "    \n",
    "    # isEmpty method to check wether queue is empty or not\n",
    "    def isEmpty(self):\n",
    "        if self.items == []:\n",
    "            return True \n",
    "        else:\n",
    "            return False\n",
    "    # enqueue Function to insert elements\n",
    "    def enqueue(self, value):\n",
    "        self.items.append(value)\n",
    "        return \"The element is successfully inserted at the end of the Queue!\"\n",
    "    \n",
    "    # dequeue Function to remove the elements\n",
    "    def dequeue(self):\n",
    "        if self.isEmpty():\n",
    "            return \"Queue is empty!\"\n",
    "        else:\n",
    "            return self.items.pop(0)\n",
    "          \n",
    "        \n",
    "    \n",
    "        \n",
    "\n",
    "\n",
    "#Example\n",
    "tempQueue = Queue()\n",
    "tempQueue.enqueue(1)\n",
    "tempQueue.enqueue(2)\n",
    "tempQueue.enqueue(3)\n",
    "tempQueue.dequeue()\n",
    "print(tempQueue)"
   ]
  },
  {
   "cell_type": "markdown",
   "id": "7e90fe3d",
   "metadata": {},
   "source": [
    "### 4. peek\n",
    "\n",
    "`The peek function returns the topmost element of the queue without deleting it. This is accomplished by indexing the given list and returning the first element.`"
   ]
  },
  {
   "cell_type": "code",
   "execution_count": 29,
   "id": "af2085d7",
   "metadata": {},
   "outputs": [
    {
     "name": "stdout",
     "output_type": "stream",
     "text": [
      "Peek element : \n",
      "1\n",
      "Queue: \n",
      "1 2 3\n"
     ]
    }
   ],
   "source": [
    "class Queue:\n",
    "    def __init__(self):\n",
    "        self.items = []\n",
    "        \n",
    "    def __str__(self):\n",
    "        \n",
    "        values = [str(x) for x in self.items]\n",
    "        return \" \".join(values)\n",
    "    \n",
    "    # isEmpty method to check wether queue is empty or not\n",
    "    def isEmpty(self):\n",
    "        if self.items == []:\n",
    "            return True \n",
    "        else:\n",
    "            return False\n",
    "    # enqueue Function to insert elements\n",
    "    def enqueue(self, value):\n",
    "        self.items.append(value)\n",
    "        return \"The element is successfully inserted at the end of the Queue!\"\n",
    "    \n",
    "    # dequeue Function to remove the elements\n",
    "    def dequeue(self):\n",
    "        if self.isEmpty():\n",
    "            return \"Queue is empty!\"\n",
    "        else:\n",
    "            return self.items.pop(0)\n",
    "        \n",
    "    # peek Function to return the topmost element\n",
    "    def peek(self):\n",
    "        if self.isEmpty():\n",
    "            return \"There is no elements in the Queue!\"\n",
    "        else:\n",
    "            return self.items[0]\n",
    "        \n",
    "        \n",
    "          \n",
    "        \n",
    "    \n",
    "        \n",
    "\n",
    "\n",
    "#Example\n",
    "tempQueue = Queue()\n",
    "tempQueue.enqueue(1)\n",
    "tempQueue.enqueue(2)\n",
    "tempQueue.enqueue(3)\n",
    "print(\"Peek element : \")\n",
    "print(tempQueue.peek())\n",
    "print(\"Queue: \")\n",
    "print(tempQueue)"
   ]
  },
  {
   "cell_type": "markdown",
   "id": "dc589f6d",
   "metadata": {},
   "source": [
    "### 4.  delete\n",
    "\n",
    "`The delete function is used to remove the entire queue. To delete the entire queue, we set the list to None and free up all the allocated space.`"
   ]
  },
  {
   "cell_type": "code",
   "execution_count": 31,
   "id": "d4ae841b",
   "metadata": {},
   "outputs": [
    {
     "name": "stdout",
     "output_type": "stream",
     "text": [
      "Peek element : \n",
      "1\n",
      "Queue: \n",
      "1 2 3\n",
      "Now going to delete entire Queue!\n"
     ]
    },
    {
     "ename": "TypeError",
     "evalue": "'NoneType' object is not iterable",
     "output_type": "error",
     "traceback": [
      "\u001b[1;31m---------------------------------------------------------------------------\u001b[0m",
      "\u001b[1;31mTypeError\u001b[0m                                 Traceback (most recent call last)",
      "Input \u001b[1;32mIn [31]\u001b[0m, in \u001b[0;36m<cell line: 59>\u001b[1;34m()\u001b[0m\n\u001b[0;32m     57\u001b[0m \u001b[38;5;28mprint\u001b[39m(\u001b[38;5;124m\"\u001b[39m\u001b[38;5;124mNow going to delete entire Queue!\u001b[39m\u001b[38;5;124m\"\u001b[39m)\n\u001b[0;32m     58\u001b[0m tempQueue\u001b[38;5;241m.\u001b[39mdelete()\n\u001b[1;32m---> 59\u001b[0m \u001b[38;5;28;43mprint\u001b[39;49m\u001b[43m(\u001b[49m\u001b[43mtempQueue\u001b[49m\u001b[43m)\u001b[49m\n",
      "Input \u001b[1;32mIn [31]\u001b[0m, in \u001b[0;36mQueue.__str__\u001b[1;34m(self)\u001b[0m\n\u001b[0;32m      5\u001b[0m \u001b[38;5;28;01mdef\u001b[39;00m \u001b[38;5;21m__str__\u001b[39m(\u001b[38;5;28mself\u001b[39m):\n\u001b[1;32m----> 7\u001b[0m     values \u001b[38;5;241m=\u001b[39m [\u001b[38;5;28mstr\u001b[39m(x) \u001b[38;5;28;01mfor\u001b[39;00m x \u001b[38;5;129;01min\u001b[39;00m \u001b[38;5;28mself\u001b[39m\u001b[38;5;241m.\u001b[39mitems]\n\u001b[0;32m      8\u001b[0m     \u001b[38;5;28;01mreturn\u001b[39;00m \u001b[38;5;124m\"\u001b[39m\u001b[38;5;124m \u001b[39m\u001b[38;5;124m\"\u001b[39m\u001b[38;5;241m.\u001b[39mjoin(values)\n",
      "\u001b[1;31mTypeError\u001b[0m: 'NoneType' object is not iterable"
     ]
    }
   ],
   "source": [
    "class Queue:\n",
    "    def __init__(self):\n",
    "        self.items = []\n",
    "        \n",
    "    def __str__(self):\n",
    "        \n",
    "        values = [str(x) for x in self.items]\n",
    "        return \" \".join(values)\n",
    "    \n",
    "    # isEmpty method to check wether queue is empty or not\n",
    "    def isEmpty(self):\n",
    "        if self.items == []:\n",
    "            return True \n",
    "        else:\n",
    "            return False\n",
    "    # enqueue Function to insert elements\n",
    "    def enqueue(self, value):\n",
    "        self.items.append(value)\n",
    "        return \"The element is successfully inserted at the end of the Queue!\"\n",
    "    \n",
    "    # dequeue Function to remove the elements\n",
    "    def dequeue(self):\n",
    "        if self.isEmpty():\n",
    "            return \"Queue is empty!\"\n",
    "        else:\n",
    "            return self.items.pop(0)\n",
    "        \n",
    "    # peek Function to return the topmost element\n",
    "    def peek(self):\n",
    "        if self.isEmpty():\n",
    "            return \"There is no elements in the Queue!\"\n",
    "        else:\n",
    "            return self.items[0]\n",
    "        \n",
    "    # delete Function to the entire queue\n",
    "    def delete(self):\n",
    "        self.items = None\n",
    "        \n",
    "        \n",
    "        \n",
    "        \n",
    "          \n",
    "        \n",
    "    \n",
    "        \n",
    "\n",
    "\n",
    "#Example\n",
    "tempQueue = Queue()\n",
    "tempQueue.enqueue(1)\n",
    "tempQueue.enqueue(2)\n",
    "tempQueue.enqueue(3)\n",
    "print(\"Peek element : \")\n",
    "print(tempQueue.peek())\n",
    "print(\"Queue: \")\n",
    "print(tempQueue)\n",
    "print(\"Now going to delete entire Queue!\")\n",
    "tempQueue.delete()\n",
    "print(tempQueue)"
   ]
  },
  {
   "cell_type": "markdown",
   "id": "c0d83c25",
   "metadata": {},
   "source": [
    "#### Time and Space Complexity for Operations on Queue built using List\n",
    "\n",
    "#### -----Time Complexity\tSpaceComplexity\n",
    "`Create Queue\t    O(1)\tO(1)\n",
    "Enqueue\t            O(n)\tO(1)\n",
    "Dequeue\t            O(n)\tO(1)\n",
    "Peek\t            O(1)\tO(1)\n",
    "isEmpty           \tO(1)\tO(1)\n",
    "Delete Entire Queue\tO(1)\tO(1)`\n",
    "\n",
    "\n",
    "### Creation of Queue using Linked List\n",
    "`In python, we can implement a queue by using a linked list as its inclusive data structure. The complexity of the data structure increases but operations such as insertion, deletion, traversal, etc. take significantly less amount of time to execute.`\n",
    "\n",
    "To create a queue using the linked list data structure, firstly we create the node and linked list class for our fundamental data structure. Then we initialize the “Queue” class which includes an instance of the linked list data structure."
   ]
  },
  {
   "cell_type": "code",
   "execution_count": 32,
   "id": "06cd3c94",
   "metadata": {},
   "outputs": [],
   "source": [
    "# Creating a Node class\n",
    "\n",
    "class Node:\n",
    "    def __init__(self, value = None):\n",
    "        self.value = value\n",
    "        self.next = None\n",
    "    \n",
    "    def __str__(self):\n",
    "        return str(self.value)\n",
    "    \n",
    "# creating the Linked List class\n",
    "class LinkedList:\n",
    "    def __init__(self):\n",
    "        self.head = None\n",
    "        self.tail = None\n",
    "        \n",
    "    # iterator Function \n",
    "    def __iter__(self):\n",
    "        \n",
    "        current_node = self.head\n",
    "        while current_node:\n",
    "            yield current_node\n",
    "            current_node = current_node.next\n",
    "            \n",
    "# Creating Queue class using list Linked list\n",
    "class Queue:\n",
    "    def __init__(self):\n",
    "        self.LinkedList = LinkedList()\n",
    "        \n",
    "    # modifying the __str__ function to return the desired string version of Queue\n",
    "    def __str__(self):\n",
    "        values = [str(x) for x in self.LinkedList]\n",
    "        return \" \".join(values)"
   ]
  },
  {
   "cell_type": "markdown",
   "id": "5ae36e6b",
   "metadata": {},
   "source": [
    "### 1. isEmpty\n",
    "\n",
    "`If the head node of the linked list is none, this indicates that the queue is empty. We return a True boolean value if the head node does not exist, otherwise False.`"
   ]
  },
  {
   "cell_type": "code",
   "execution_count": 33,
   "id": "6d8b9731",
   "metadata": {},
   "outputs": [
    {
     "name": "stdout",
     "output_type": "stream",
     "text": [
      "True\n"
     ]
    }
   ],
   "source": [
    "# Creating a Node class\n",
    "\n",
    "class Node:\n",
    "    def __init__(self, value = None):\n",
    "        self.value = value\n",
    "        self.next = None\n",
    "    \n",
    "    def __str__(self):\n",
    "        return str(self.value)\n",
    "    \n",
    "# creating the Linked List class\n",
    "class LinkedList:\n",
    "    def __init__(self):\n",
    "        self.head = None\n",
    "        self.tail = None\n",
    "        \n",
    "    # iterator Function \n",
    "    def __iter__(self):\n",
    "        \n",
    "        current_node = self.head\n",
    "        while current_node:\n",
    "            yield current_node\n",
    "            current_node = current_node.next\n",
    "            \n",
    "# Creating Queue class using list Linked list\n",
    "class Queue:\n",
    "    def __init__(self):\n",
    "        self.LinkedList = LinkedList()\n",
    "        \n",
    "    # modifying the __str__ function to return the desired string version of Queue\n",
    "    def __str__(self):\n",
    "        values = [str(x) for x in self.LinkedList]\n",
    "        return \" \".join(values)\n",
    "    \n",
    "    # isEmpty function to check wether the que is empty\n",
    "    def isEmpty(self):\n",
    "        if self.LinkedList.head == None:\n",
    "            return True\n",
    "        else:\n",
    "            return False\n",
    "        \n",
    "    \n",
    "\n",
    "#Example \n",
    "\n",
    "tempQueue = Queue()\n",
    "print(tempQueue.isEmpty())"
   ]
  },
  {
   "cell_type": "markdown",
   "id": "d9bc4e30",
   "metadata": {},
   "source": [
    "### 2. enqueue\n",
    "\n",
    "`New elements are inserted at the end of the linked list in a queue. Every time we insert a data item into the queue, the tail node points to the newly added node.`"
   ]
  },
  {
   "cell_type": "code",
   "execution_count": 37,
   "id": "2644a51f",
   "metadata": {},
   "outputs": [
    {
     "name": "stdout",
     "output_type": "stream",
     "text": [
      "1 10 20\n"
     ]
    }
   ],
   "source": [
    "# Creating a Node class\n",
    "\n",
    "class Node:\n",
    "    def __init__(self, value = None):\n",
    "        self.value = value\n",
    "        self.next = None\n",
    "    \n",
    "    def __str__(self):\n",
    "        return str(self.value)\n",
    "    \n",
    "# creating the Linked List class\n",
    "class LinkedList:\n",
    "    def __init__(self):\n",
    "        self.head = None\n",
    "        self.tail = None\n",
    "        \n",
    "    # iterator Function \n",
    "    def __iter__(self):\n",
    "        \n",
    "        current_node = self.head\n",
    "        while current_node:\n",
    "            yield current_node\n",
    "            current_node = current_node.next\n",
    "            \n",
    "# Creating Queue class using list Linked list\n",
    "class Queue:\n",
    "    def __init__(self):\n",
    "        self.LinkedList = LinkedList()\n",
    "        \n",
    "    # modifying the __str__ function to return the desired string version of Queue\n",
    "    def __str__(self):\n",
    "        values = [str(x) for x in self.LinkedList]\n",
    "        return \" \".join(values)\n",
    "    \n",
    "    # isEmpty function to check wether the que is empty\n",
    "    def isEmpty(self):\n",
    "        if self.LinkedList.head == None:\n",
    "            return True\n",
    "        else:\n",
    "            return False\n",
    "    \n",
    "    # enqueue Function to insert elements\n",
    "    \n",
    "    def enqueue(self, value):\n",
    "        new_node = Node(value)\n",
    "        if self.LinkedList.head == None:\n",
    "            self.LinkedList.head = new_node\n",
    "            self.LinkedList.tail = new_node\n",
    "        else:\n",
    "            self.LinkedList.tail.next = new_node\n",
    "            self.LinkedList.tail = new_node\n",
    "            \n",
    "        \n",
    "    \n",
    "\n",
    "#Example \n",
    "\n",
    "tempQueue = Queue()\n",
    "tempQueue.enqueue(1)\n",
    "# print(tempQueue.isEmpty())\n",
    "tempQueue.enqueue(10)\n",
    "tempQueue.enqueue(20)\n",
    "print(tempQueue)"
   ]
  },
  {
   "cell_type": "markdown",
   "id": "e0396b7d",
   "metadata": {},
   "source": [
    "### 3. dequeue :\n",
    "\n",
    "`The elements are removed from the queue with the help of the head reference. The head node always points to the element at the top of the queue, which needs to be removed.'"
   ]
  },
  {
   "cell_type": "code",
   "execution_count": 40,
   "id": "8c54ceb3",
   "metadata": {},
   "outputs": [
    {
     "name": "stdout",
     "output_type": "stream",
     "text": [
      "1 10 20\n",
      "Peek element : \n",
      "1\n"
     ]
    }
   ],
   "source": [
    "# Creating a Node class\n",
    "\n",
    "class Node:\n",
    "    def __init__(self, value = None):\n",
    "        self.value = value\n",
    "        self.next = None\n",
    "    \n",
    "    def __str__(self):\n",
    "        return str(self.value)\n",
    "    \n",
    "# creating the Linked List class\n",
    "class LinkedList:\n",
    "    def __init__(self):\n",
    "        self.head = None\n",
    "        self.tail = None\n",
    "        \n",
    "    # iterator Function \n",
    "    def __iter__(self):\n",
    "        \n",
    "        current_node = self.head\n",
    "        while current_node:\n",
    "            yield current_node\n",
    "            current_node = current_node.next\n",
    "            \n",
    "# Creating Queue class using list Linked list\n",
    "class Queue:\n",
    "    def __init__(self):\n",
    "        self.LinkedList = LinkedList()\n",
    "        \n",
    "    # modifying the __str__ function to return the desired string version of Queue\n",
    "    def __str__(self):\n",
    "        values = [str(x) for x in self.LinkedList]\n",
    "        return \" \".join(values)\n",
    "    \n",
    "    # isEmpty function to check wether the que is empty\n",
    "    def isEmpty(self):\n",
    "        if self.LinkedList.head == None:\n",
    "            return True\n",
    "        else:\n",
    "            return False\n",
    "    \n",
    "    # enqueue Function to insert elements\n",
    "    \n",
    "    def enqueue(self, value):\n",
    "        new_node = Node(value)\n",
    "        if self.LinkedList.head == None:\n",
    "            self.LinkedList.head = new_node\n",
    "            self.LinkedList.tail = new_node\n",
    "        else:\n",
    "            self.LinkedList.tail.next = new_node\n",
    "            self.LinkedList.tail = new_node\n",
    "    \n",
    "    # dequeue Function to reomve elements\n",
    "    def dequeue(self):\n",
    "        if self.isEmpty():\n",
    "            return \"Queue is empty!\"\n",
    "        else:\n",
    "            temp_node = self.LinkedList.head\n",
    "            if self.LinkedList.head == self.LinkedList.tail: # means when only one value present in LL\n",
    "                self.LinkedList.head = None\n",
    "                self.LinkedList.tail = None\n",
    "            else:\n",
    "                self.LinkedList.head = self.LinkedList.head.next\n",
    "                return temp_node\n",
    "    \n",
    "    \n",
    "\n",
    "#Example \n",
    "\n",
    "tempQueue = Queue()\n",
    "tempQueue.enqueue(1)\n",
    "# print(tempQueue.isEmpty())\n",
    "tempQueue.enqueue(10)\n",
    "tempQueue.enqueue(20)\n",
    "# tempQueue.dequeue()\n",
    "print(tempQueue)\n",
    "print(\"Peek element : \")\n",
    "print(tempQueue.peek())"
   ]
  },
  {
   "cell_type": "markdown",
   "id": "1832e8d5",
   "metadata": {},
   "source": [
    "### 4. peek :\n",
    "\n",
    "`The peek function returns the topmost element in a queue. Thus, we simply return the head node of the linked list, pointing to the beginning of the queue.`"
   ]
  },
  {
   "cell_type": "code",
   "execution_count": 41,
   "id": "dd90e7b8",
   "metadata": {},
   "outputs": [
    {
     "name": "stdout",
     "output_type": "stream",
     "text": [
      "1 10 20\n",
      "Peek element : \n",
      "1\n"
     ]
    }
   ],
   "source": [
    "# Creating a Node class\n",
    "\n",
    "class Node:\n",
    "    def __init__(self, value = None):\n",
    "        self.value = value\n",
    "        self.next = None\n",
    "    \n",
    "    def __str__(self):\n",
    "        return str(self.value)\n",
    "    \n",
    "# creating the Linked List class\n",
    "class LinkedList:\n",
    "    def __init__(self):\n",
    "        self.head = None\n",
    "        self.tail = None\n",
    "        \n",
    "    # iterator Function \n",
    "    def __iter__(self):\n",
    "        \n",
    "        current_node = self.head\n",
    "        while current_node:\n",
    "            yield current_node\n",
    "            current_node = current_node.next\n",
    "            \n",
    "# Creating Queue class using list Linked list\n",
    "class Queue:\n",
    "    def __init__(self):\n",
    "        self.LinkedList = LinkedList()\n",
    "        \n",
    "    # modifying the __str__ function to return the desired string version of Queue\n",
    "    def __str__(self):\n",
    "        values = [str(x) for x in self.LinkedList]\n",
    "        return \" \".join(values)\n",
    "    \n",
    "    # isEmpty function to check wether the que is empty\n",
    "    def isEmpty(self):\n",
    "        if self.LinkedList.head == None:\n",
    "            return True\n",
    "        else:\n",
    "            return False\n",
    "    \n",
    "    # enqueue Function to insert elements\n",
    "    \n",
    "    def enqueue(self, value):\n",
    "        new_node = Node(value)\n",
    "        if self.LinkedList.head == None:\n",
    "            self.LinkedList.head = new_node\n",
    "            self.LinkedList.tail = new_node\n",
    "        else:\n",
    "            self.LinkedList.tail.next = new_node\n",
    "            self.LinkedList.tail = new_node\n",
    "    \n",
    "    # dequeue Function to reomve elements\n",
    "    def dequeue(self):\n",
    "        if self.isEmpty():\n",
    "            return \"Queue is empty!\"\n",
    "        else:\n",
    "            temp_node = self.LinkedList.head\n",
    "            if self.LinkedList.head == self.LinkedList.tail: # means when only one value present in LL\n",
    "                self.LinkedList.head = None\n",
    "                self.LinkedList.tail = None\n",
    "            else:\n",
    "                self.LinkedList.head = self.LinkedList.head.next\n",
    "                return temp_node\n",
    "    \n",
    "    # peek Function to return the topmost element\n",
    "    def peek(self):\n",
    "        if self.isEmpty():\n",
    "            return \"The Queue does exist!\"\n",
    "        else:\n",
    "            return self.LinkedList.head\n",
    "        \n",
    "            \n",
    "        \n",
    "\n",
    "#Example \n",
    "\n",
    "tempQueue = Queue()\n",
    "tempQueue.enqueue(1)\n",
    "# print(tempQueue.isEmpty())\n",
    "tempQueue.enqueue(10)\n",
    "tempQueue.enqueue(20)\n",
    "# tempQueue.dequeue()\n",
    "print(tempQueue)\n",
    "print(\"Peek element : \")\n",
    "print(tempQueue.peek())"
   ]
  },
  {
   "cell_type": "markdown",
   "id": "4f6bb35f",
   "metadata": {},
   "source": [
    "### 5. delete\n",
    "\n",
    "`To delete an entire queue built using a linked list, we set the head and tail references to None and free up the memory space.`"
   ]
  },
  {
   "cell_type": "code",
   "execution_count": 43,
   "id": "f39a6d0b",
   "metadata": {},
   "outputs": [
    {
     "name": "stdout",
     "output_type": "stream",
     "text": [
      "1 10 20\n",
      "Peek element : \n",
      "1\n",
      "The Queue does exist!\n"
     ]
    }
   ],
   "source": [
    "# Creating a Node class\n",
    "\n",
    "class Node:\n",
    "    def __init__(self, value = None):\n",
    "        self.value = value\n",
    "        self.next = None\n",
    "    \n",
    "    def __str__(self):\n",
    "        return str(self.value)\n",
    "    \n",
    "# creating the Linked List class\n",
    "class LinkedList:\n",
    "    def __init__(self):\n",
    "        self.head = None\n",
    "        self.tail = None\n",
    "        \n",
    "    # iterator Function \n",
    "    def __iter__(self):\n",
    "        \n",
    "        current_node = self.head\n",
    "        while current_node:\n",
    "            yield current_node\n",
    "            current_node = current_node.next\n",
    "            \n",
    "# Creating Queue class using list Linked list\n",
    "class Queue:\n",
    "    def __init__(self):\n",
    "        self.LinkedList = LinkedList()\n",
    "        \n",
    "    # modifying the __str__ function to return the desired string version of Queue\n",
    "    def __str__(self):\n",
    "        values = [str(x) for x in self.LinkedList]\n",
    "        return \" \".join(values)\n",
    "    \n",
    "    # isEmpty function to check wether the que is empty\n",
    "    def isEmpty(self):\n",
    "        if self.LinkedList.head == None:\n",
    "            return True\n",
    "        else:\n",
    "            return False\n",
    "    \n",
    "    # enqueue Function to insert elements\n",
    "    \n",
    "    def enqueue(self, value):\n",
    "        new_node = Node(value)\n",
    "        if self.LinkedList.head == None:\n",
    "            self.LinkedList.head = new_node\n",
    "            self.LinkedList.tail = new_node\n",
    "        else:\n",
    "            self.LinkedList.tail.next = new_node\n",
    "            self.LinkedList.tail = new_node\n",
    "    \n",
    "    # dequeue Function to reomve elements\n",
    "    def dequeue(self):\n",
    "        if self.isEmpty():\n",
    "            return \"Queue is empty!\"\n",
    "        else:\n",
    "            temp_node = self.LinkedList.head\n",
    "            if self.LinkedList.head == self.LinkedList.tail: # means when only one value present in LL\n",
    "                self.LinkedList.head = None\n",
    "                self.LinkedList.tail = None\n",
    "            else:\n",
    "                self.LinkedList.head = self.LinkedList.head.next\n",
    "                return temp_node\n",
    "    \n",
    "    # peek Function to return the topmost element\n",
    "    def peek(self):\n",
    "        if self.isEmpty():\n",
    "            return \"The Queue does exist!\"\n",
    "        else:\n",
    "            return self.LinkedList.head\n",
    "    \n",
    "    # delete Function to the qntire Queue\n",
    "    def delete(self):\n",
    "        self.LinkedList.head = None\n",
    "        self.LinkedList.tail = None\n",
    "        \n",
    "            \n",
    "        \n",
    "\n",
    "#Example \n",
    "\n",
    "tempQueue = Queue()\n",
    "tempQueue.enqueue(1)\n",
    "# print(tempQueue.isEmpty())\n",
    "tempQueue.enqueue(10)\n",
    "tempQueue.enqueue(20)\n",
    "# tempQueue.dequeue()\n",
    "print(tempQueue)\n",
    "print(\"Peek element : \")\n",
    "print(tempQueue.peek())\n",
    "tempQueue.delete()\n",
    "print(tempQueue.peek())"
   ]
  },
  {
   "cell_type": "markdown",
   "id": "6d6979b4",
   "metadata": {},
   "source": [
    "#### Time and Space complexity of Operations on Queue built using Linked List\n",
    "#### ------------------------ Time Complexity\t-----SpaceComplexity\n",
    "`Create Queue\t        O(1)\tO(1)\n",
    "Enqueue\t                O(n)\tO(1)\n",
    "Dequeue\t                O(n)\tO(1)\n",
    "Peek\t                O(1)\tO(1)\n",
    "isEmpty\t                O(1)\tO(1)\n",
    "Delete Entire Queue\t    O(1)\tO(1)`\n",
    "\n",
    "\n",
    "\n",
    "### Circular Queue creation :\n",
    "\n",
    "\n",
    "`A circular queue is an extension of the regular queue data structure where the last element is connected to the first element. This forms a circle-like structure.`\n",
    "\n",
    "The circular queue solves the limitations of the normal queue. `In a normal queue, there will be non-usable space after a few insertions and deletions. However, in a circular queue, the size is limited and insertion and deletion become much more efficient.`\n",
    "\n",
    "#### The circular queue works in the following manner:\n",
    "\n",
    "*  Two pointers `Front` and `Rear.`\n",
    "\n",
    "\n",
    "*  `Front` keeps track of the first element of the queue.\n",
    "\n",
    "\n",
    "*  `Rear` keeps track of the last element of the queue.\n",
    "\n",
    "\n",
    "*  The values of `Front` and `Rear` are initially set to -1.\n",
    "\n"
   ]
  },
  {
   "cell_type": "code",
   "execution_count": 45,
   "id": "d569483a",
   "metadata": {},
   "outputs": [
    {
     "data": {
      "text/plain": [
       "[1, 2, 3, 1, 2, 3, 1, 2, 3]"
      ]
     },
     "execution_count": 45,
     "metadata": {},
     "output_type": "execute_result"
    }
   ],
   "source": [
    "new = 3*[1,2,3]\n",
    "new"
   ]
  },
  {
   "cell_type": "code",
   "execution_count": 46,
   "id": "ecab5ae1",
   "metadata": {},
   "outputs": [
    {
     "data": {
      "text/plain": [
       "[None, None, None]"
      ]
     },
     "execution_count": 46,
     "metadata": {},
     "output_type": "execute_result"
    }
   ],
   "source": [
    "new = 3*[None]\n",
    "new"
   ]
  },
  {
   "cell_type": "code",
   "execution_count": 47,
   "id": "24bc5bf5",
   "metadata": {},
   "outputs": [],
   "source": [
    "# Creating Circular Queue class\n",
    "\n",
    "class CQueue:\n",
    "    def __init__(self, maxSize):\n",
    "        self.items = maxSize * [None]\n",
    "        self.maxSize = maxSize\n",
    "        self.front = -1\n",
    "        self.rear = -1\n",
    "        \n",
    "    # Modifying the __str__ function to return the desired string version of circular Queue.\n",
    "    def __str__(self):\n",
    "        values = [str(x) for x in self.items]\n",
    "        return \" \".join(values)\n",
    "    "
   ]
  },
  {
   "cell_type": "markdown",
   "id": "641fe89f",
   "metadata": {},
   "source": [
    "### Operations on Circular Queue\n",
    "\n",
    "### 1. isFull\n",
    "\n",
    "`The isFull function is used to check whether the circular queue is fully occupied or not. We return a boolean value of True if the max occupancy of the circular queue has been reached, otherwise False.`"
   ]
  },
  {
   "cell_type": "code",
   "execution_count": 49,
   "id": "bc8ce8d4",
   "metadata": {},
   "outputs": [
    {
     "name": "stdout",
     "output_type": "stream",
     "text": [
      "False\n"
     ]
    }
   ],
   "source": [
    "# Creating Circular Queue class\n",
    "\n",
    "class CQueue:\n",
    "    def __init__(self, maxSize):\n",
    "        self.items = maxSize * [None]\n",
    "        self.maxSize = maxSize\n",
    "        self.front = -1\n",
    "        self.rear = -1\n",
    "        \n",
    "    # Modifying the __str__ function to return the desired string version of circular Queue.\n",
    "    def __str__(self):\n",
    "        values = [str(x) for x in self.items]\n",
    "        return \" \".join(values)\n",
    "    \n",
    "    # isFull function to check whether the queue is Full or not\n",
    "    def isFull(self):\n",
    "        if self.rear + 1 == self.front:\n",
    "            return True\n",
    "        \n",
    "        elif self.front == 0 and self.rear + 1 ==self.maxSize:\n",
    "            return True\n",
    "        else:\n",
    "            return False\n",
    "        \n",
    "        \n",
    "# Example \n",
    "\n",
    "tempQueue = CQueue(3)\n",
    "print(tempQueue.isFull())"
   ]
  },
  {
   "cell_type": "markdown",
   "id": "9754f2d3",
   "metadata": {},
   "source": [
    "### 2. isEmpty\n",
    "\n",
    "`The isEmpty function is used to check whether the given circular queue is empty or not. If there are no elements in the queue, we return a boolean value of True, otherwise False.`"
   ]
  },
  {
   "cell_type": "code",
   "execution_count": 52,
   "id": "501e7ec7",
   "metadata": {},
   "outputs": [
    {
     "name": "stdout",
     "output_type": "stream",
     "text": [
      "True\n"
     ]
    }
   ],
   "source": [
    "# Creating Circular Queue class\n",
    "\n",
    "class CQueue:\n",
    "    def __init__(self, maxSize):\n",
    "        self.items = maxSize * [None]\n",
    "        self.maxSize = maxSize\n",
    "        self.front = -1\n",
    "        self.rear = -1\n",
    "        \n",
    "    # Modifying the __str__ function to return the desired string version of circular Queue.\n",
    "    def __str__(self):\n",
    "        values = [str(x) for x in self.items]\n",
    "        return \" \".join(values)\n",
    "    \n",
    "    # isFull function to check whether the queue is Full or not\n",
    "    def isFull(self):\n",
    "        if self.rear + 1 == self.front:\n",
    "            return True\n",
    "        \n",
    "        elif self.front == 0 and self.rear + 1 ==self.maxSize:\n",
    "            return True\n",
    "        else:\n",
    "            return False\n",
    "        \n",
    "    # isEmpty function to check whether the queue is empty or not\n",
    "    def isEmpty(self):\n",
    "        if self.front == -1:\n",
    "            return True\n",
    "        else:\n",
    "            return False\n",
    "        \n",
    "        \n",
    "# Example \n",
    "\n",
    "tempQueue = CQueue(3)\n",
    "print(tempQueue.isEmpty())"
   ]
  },
  {
   "cell_type": "markdown",
   "id": "e9366575",
   "metadata": {},
   "source": [
    "### 3. enqueue\n",
    "\n",
    "\n",
    "`The enqueue function is used to insert elements at the end of a circular queue. If the max size of the queue has been reached, we terminate the process of insertion. After insertion, the newly added last element and the first element are connected via pointers to satisfy the property of the circular queue.`"
   ]
  },
  {
   "cell_type": "code",
   "execution_count": 60,
   "id": "d552f241",
   "metadata": {},
   "outputs": [
    {
     "name": "stdout",
     "output_type": "stream",
     "text": [
      "Enqueue operation : \n",
      "The circular queue is Full\n",
      "\n",
      "Circular Queue : \n",
      "1 2 3\n",
      "\n",
      "Checking Full : \n",
      "True\n",
      "\n",
      "Checking Empty : \n",
      "False\n"
     ]
    }
   ],
   "source": [
    "# Creating Circular Queue class\n",
    "\n",
    "class CQueue:\n",
    "    def __init__(self, maxSize):\n",
    "        self.items = maxSize * [None]\n",
    "        self.maxSize = maxSize\n",
    "        self.front = -1\n",
    "        self.rear = -1\n",
    "        \n",
    "    # Modifying the __str__ function to return the desired string version of circular Queue.\n",
    "    def __str__(self):\n",
    "        values = [str(x) for x in self.items]\n",
    "        return \" \".join(values)\n",
    "    \n",
    "    # isFull function to check whether the queue is Full or not\n",
    "    def isFull(self):\n",
    "        if self.rear + 1 == self.front:\n",
    "            return True\n",
    "        \n",
    "        elif self.front == 0 and self.rear + 1 ==self.maxSize:\n",
    "            return True\n",
    "        else:\n",
    "            return False\n",
    "        \n",
    "    # isEmpty function to check whether the queue is empty or not\n",
    "    def isEmpty(self):\n",
    "        if self.front == -1:\n",
    "            return True\n",
    "        else:\n",
    "            return False\n",
    "        \n",
    "    # enqueue function to insert elements\n",
    "    def enqueue(self, value):\n",
    "        if self.isFull():\n",
    "            return \"The circular queue is Full\"\n",
    "        else:\n",
    "            if self.rear + 1 == self.maxSize:\n",
    "                self.rear = 0\n",
    "            else:\n",
    "                self.rear += 1\n",
    "                if self.front == -1:\n",
    "                    self.front = 0\n",
    "                    \n",
    "            self.items[self.rear] = value\n",
    "            return \"The element is successfully inserted at the end of the Circular Queue!\"\n",
    "        \n",
    "        \n",
    "        \n",
    "# Example \n",
    "\n",
    "tempQueue = CQueue(3)\n",
    "\n",
    "#Example\n",
    "tempQueue = CQueue(3)\n",
    "tempQueue.enqueue(1)\n",
    "tempQueue.enqueue(2)\n",
    "tempQueue.enqueue(3)\n",
    "print(\"Enqueue operation : \")\n",
    "print(tempQueue.enqueue(4))\n",
    "print()\n",
    "print(\"Circular Queue : \")\n",
    "print(tempQueue)\n",
    "print()\n",
    "print(\"Checking Full : \")\n",
    "print(tempQueue.isFull())\n",
    "print()\n",
    "print(\"Checking Empty : \")\n",
    "print(tempQueue.isEmpty())"
   ]
  },
  {
   "cell_type": "markdown",
   "id": "20654a70",
   "metadata": {},
   "source": [
    "### 4. dequeue\n",
    "\n",
    "\n",
    "`The dequeue function is used to delete elements from the beginning of a circular queue. After deletion of the head node, we set the head pointer to the next node in the queue and interconnect it with the last element.`"
   ]
  },
  {
   "cell_type": "code",
   "execution_count": 62,
   "id": "5bd85d96",
   "metadata": {},
   "outputs": [
    {
     "name": "stdout",
     "output_type": "stream",
     "text": [
      "Enqueue operation : \n",
      "The circular queue is Full\n",
      "\n",
      "Circular Queue : \n",
      "1 2 3\n",
      "\n",
      "Checking Full : \n",
      "True\n",
      "\n",
      "Checking Empty : \n",
      "False\n",
      "dequeue operations :\n",
      "1\n",
      "after dequeue Circular Queue: \n",
      "None 2 3\n"
     ]
    }
   ],
   "source": [
    "# Creating Circular Queue class\n",
    "\n",
    "class CQueue:\n",
    "    def __init__(self, maxSize):\n",
    "        self.items = maxSize * [None]\n",
    "        self.maxSize = maxSize\n",
    "        self.front = -1\n",
    "        self.rear = -1\n",
    "        \n",
    "    # Modifying the __str__ function to return the desired string version of circular Queue.\n",
    "    def __str__(self):\n",
    "        values = [str(x) for x in self.items]\n",
    "        return \" \".join(values)\n",
    "    \n",
    "    # isFull function to check whether the queue is Full or not\n",
    "    def isFull(self):\n",
    "        if self.rear + 1 == self.front:\n",
    "            return True\n",
    "        \n",
    "        elif self.front == 0 and self.rear + 1 ==self.maxSize:\n",
    "            return True\n",
    "        else:\n",
    "            return False\n",
    "        \n",
    "    # isEmpty function to check whether the queue is empty or not\n",
    "    def isEmpty(self):\n",
    "        if self.front == -1:\n",
    "            return True\n",
    "        else:\n",
    "            return False\n",
    "        \n",
    "    # enqueue function to insert elements\n",
    "    def enqueue(self, value):\n",
    "        if self.isFull():\n",
    "            return \"The circular queue is Full\"\n",
    "        else:\n",
    "            if self.rear + 1 == self.maxSize:\n",
    "                self.rear = 0\n",
    "            else:\n",
    "                self.rear += 1\n",
    "                if self.front == -1:\n",
    "                    self.front = 0\n",
    "                    \n",
    "            self.items[self.rear] = value\n",
    "            return \"The element is successfully inserted at the end of the Circular Queue!\"\n",
    "    \n",
    "    # dequeue fuction to delete elements\n",
    "    def dequeue(self):\n",
    "        if self.isEmpty():\n",
    "            return \"The circular queue is empty.\"\n",
    "    \n",
    "        else:\n",
    "            firstElement = self.items[self.front]\n",
    "            front = self.front\n",
    "            if self.front == self.rear:\n",
    "                self.front = -1\n",
    "                self.rear = -1\n",
    "            elif self.front + 1 == self.maxSize:\n",
    "                self.front = 0\n",
    "            else:\n",
    "                self.front += 1\n",
    "            self.items[front] = None\n",
    "            return firstElement\n",
    "        \n",
    "# Example \n",
    "\n",
    "tempQueue = CQueue(3)\n",
    "\n",
    "#Example\n",
    "tempQueue = CQueue(3)\n",
    "tempQueue.enqueue(1)\n",
    "tempQueue.enqueue(2)\n",
    "tempQueue.enqueue(3)\n",
    "print(\"Enqueue operation : \")\n",
    "print(tempQueue.enqueue(4))\n",
    "print()\n",
    "print(\"Circular Queue : \")\n",
    "print(tempQueue)\n",
    "print()\n",
    "print(\"Checking Full : \")\n",
    "print(tempQueue.isFull())\n",
    "print()\n",
    "print(\"Checking Empty : \")\n",
    "print(tempQueue.isEmpty())\n",
    "print(\"dequeue operations :\")\n",
    "print(tempQueue.dequeue())\n",
    "print(\"after dequeue Circular Queue: \")\n",
    "print(tempQueue)"
   ]
  },
  {
   "cell_type": "markdown",
   "id": "bfe93eed",
   "metadata": {},
   "source": [
    "### 5. peek\n",
    "\n",
    "`The peek function is used to return the topmost element of the queue. In the circular queue, we do this by simply printing the value of the front node.`\n",
    "\n"
   ]
  },
  {
   "cell_type": "code",
   "execution_count": 63,
   "id": "8e28d904",
   "metadata": {},
   "outputs": [
    {
     "name": "stdout",
     "output_type": "stream",
     "text": [
      "Enqueue operation : \n",
      "The circular queue is Full\n",
      "\n",
      "Circular Queue : \n",
      "1 2 3\n",
      "\n",
      "Checking Full : \n",
      "True\n",
      "\n",
      "Checking Empty : \n",
      "False\n",
      "dequeue operations :\n",
      "1\n",
      "after dequeue Circular Queue: \n",
      "None 2 3\n",
      "Peek element : \n",
      "2\n"
     ]
    }
   ],
   "source": [
    "# Creating Circular Queue class\n",
    "\n",
    "class CQueue:\n",
    "    def __init__(self, maxSize):\n",
    "        self.items = maxSize * [None]\n",
    "        self.maxSize = maxSize\n",
    "        self.front = -1\n",
    "        self.rear = -1\n",
    "        \n",
    "    # Modifying the __str__ function to return the desired string version of circular Queue.\n",
    "    def __str__(self):\n",
    "        values = [str(x) for x in self.items]\n",
    "        return \" \".join(values)\n",
    "    \n",
    "    # isFull function to check whether the queue is Full or not\n",
    "    def isFull(self):\n",
    "        if self.rear + 1 == self.front:\n",
    "            return True\n",
    "        \n",
    "        elif self.front == 0 and self.rear + 1 ==self.maxSize:\n",
    "            return True\n",
    "        else:\n",
    "            return False\n",
    "        \n",
    "    # isEmpty function to check whether the queue is empty or not\n",
    "    def isEmpty(self):\n",
    "        if self.front == -1:\n",
    "            return True\n",
    "        else:\n",
    "            return False\n",
    "        \n",
    "    # enqueue function to insert elements\n",
    "    def enqueue(self, value):\n",
    "        if self.isFull():\n",
    "            return \"The circular queue is Full\"\n",
    "        else:\n",
    "            if self.rear + 1 == self.maxSize:\n",
    "                self.rear = 0\n",
    "            else:\n",
    "                self.rear += 1\n",
    "                if self.front == -1:\n",
    "                    self.front = 0\n",
    "                    \n",
    "            self.items[self.rear] = value\n",
    "            return \"The element is successfully inserted at the end of the Circular Queue!\"\n",
    "    \n",
    "    # dequeue fuction to delete elements\n",
    "    def dequeue(self):\n",
    "        if self.isEmpty():\n",
    "            return \"The circular queue is empty.\"\n",
    "    \n",
    "        else:\n",
    "            firstElement = self.items[self.front]\n",
    "            front = self.front\n",
    "            if self.front == self.rear:\n",
    "                self.front = -1\n",
    "                self.rear = -1\n",
    "            elif self.front + 1 == self.maxSize:\n",
    "                self.front = 0\n",
    "            else:\n",
    "                self.front += 1\n",
    "            self.items[front] = None\n",
    "            return firstElement\n",
    "        \n",
    "    # peek function to return the topmost element\n",
    "    def peek(self):\n",
    "        if self.isEmpty():\n",
    "            return \"There is not any element in the Queue\"\n",
    "        else:\n",
    "            return self.items[self.front]\n",
    "        \n",
    "        \n",
    "# Example \n",
    "\n",
    "tempQueue = CQueue(3)\n",
    "\n",
    "#Example\n",
    "tempQueue = CQueue(3)\n",
    "tempQueue.enqueue(1)\n",
    "tempQueue.enqueue(2)\n",
    "tempQueue.enqueue(3)\n",
    "print(\"Enqueue operation : \")\n",
    "print(tempQueue.enqueue(4))\n",
    "print()\n",
    "print(\"Circular Queue : \")\n",
    "print(tempQueue)\n",
    "print()\n",
    "print(\"Checking Full : \")\n",
    "print(tempQueue.isFull())\n",
    "print()\n",
    "print(\"Checking Empty : \")\n",
    "print(tempQueue.isEmpty())\n",
    "print(\"dequeue operations :\")\n",
    "print(tempQueue.dequeue())\n",
    "print(\"after dequeue Circular Queue: \")\n",
    "print(tempQueue)\n",
    "\n",
    "print(\"Peek element : \")\n",
    "print(tempQueue.peek())"
   ]
  },
  {
   "cell_type": "markdown",
   "id": "cad90d73",
   "metadata": {},
   "source": [
    "### 6. delete\n",
    "`To delete an entire circular queue, we set the front and rear references of the linked list to None. Hence, we free up the allocated space in memory.`"
   ]
  },
  {
   "cell_type": "code",
   "execution_count": 64,
   "id": "b7f76d11",
   "metadata": {},
   "outputs": [
    {
     "name": "stdout",
     "output_type": "stream",
     "text": [
      "Enqueue operation : \n",
      "The circular queue is Full\n",
      "\n",
      "Circular Queue : \n",
      "1 2 3\n",
      "\n",
      "Checking Full : \n",
      "True\n",
      "\n",
      "Checking Empty : \n",
      "False\n",
      "dequeue operations :\n",
      "1\n",
      "after dequeue Circular Queue: \n",
      "None 2 3\n",
      "Peek element : \n",
      "2\n",
      "Going to delete Circular Queue!\n",
      "Let's try to print Circular Queue\n",
      "None None None\n"
     ]
    }
   ],
   "source": [
    "# Creating Circular Queue class\n",
    "\n",
    "class CQueue:\n",
    "    def __init__(self, maxSize):\n",
    "        self.items = maxSize * [None]\n",
    "        self.maxSize = maxSize\n",
    "        self.front = -1\n",
    "        self.rear = -1\n",
    "        \n",
    "    # Modifying the __str__ function to return the desired string version of circular Queue.\n",
    "    def __str__(self):\n",
    "        values = [str(x) for x in self.items]\n",
    "        return \" \".join(values)\n",
    "    \n",
    "    # isFull function to check whether the queue is Full or not\n",
    "    def isFull(self):\n",
    "        if self.rear + 1 == self.front:\n",
    "            return True\n",
    "        \n",
    "        elif self.front == 0 and self.rear + 1 ==self.maxSize:\n",
    "            return True\n",
    "        else:\n",
    "            return False\n",
    "        \n",
    "    # isEmpty function to check whether the queue is empty or not\n",
    "    def isEmpty(self):\n",
    "        if self.front == -1:\n",
    "            return True\n",
    "        else:\n",
    "            return False\n",
    "        \n",
    "    # enqueue function to insert elements\n",
    "    def enqueue(self, value):\n",
    "        if self.isFull():\n",
    "            return \"The circular queue is Full\"\n",
    "        else:\n",
    "            if self.rear + 1 == self.maxSize:\n",
    "                self.rear = 0\n",
    "            else:\n",
    "                self.rear += 1\n",
    "                if self.front == -1:\n",
    "                    self.front = 0\n",
    "                    \n",
    "            self.items[self.rear] = value\n",
    "            return \"The element is successfully inserted at the end of the Circular Queue!\"\n",
    "    \n",
    "    # dequeue fuction to delete elements\n",
    "    def dequeue(self):\n",
    "        if self.isEmpty():\n",
    "            return \"The circular queue is empty.\"\n",
    "    \n",
    "        else:\n",
    "            firstElement = self.items[self.front]\n",
    "            front = self.front\n",
    "            if self.front == self.rear:\n",
    "                self.front = -1\n",
    "                self.rear = -1\n",
    "            elif self.front + 1 == self.maxSize:\n",
    "                self.front = 0\n",
    "            else:\n",
    "                self.front += 1\n",
    "            self.items[front] = None\n",
    "            return firstElement\n",
    "        \n",
    "    # peek function to return the topmost element\n",
    "    def peek(self):\n",
    "        if self.isEmpty():\n",
    "            return \"There is not any element in the Queue\"\n",
    "        else:\n",
    "            return self.items[self.front]\n",
    "    #delete Function to the entire queue.\n",
    "    def delete(self):\n",
    "        self.items = self.maxSize * [None]\n",
    "        self.rear = -1\n",
    "        self.front = -1\n",
    "        \n",
    "# Example \n",
    "\n",
    "tempQueue = CQueue(3)\n",
    "\n",
    "#Example\n",
    "tempQueue = CQueue(3)\n",
    "tempQueue.enqueue(1)\n",
    "tempQueue.enqueue(2)\n",
    "tempQueue.enqueue(3)\n",
    "print(\"Enqueue operation : \")\n",
    "print(tempQueue.enqueue(4))\n",
    "print()\n",
    "print(\"Circular Queue : \")\n",
    "print(tempQueue)\n",
    "print()\n",
    "print(\"Checking Full : \")\n",
    "print(tempQueue.isFull())\n",
    "print()\n",
    "print(\"Checking Empty : \")\n",
    "print(tempQueue.isEmpty())\n",
    "print(\"dequeue operations :\")\n",
    "print(tempQueue.dequeue())\n",
    "print(\"after dequeue Circular Queue: \")\n",
    "print(tempQueue)\n",
    "\n",
    "print(\"Peek element : \")\n",
    "print(tempQueue.peek())\n",
    "\n",
    "print(\"Going to delete Circular Queue!\")\n",
    "tempQueue.delete()\n",
    "print(\"Let's try to print Circular Queue\")\n",
    "print(tempQueue)"
   ]
  },
  {
   "cell_type": "markdown",
   "id": "cf9d5670",
   "metadata": {},
   "source": [
    "#### Time and Space Complexity for Operations on Circular Queue\n",
    "\n",
    "#### ---------------Time Complexity\t-----------SpaceComplexity\n",
    "\n",
    "`Create Queue\t            O(1)\t      O(n)\n",
    "Enqueue\t                    O(1)\t      O(1)\n",
    "Dequeue\t                    O(1)\t      O(1)\n",
    "Peek\t                    O(1)\t      O(1)\n",
    "isEmpty/isFull\t            O(1)       \t  O(1)\n",
    "Delete Entire Queue      \tO(1)\t      O(1)`"
   ]
  },
  {
   "cell_type": "code",
   "execution_count": null,
   "id": "9b734e56",
   "metadata": {},
   "outputs": [],
   "source": []
  }
 ],
 "metadata": {
  "kernelspec": {
   "display_name": "Python 3 (ipykernel)",
   "language": "python",
   "name": "python3"
  },
  "language_info": {
   "codemirror_mode": {
    "name": "ipython",
    "version": 3
   },
   "file_extension": ".py",
   "mimetype": "text/x-python",
   "name": "python",
   "nbconvert_exporter": "python",
   "pygments_lexer": "ipython3",
   "version": "3.9.7"
  }
 },
 "nbformat": 4,
 "nbformat_minor": 5
}
