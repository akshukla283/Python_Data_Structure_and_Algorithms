{
 "cells": [
  {
   "cell_type": "markdown",
   "id": "d398c96d",
   "metadata": {},
   "source": [
    "#### Analysis of algorithm\n",
    "\n",
    "Algorithms are a set of instructions that helps us to get the expected output. To judge the efficiency of an algorithm, we need an analyzing tool.\n",
    "\n",
    "\n",
    "There are two techniques to measure the efficiency of an algorithm.\n",
    "\n",
    "### Time Complexity:\n",
    "\n",
    "`Time complexity is the time taken by an algorithm to execute.`\n",
    "\n",
    "\n",
    "### Space Complexity:\n",
    "\n",
    "`Space complexity is the amount of memory used by an algorithm while executing.\n",
    "The analysis of algorithms is to find the complexity of algorithms in terms of time and storage. In theoretical analysis, the analysis is performed based on the description of the algorithm, or the operation of the program or function.`\n",
    "\n",
    "\n",
    "The theoretical analysis takes all the possible input into consideration and assumes that the time taken for executing the basic operation is constant.\n",
    "\n",
    "The primitive or basic operations that take constant time are given as follows.\n",
    "\n",
    "* Declarations\n",
    "\n",
    "* Assignments\n",
    "\n",
    "* Arithmetic Operations\n",
    "\n",
    "* Comparison statements\n",
    "\n",
    "* Calling functions\n",
    "\n",
    "* Return statement"
   ]
  },
  {
   "cell_type": "code",
   "execution_count": 7,
   "id": "a83eee40",
   "metadata": {},
   "outputs": [],
   "source": [
    "#### Let us consider the following code.\n",
    "\n",
    "\n",
    "# i =0  #declaration statement\n",
    "# count = 0  #declaration statement\n",
    "# while(i < N):  #comparison statement\n",
    "#     count +=1  #arithmetic operation\n",
    "   \n",
    "   "
   ]
  },
  {
   "cell_type": "markdown",
   "id": "9dd08434",
   "metadata": {},
   "source": [
    "`Operations --------------------Frequency\n",
    "Declaration statement------------2\n",
    "Comparison statement-------------N\n",
    "Arithmetic operations------------N`\n",
    "\n",
    "\n",
    "Since the arithmetic operation is within the while loop, it will be executed for N number of times. Now the total operations performed is 2 + N + N = 2 + 2N. When the value of N is large, then the constant values don’t make any difference and are insignificant. Hence, we ignore the constant values.\n",
    "\n",
    "\n",
    "#### Best, Average, and Worst cases\n",
    "\n",
    "An algorithm can perform differently based on the given input. There are three cases to analyze an algorithm. They are `worst case, average case, and the best case`.\n",
    "\n",
    "Let us consider the linear search algorithm. In linear search algorithm, we search for an element sequentially. In the following example, we perform linear search on the list `list_1 = [4, 6, 7, 1, 5, 2].`"
   ]
  },
  {
   "cell_type": "code",
   "execution_count": 3,
   "id": "692f0a5e",
   "metadata": {},
   "outputs": [
    {
     "name": "stdout",
     "output_type": "stream",
     "text": [
      "6 is at index 1\n"
     ]
    }
   ],
   "source": [
    "def linear_search(list_1, key):\n",
    "    for i in range(0, len(list_1)):\n",
    "        if key == list_1[i]:\n",
    "            print(key, \"is at index\", i)\n",
    "\n",
    "list_1 = [4, 6, 7, 1, 5, 2]\n",
    "linear_search(list_1, 6)\n"
   ]
  },
  {
   "cell_type": "markdown",
   "id": "f2533da3",
   "metadata": {},
   "source": [
    "#### Best case:\n",
    "\n",
    "The best case is the minimum time required by an algorithm for the execution of a program. If we are searching for an element in a list, and it is present at the 0th index, then the number of comparisons to be performed is 1 time. The time complexity will be O(1) i.e. constant which is the best case time.\n",
    "\n",
    "\n",
    "#### Worst case:\n",
    "\n",
    "The worst case is the maximum time required by an algorithm for the execution of a program. If we are searching for an element in the list of length “n”, and it’s not present in the list or is present at the ending index, then the number of comparisons to be performed will be “n” times.\n",
    "\n",
    "Therefore, the time complexity will be O(n), which is the worst case time.\n",
    "\n",
    "\n",
    "#### Average case:\n",
    "\n",
    "In average case analysis, we take the average time of all the possible inputs. The average case time is given by,\n",
    "\n",
    "Average case time =  All possible cases time / Number of cases\n",
    "In case, if we are searching for an element, and it is present at the first location, then it will take 1 unit of time. If we are searching for an element, and it is present at the second location, then it will take 2 units of time. Similarly, if we are searching for an element present at the nth location, then it will take the “n” units of time.\n",
    "\n",
    "The total number of possible cases will be “n”. Mathematically, we can write\n",
    "\n",
    "`Average time = (1 + 2 + 3... + n)/ n\n",
    "             = (n(n + 1))/(2n)\n",
    "             = (n + 1)/2`\n",
    "             \n",
    "`Assuming \"n\" is very large, we ignore the constant terms.\n",
    "Thus, the average case time can be written as\n",
    "Average time = n`\n",
    "\n",
    "\n",
    "The best, worst and average case time for linear search algorithm is\n",
    "\n",
    "`Best case B(n) = O(1)\n",
    "Worst case W(n) = O(n)\n",
    "Average case A(n) = O(n)`\n",
    "\n",
    "### Big O, Omega, and Theta Notations\n",
    "\n",
    "Big O, Omega, and theta notations are also called `asymptotic notations.` The asymptotic analysis uses mathematical tools to measure the efficiency of an algorithm.\n",
    "\n",
    "For example, consider the time complexity of an algorithm is` T(n) = n^2 + 2n + 5`. For large values of n, the part 2n + 5 is insignificant compared to the n^2 part.\n",
    "\n",
    "\n",
    "`In asymptotic notations, we should be just concerned about how the function grows as the input(n) will grow, and it completely depends on n^2 for the time T(n). Therefore, as per the asymptotic analysis, we ignore the insignificant part and constants of an expression.`\n",
    "\n",
    "#### Big O\n",
    "\n",
    "The big O notation measures the upper bound on the running time of an algorithm. `Big O time complexity describes the worst case`. Consider a function f(n). We choose another function g(n) such that `f(n) <= c.g(n), for n > n0 and c > 0.` Here, c and n0 represent constant values. If the equation is satisfied,` f(n) = O(g(n)).`\n",
    "\n",
    "#### Big Omega\n",
    "\n",
    "The big Omega measures the lower bound on the running time of an algorithm. `Big Omega time complexity describes the best case`. Consider a function f(n). We choose another function g(n) such that` c.g(n) <= f(n), for n > n0 and c > 0.` Here, c and n0 represent constant. If the equation is satisfied, f(n) = Omega(g(n)).\n",
    "\n",
    "#### Big Theta\n",
    "\n",
    "The big Theta measures the time between the upper and the lower bound of an algorithm. `Big Theta describes the time complexity within the bounds of the best and worst case.`\n",
    "\n",
    "\n",
    "![](asyptonic.png)"
   ]
  },
  {
   "cell_type": "markdown",
   "id": "9d17bee6",
   "metadata": {},
   "source": [
    "Consider a function f(n). We choose another function g(n) such that `c1.g(n) <= f(n) <= c2.g(n), for n > n0 and c1, c2 > 0. `Here, c1, c2, and n0 represent constant values. If the equation is satisfied, f(n) = Theta(g(n)).\n",
    "\n",
    "We can analyze the efficiency of an algorithm based on its performance as the size of input grows. The time complexity of an algorithm is commonly expressed in Big O notation.\n",
    "\n",
    "We use the worst-case time complexity because it ensures that the running time of an algorithm will not exceed the worst-case time. The performance classification is given as follows.\n",
    "\n",
    "`Constant\t-------O(1)\n",
    "Logarithm\t-------O(log N)\n",
    "Linear      -------O(N)\n",
    "Quasilinear\t-------O(N log N)\n",
    "Quadratic\t-------O(N2)\n",
    "Cubic\t    -------O(N3)\n",
    "Exponential\t-------O(2N)`\n",
    "\n",
    "\n",
    "Graphical representation of different Time Complexities\n",
    "![](graph.png)"
   ]
  },
  {
   "cell_type": "markdown",
   "id": "09286995",
   "metadata": {},
   "source": [
    "### Time Complexity Examples\n",
    "\n",
    "### 1.  O(1) – Constant Time Complexity\n",
    "\n",
    "For the constant time complexity, the running time of an algorithm doesn’t change and remains constant irrespective of the size of the input data. Consider a list `list_1 = [4, 6, 7, 1, 5, 2]`. Now, accessing a specific element using indexing takes a constant amount of time."
   ]
  },
  {
   "cell_type": "code",
   "execution_count": 8,
   "id": "09874364",
   "metadata": {},
   "outputs": [
    {
     "name": "stdout",
     "output_type": "stream",
     "text": [
      "5\n"
     ]
    }
   ],
   "source": [
    "list_1 = [4, 6, 7, 1, 5, 2]\n",
    "print(list_1[4]) #accessing element at the 4th index."
   ]
  },
  {
   "cell_type": "markdown",
   "id": "9b8c24b4",
   "metadata": {},
   "source": [
    "### 2.  O(log N) – Logarithm Time Complexity\n",
    "\n",
    "In logarithmic time complexity, the running time of an algorithm is proportional to the logarithm of input size. For example, the binary search algorithm takes log(N) time.\n",
    "\n",
    "Consider a sorted list `list_1 = [1, 2, 3, 6, 7]`. We use binary search to find the key element 6. The binary search algorithm divides the input size in half in each iteration. Therefore, the time complexity of the algorithm reduces to `O(log N).`"
   ]
  },
  {
   "cell_type": "code",
   "execution_count": 9,
   "id": "4afe2e6f",
   "metadata": {},
   "outputs": [
    {
     "name": "stdout",
     "output_type": "stream",
     "text": [
      "Element 6 is present at index:  3\n"
     ]
    }
   ],
   "source": [
    "def binary_search(list_1, low, high, key):\n",
    "    while(low <= high):\n",
    "        mid = low + (high - low)//2\n",
    "        \n",
    "        if list_1[mid] == key:\n",
    "            return  mid\n",
    "            break\n",
    "        elif list_1[mid] < key:\n",
    "            low = mid + 1\n",
    "        else:\n",
    "            high = mid - 1\n",
    "    return \"Not Found\"     \n",
    "\n",
    "list_1 = [1, 2, 3, 6, 7]\n",
    "low = 0\n",
    "high = len(list_1) - 1\n",
    "key = 6\n",
    "ind = binary_search(list_1, low, high, key)\n",
    "print(\"Element 6 is present at index: \", ind)\n",
    "#Output: Element 6 is present at index:  3"
   ]
  },
  {
   "cell_type": "code",
   "execution_count": 10,
   "id": "ab4b7ddc",
   "metadata": {},
   "outputs": [
    {
     "data": {
      "text/plain": [
       "1"
      ]
     },
     "execution_count": 10,
     "metadata": {},
     "output_type": "execute_result"
    }
   ],
   "source": [
    "1 "
   ]
  },
  {
   "cell_type": "markdown",
   "id": "7d67eb99",
   "metadata": {},
   "source": [
    "### 3.  O(N) – Linear Time Complexity\n",
    "\n",
    "\n",
    "In linear time complexity, the running time of an algorithm increases linearly with an increase in the size of the input data. For example, adding all the elements present in a list is proportional to the length of the list.\n",
    "\n",
    "Consider a list `list_1 = [4, 6, 7, 1, 5, 2]`. In the following code, we initialize a variable add with 0. A for loop iterates over the list_1 and add all the elements to the variable add."
   ]
  },
  {
   "cell_type": "code",
   "execution_count": 11,
   "id": "ffc39f06",
   "metadata": {},
   "outputs": [
    {
     "name": "stdout",
     "output_type": "stream",
     "text": [
      "25\n"
     ]
    }
   ],
   "source": [
    "add = 0\n",
    "list_1 = [4, 6, 7, 1, 5, 2]\n",
    "for i in range(0, len(list_1)):\n",
    "    add += list_1[i]\n",
    "print(add)\n",
    "#Output: 25"
   ]
  },
  {
   "cell_type": "markdown",
   "id": "74ea8fea",
   "metadata": {},
   "source": [
    "### 4.  O(N^2) – Quadratic Time Complexity\n",
    "\n",
    "In quadratic time complexity, the running time of an algorithm is proportional to the square of the input size. For example, consider a matrix of size N x N. Summation of all the elements of the matrix will take O(N2) time.\n",
    "\n",
    "Consider a matrix `mat_1 = [[1, 2, 3], [1, 1, 1], [5, 7, 8]].` We initialize a variable add with 0 and use a nested for loop to traverse each element of the matrix. In each iteration, we add the element to the variable add."
   ]
  },
  {
   "cell_type": "code",
   "execution_count": 12,
   "id": "52cad979",
   "metadata": {},
   "outputs": [
    {
     "name": "stdout",
     "output_type": "stream",
     "text": [
      "29\n"
     ]
    }
   ],
   "source": [
    "mat_1 = [[1, 2, 3], [1, 1, 1], [5, 7, 8]]\n",
    "add = 0\n",
    "for i in range(len(mat_1)):\n",
    "    for j in range(len(mat_1[0])):\n",
    "        add += mat_1[i][j]\n",
    "print(add)\n",
    "#Ouput: 29"
   ]
  },
  {
   "cell_type": "markdown",
   "id": "1d1c445e",
   "metadata": {},
   "source": [
    "### 5.  O(2^N) – Exponential Time Complexity\n",
    "\n",
    "In exponential time complexity, the running time of an algorithm doubles with the addition of each input data. For example, getting the Fibonacci number using recursion takes exponential time."
   ]
  },
  {
   "cell_type": "code",
   "execution_count": 13,
   "id": "6b436f19",
   "metadata": {},
   "outputs": [
    {
     "name": "stdout",
     "output_type": "stream",
     "text": [
      "3\n"
     ]
    }
   ],
   "source": [
    "def fib(n):\n",
    "    if n < 0 or int(n) != n:\n",
    "        return \"Not defined\"\n",
    "    elif n == 0 or n == 1 :\n",
    "        return n\n",
    "    else:\n",
    "        return fib(n-1) + fib(n-2)\n",
    "\n",
    "print(fib(4))#prints Fibonacci of 4th number in series\n",
    "#Output: 3"
   ]
  },
  {
   "cell_type": "markdown",
   "id": "4a4ccfbd",
   "metadata": {},
   "source": [
    "### Space Complexity\n",
    "\n",
    "\n",
    "`Space complexity is the memory consumed by an algorithm while executing. We can express the space complexity in terms of big O notation such as O(1), O(N), O(N log N), O(N2), etc.`\n",
    "\n",
    "`For example, the space complexity for a list of length N will be O(N) and the space complexity for a matrix of size N x N will be O(N2).`\n",
    "\n",
    "\n",
    "In recursive algorithms, the stack space is also taken into account. For example, consider the following program. In each iteration, we call the function my_func() recursively, and each recursive call adds a layer to the stack memory. Hence, the space complexity is O(N)."
   ]
  },
  {
   "cell_type": "code",
   "execution_count": 11,
   "id": "89972fbd",
   "metadata": {},
   "outputs": [
    {
     "name": "stdout",
     "output_type": "stream",
     "text": [
      "1 2 3 4 5 "
     ]
    }
   ],
   "source": [
    "def my_func(num):\n",
    "    \n",
    "    if num > 0:\n",
    "        my_func(num - 1)\n",
    "        print(num, end = \" \")\n",
    "\n",
    "my_func(5)"
   ]
  },
  {
   "cell_type": "markdown",
   "id": "e9228a1e",
   "metadata": {},
   "source": [
    "However, N calls don’t mean that the space complexity will be O(N). Let us consider two functions, func_1 and func_2. In the function func_1, we call the function func_2 for N number of times. But, all these calls will not be added to the stack memory simultaneously. Thus, we need only O(1) space."
   ]
  },
  {
   "cell_type": "code",
   "execution_count": 12,
   "id": "2df6865b",
   "metadata": {},
   "outputs": [],
   "source": [
    "def func_1(n):\n",
    "    for i in range(n):\n",
    "        add = func_2(i)\n",
    "        print(add)\n",
    "\n",
    "def func_2(x):\n",
    "    return x + 1\n",
    "    "
   ]
  },
  {
   "cell_type": "markdown",
   "id": "215996ea",
   "metadata": {},
   "source": [
    "#### Adding vs Multiplying Time Complexities\n",
    "\n",
    "Let us look at the following example. There are two sets of for loops(loop A and loop B) executing for a range of M and N respectively.\n",
    "\n",
    "In Example 1, loop B starts executing after the execution of loop A is completed. Hence, the time complexity will be O(M + N). In Example 2, for each iteration of loop A, loop B is executed. Hence, the time complexity will be O(M * N)."
   ]
  },
  {
   "cell_type": "code",
   "execution_count": 17,
   "id": "b834d85b",
   "metadata": {},
   "outputs": [
    {
     "name": "stdout",
     "output_type": "stream",
     "text": [
      "Enter range : 5\n",
      "Enter range: 5\n",
      "0 1 2 3 4 \n",
      "0 1 2 3 4 "
     ]
    }
   ],
   "source": [
    "#Example 1\n",
    "M = int(input(\"Enter range : \"))\n",
    "N = int(input(\"Enter range: \"))\n",
    "for i in range(M):  #loop A\n",
    "    print(i, end = \" \")\n",
    "print()\n",
    "for j in range(N):  #loop B\n",
    "    print(j, end = \" \")\n",
    "    \n"
   ]
  },
  {
   "cell_type": "code",
   "execution_count": 22,
   "id": "98dc997a",
   "metadata": {},
   "outputs": [
    {
     "name": "stdout",
     "output_type": "stream",
     "text": [
      "Enter range : 5\n",
      "Enter range: 4\n",
      "0 0\n",
      "0 1\n",
      "0 2\n",
      "0 3\n",
      "\n",
      "1 0\n",
      "1 1\n",
      "1 2\n",
      "1 3\n",
      "\n",
      "2 0\n",
      "2 1\n",
      "2 2\n",
      "2 3\n",
      "\n",
      "3 0\n",
      "3 1\n",
      "3 2\n",
      "3 3\n",
      "\n",
      "4 0\n",
      "4 1\n",
      "4 2\n",
      "4 3\n",
      "\n"
     ]
    }
   ],
   "source": [
    "#Example 2\n",
    "M = int(input(\"Enter range : \"))\n",
    "N = int(input(\"Enter range: \"))\n",
    "\n",
    "for i in range(M):     # loop A\n",
    "    for j in range(N):  #loop B\n",
    "        print(i, j)\n",
    "    print()\n",
    "        \n",
    "        "
   ]
  },
  {
   "cell_type": "markdown",
   "id": "4a5face6",
   "metadata": {},
   "source": [
    "#### Time Complexity of Recursive Calls\n",
    "\n",
    "\n",
    "Consider the following example. We declare a user-defined function my_func() that takes a number “n” as a parameter and calls itself recursively."
   ]
  },
  {
   "cell_type": "code",
   "execution_count": 24,
   "id": "d9ecbe86",
   "metadata": {},
   "outputs": [
    {
     "name": "stdout",
     "output_type": "stream",
     "text": [
      "5 4 3 2 1 "
     ]
    }
   ],
   "source": [
    "def my_func(n):      # ----------->T(n)\n",
    "    if n > 0:        #       ----------->O(1)\n",
    "        print(n, end = \" \") #----------->O(1)\n",
    "        my_func(n-1) # ----------->T(n-1)\n",
    "\n",
    "my_func(5)"
   ]
  },
  {
   "cell_type": "markdown",
   "id": "f747fe14",
   "metadata": {},
   "source": [
    "Let us assume that the total time taken by my_func() is T(n). Hence, we can say that the recursive statement my_func(n-1) will take T(n-1) time. The other basic operations and statements take 1 unit of time.\n",
    "\n",
    "`Now, we can write \n",
    "T(n) = O(1) + O(1) + T(n-1)\n",
    "T(n) = T(n-1) + O(1)\n",
    "#Taking constant time as 1\n",
    "T(n) = T(n-1) + 1`\n",
    "\n",
    "The statements inside the if block will be executed, if n>0, and the time will be T(n-1) +1. If n=0, then only the conditional statement will be tested and the time will be 1 unit. Thus, the recurrence relation for T(n) is given as\n",
    "\n",
    "`T(n)  = T(n-1) + 1, if n > 0\n",
    "        = 1              , if n = 0`\n",
    "\n",
    "`Now, T(n) = T(n-1) +1      -----------------(1)\n",
    "Similarly, we can write\n",
    "T(n-1) = T(n-2) + 1          -----------------(2)\n",
    "T(n-2) = T(n-3) + 1          -----------------(3)`\n",
    "\n",
    "`Substituting (2) in (1), we get\n",
    "T(n) = T(n-2) + 2            ------------------(4)`\n",
    "\n",
    "`Substituting (3) in (4), we get\n",
    "T(n) = T(n-3) + 3          ------------------(5)`\n",
    "\n",
    "`If we continue this for k times, then\n",
    "T(n) = T(n-k) + k           -----------------(6)`\n",
    "\n",
    "`We know that T(0) = 1,\n",
    "so, we assume n - k = 0 \n",
    "Thus, k = n\n",
    "By substituting the value of k in (6) we get\n",
    "T(n) = T(n-n) + n\n",
    "T(n) = T(0) + n\n",
    "T(n) = 1 + n`\n",
    "\n",
    "`Hence, we can say T(n) will be taking O(n) time\n",
    "Measuring the Recursive Algorithm that takes Multiple Calls\n",
    "Consider the example given below. We define a function f(n) that takes a number n as input and calls the function recursively 2 times.`"
   ]
  },
  {
   "cell_type": "code",
   "execution_count": 25,
   "id": "64e759b9",
   "metadata": {},
   "outputs": [
    {
     "data": {
      "text/plain": [
       "5"
      ]
     },
     "execution_count": 25,
     "metadata": {},
     "output_type": "execute_result"
    }
   ],
   "source": [
    "def f(n):\n",
    "    if n <= 1:\n",
    "        return 1\n",
    "    return f(n-1) + f(n-2)\n",
    "\n",
    "f(4)"
   ]
  },
  {
   "cell_type": "markdown",
   "id": "a9caa40d",
   "metadata": {},
   "source": [
    "Consider each recursive call as a node of a binary tree.\n",
    "\n",
    "![](tree.png)\n",
    "\n",
    "\n",
    "####  Python Multiple Recursion\n",
    "`At level 0 we have 1 node, this can be expressed as 20.\n",
    "At level 1 we have 2 nodes, this can be expressed as 21.\n",
    "At level 2 we have 4 nodes, this can be expressed as 22.\n",
    "At level 3 we have 8 nodes, this can be expressed as 23.\n",
    "We know that, 20 + 21 + 22 + 23 … + 2n = 2(n+1) -1. Hence, the time complexity will be 2n ignoring the insignificant and constant terms.`\n",
    "\n",
    "\n",
    "When multiple recursive calls are made, we can represent time complexity as O(branchesdepth). Here, branches represents number of children for each node i.e. number of recursive call in each iteration and depth represents parameter in the recursive function."
   ]
  },
  {
   "cell_type": "markdown",
   "id": "2514ab73",
   "metadata": {},
   "source": [
    "#### Big O Interview Questions\n",
    "#### Sum and Product\n",
    "\n",
    "#### 1. What is the runtime of the following code?"
   ]
  },
  {
   "cell_type": "code",
   "execution_count": 26,
   "id": "481532b3",
   "metadata": {},
   "outputs": [],
   "source": [
    "def func(array):\n",
    "    sum = 0                 \n",
    "    product = 1\n",
    "    for i in array:\n",
    "        sum += i\n",
    "    for i in array:\n",
    "        product *= i\n",
    "    print(\"Sum = \"+ str(sum), \"Product = \"+ str(product))\n",
    "    "
   ]
  },
  {
   "cell_type": "markdown",
   "id": "c4b8a13f",
   "metadata": {},
   "source": [
    "#### Solution:\n",
    "\n",
    "`def func(array):\n",
    "    sum = 0   ------------------------------------------------>1              \n",
    "    product = 1  --------------------------------------------->1\n",
    "    for i in array: --------------------------------------------->N\n",
    "        sum += i ---------------------------------------------->1 * N = N\n",
    "    for i in array: --------------------------------------------->N\n",
    "        product *= i ------------------------------------------->1 * N = N\n",
    "    print(\"Sum = \" + str(sum), \"Product = \"+ str(product)) --->1`\n",
    "`The statement sum += i and product *= i are within the for loop, Therefore they will be executed N times. Hence, the time complexity = 1 + 1 + N + N + N + N + 1 = 4N +3 = O(N).`\n",
    "\n",
    "`Time complexity = 1 + 1 + N + N + N + N + 1 \n",
    "                           = 4N +3 \n",
    "                           = O(N).`\n",
    "                           \n",
    "                           "
   ]
  },
  {
   "cell_type": "markdown",
   "id": "e718eee8",
   "metadata": {},
   "source": [
    "#### Print Pairs\n",
    "#### 2. What is the runtime of the below code?"
   ]
  },
  {
   "cell_type": "code",
   "execution_count": 27,
   "id": "3cecd465",
   "metadata": {},
   "outputs": [],
   "source": [
    "def print_pairs(array):\n",
    "    for i in array:\n",
    "        for j in array:\n",
    "            print(str(i) + \" \" + str(j))\n",
    "            \n",
    "            "
   ]
  },
  {
   "cell_type": "markdown",
   "id": "dcb5569a",
   "metadata": {},
   "source": [
    "#### Solution:\n",
    "\n",
    "`def print_pairs(array):\n",
    "    for i in array:    -------------------------N\n",
    "        for j in array:       ---------------------N * N  = N^2\n",
    "            print(str(i) + \" \" + str(j)) ------------1 * N * N  = N^2\n",
    "Time Complexity = N +2N^2 = O(N^2)`"
   ]
  },
  {
   "cell_type": "markdown",
   "id": "5f3941d5",
   "metadata": {},
   "source": [
    "#### Print Unordered Pairs\n",
    "#### 3. What is the runtime of the below code?"
   ]
  },
  {
   "cell_type": "code",
   "execution_count": 28,
   "id": "5825adc0",
   "metadata": {},
   "outputs": [],
   "source": [
    "def printUnordered(array):\n",
    "    for i in range(0, len(array)):\n",
    "        for j in range(i+1, len(array)):\n",
    "            print(array[i], array[j])\n",
    "            "
   ]
  },
  {
   "cell_type": "markdown",
   "id": "f5c698e0",
   "metadata": {},
   "source": [
    "#### Solution:\n",
    "\n",
    "The outer loop executes for N times.\n",
    "\n",
    "\n",
    "The inner loop in\n",
    "\n",
    "`1st Iteration -> (N-1) times\n",
    "2nd iteration -> (N-2) times\n",
    "This will continue, till the inner loop executes for 1 time\n",
    "Hence, the total time for inner loop is`\n",
    "\n",
    "`T(n) = (N-1) + (N-2) ... 3 + 2 + 1\n",
    "T(n) = 1+ 2 + 3 ... + (N-2) + (N-1)\n",
    "T(n) = (N*(N-1))/2\n",
    "Ignoring the constants we get,\n",
    "T(n) = N^2\n",
    "The total time complexity = N + N^2 = O(N^2)`"
   ]
  },
  {
   "cell_type": "markdown",
   "id": "a510b7c8",
   "metadata": {},
   "source": [
    "#### Print Unordered Pairs of two different Arrays\n",
    "#### 4. What is the runtime of the below code?\n",
    "\n",
    "Code 1:"
   ]
  },
  {
   "cell_type": "code",
   "execution_count": 29,
   "id": "4c0d3bce",
   "metadata": {},
   "outputs": [],
   "source": [
    "def printUnordered(arr_A, arr_B):\n",
    "    for i in range(len(arr_A)):\n",
    "        for j in range(len(arr_B)):\n",
    "            if arr_A[i] < arr_B[j]:\n",
    "                print(arr_A[i], arr_B[j])\n",
    "                \n",
    "                "
   ]
  },
  {
   "cell_type": "markdown",
   "id": "5503c753",
   "metadata": {},
   "source": [
    "#### Solution:\n",
    "\n",
    "`Assuming, the length of arr_A = M and the length of arr_B = N. Then, the outer for loop will be executed for M times and the inner for loop will be executed for M*N times. Hence, the time complexity = M + (M*N) = O(M*N).`"
   ]
  },
  {
   "cell_type": "markdown",
   "id": "b9c3016a",
   "metadata": {},
   "source": [
    "Code 2:"
   ]
  },
  {
   "cell_type": "code",
   "execution_count": 2,
   "id": "9b02f37e",
   "metadata": {},
   "outputs": [],
   "source": [
    "def printUnordered(arr_A, arr_B):\n",
    "    for i in range(len(arr_A)):\n",
    "        for j in range(len(arr_B)):\n",
    "            for k in range(0, 100000):\n",
    "                print(arr_A[i], arr_B[j])\n",
    "                "
   ]
  },
  {
   "cell_type": "markdown",
   "id": "284b9b69",
   "metadata": {},
   "source": [
    "#### Solution: \n",
    "\n",
    "`Assuming, the length of arr_A = M and the length of arr_B = N. Then, the first for loop will be executed for M times and the second for loop will be executed for M*N times. The third for loop takes 10000 * M * N units of time.`\n",
    "\n",
    "`Time complexity = M + (M*N) + (10000 * M * N) = O(M*N).`"
   ]
  },
  {
   "cell_type": "markdown",
   "id": "05f6da8c",
   "metadata": {},
   "source": [
    "#### Reversing an array\n",
    "\n",
    "#### 5.What is the runtime of the below code?"
   ]
  },
  {
   "cell_type": "code",
   "execution_count": 3,
   "id": "88c09d9f",
   "metadata": {},
   "outputs": [],
   "source": [
    "def reverse(array):\n",
    "    for i in range(len(array)//2):\n",
    "        other = len(array)- i - 1\n",
    "        temp = array[i]\n",
    "        array[i] = array[other]\n",
    "        array[other] = temp\n",
    "    print(array)\n",
    "    \n",
    "    "
   ]
  },
  {
   "cell_type": "markdown",
   "id": "ed291024",
   "metadata": {},
   "source": [
    "#### Solution:\n",
    "\n",
    "`def reverse(array):\n",
    "    for i in range(len(array)//2): -------- N/2\n",
    "        other = len(array)- i - 1   -------- N/2\n",
    "        temp = array[i]   ------------------N/2\n",
    "        array[i] = array[other] ------------N/2\n",
    "        array[other] = temp  ------------ N/2\n",
    "    print(array)-------------------------------1`\n",
    "    \n",
    "`The for loop executes for (N/2) times. Hence, all the statements inside the for loop will also execute for N/2 times. In the end, the print statement takes 1 unit of time.`\n",
    "\n",
    "`Time complexity = N/2 + N/2 + N/2 + N/2 + N/2 + 1 = O(N).`"
   ]
  },
  {
   "cell_type": "markdown",
   "id": "2ea55663",
   "metadata": {},
   "source": [
    "#### Equivalents of O(N)\n",
    "Which of the following are equivalents of O(N) and why?\n",
    "\n",
    "`O(N + P), where P < N/2\n",
    "O(2N)\n",
    "O(N + logN)\n",
    "O(N + NlogN)\n",
    "O(N + M)`\n",
    "\n",
    "\n",
    "#### Solution:\n",
    "\n",
    "\n",
    "* In the time complexity `O(N + P), P is less than N/2`. Here, N is the dominant term. So, we can write time complexity O(N + P) as O(N). Thus, O(N + P) is an equivalent of O(N).\n",
    "\n",
    "\n",
    "* As per asymptotic notations, we ignore the constant values and insignificant terms. So, we can write O(2N) as O(N). Hence, O(2N) is an equivalent of O(N).\n",
    "\n",
    "\n",
    "* We know that `logN < N. Here, N is the dominant term`. So, we can write time complexity (O + logN) as O(N). Thus, O(N + log N) is an equivalent of O(N).\n",
    "\n",
    "\n",
    "*  In the time `complexity O(N + NlogN), the NlogN > N. `Here, NlogN is the dominant term. Hence, we cannot represent the time O(N + NlogN) as an equivalent of O(N).\n",
    "\n",
    "\n",
    "* In the time complexity `O(N + M),` there is no relationship between M and N. Therefore, we need to keep both variables. Thus, we cannot represent O(N + M) as an equivalent of O(N)."
   ]
  },
  {
   "cell_type": "markdown",
   "id": "69f27c1c",
   "metadata": {},
   "source": [
    "#### Factorial Complexity\n",
    "#### 6. What is the runtime of below code?"
   ]
  },
  {
   "cell_type": "code",
   "execution_count": 4,
   "id": "591290ad",
   "metadata": {},
   "outputs": [],
   "source": [
    "def factorial(n):\n",
    "    if n < 0:\n",
    "        return -1\n",
    "    elif n==0:\n",
    "        return 1\n",
    "    else:\n",
    "        return n * factorial(n-1)\n",
    "        \n",
    "        "
   ]
  },
  {
   "cell_type": "markdown",
   "id": "1ac47ee0",
   "metadata": {},
   "source": [
    "#### Solution:\n",
    "\n",
    "`def factorial(n): ------------------->T(n)\n",
    "    if n < 0:\n",
    "        return -1 -------------------->O(1)\n",
    "    elif n==0:\n",
    "        return 1 --------------------->O(1)\n",
    "    else:\n",
    "        return n * factorial(n-1) ----->T(n-1)`\n",
    "        \n",
    "We can write the recurrence relation for below code as,\n",
    "\n",
    "`T(n)  = T(n-1) + 1, if n > 0\n",
    "        = 1              , if n = 0`\n",
    "\n",
    "`Now, T(n) = T(n-1) +1      -----------------(1)\n",
    "Similarly, we can write\n",
    "T(n-1) = T(n-2) + 1          -----------------(2)\n",
    "T(n-2) = T(n-3) + 1          -----------------(3)`\n",
    "\n",
    "`Substituting (2) in (1), we get\n",
    "T(n) = T(n-2) + 2            ------------------(4)\n",
    "Substituting (3) in (4), we get\n",
    "T(n) = T(n-3) + 3          ------------------(5)`\n",
    "\n",
    "`If we continue this for k times, then\n",
    "T(n) = T(n-k) + k           ----------------(6)\n",
    "WKT, T(0) = 1\n",
    "Assume, n-k =0\n",
    "Hence, n =k\n",
    "We can write T(n) as,\n",
    "T(n) = 1 + n\n",
    "T(n) = O(n)`\n",
    "`The time complexity of calculating factorial using recursion is O(n).`"
   ]
  },
  {
   "cell_type": "markdown",
   "id": "92dc4cbc",
   "metadata": {},
   "source": [
    "#### Fibonacci Complexity\n",
    "#### 7. What is the runtime of below code?"
   ]
  },
  {
   "cell_type": "code",
   "execution_count": 5,
   "id": "f6fbd82b",
   "metadata": {},
   "outputs": [],
   "source": [
    "def allFib(n):\n",
    "    for i in range(n):\n",
    "        print(str(i) + \":\" + str(fib(i)))\n",
    "        \n",
    "def fib(n):\n",
    "    if n <= 0:\n",
    "        return 0\n",
    "    elif n == 1:\n",
    "        return 1\n",
    "    return fib(n-1) + fib(n-2)\n",
    "    \n",
    " "
   ]
  },
  {
   "cell_type": "markdown",
   "id": "f4c3e7b9",
   "metadata": {},
   "source": [
    "   \n",
    "#### Solution: \n",
    "\n",
    "In the above code, the first function allFib() prints the Fibonacci for each number, and the second method fib() calculates the fib for a number.\n",
    "\n",
    "\n",
    "We know that we can measure the time complexity of multiple recursive calls by O(branchesdepth). Here, branches represent the number of children for each node i.e. number of recursive calls in each iteration, and depth represents the parameter in the recursive function.\n",
    "\n",
    "The time taken by fib(n) is O(2n) as the function fib(n) is making 2 recursive call and the parameter is n.\n",
    "\n",
    "Now, the function allFib(n) calls the function fib(n) in each iteration.\n",
    "\n",
    "`In 1st iteration, the time complexity for calling fib(0) is 20.\n",
    "In 2nd iteration, the time complexity for calling fib(1) is 21.\n",
    "Similarly, for the last iteration time complexity for calling fib(n-1) is 2(n-1).\n",
    "The total time complexity will be 20 + 21 + 22 + … + 2(n-1) = 2n -1 = O(2n).`\n",
    "                       \n",
    "   "
   ]
  },
  {
   "cell_type": "markdown",
   "id": "a6f30c87",
   "metadata": {},
   "source": [
    "                    \n",
    "#### Powers of 2\n",
    "#### 8. What is the runtime of below code?"
   ]
  },
  {
   "cell_type": "code",
   "execution_count": 6,
   "id": "ed186c68",
   "metadata": {},
   "outputs": [],
   "source": [
    "def powersof2(n):\n",
    "    if n < 1:\n",
    "        return 0\n",
    "    elif n==1:\n",
    "        return 1\n",
    "    else:\n",
    "        prev = powersof2(int(n/2))\n",
    "        curr = prevI*2\n",
    "        print(curr)\n",
    "        return curr\n",
    "        \n",
    "        "
   ]
  },
  {
   "cell_type": "markdown",
   "id": "8f7d0822",
   "metadata": {},
   "source": [
    "#### Solution:\n",
    "\n",
    "`def powersof2(n):\n",
    "    if n < 1: \n",
    "        return 0  ------------------------O(1)\n",
    "    elif n==1:\n",
    "        return 1  ------------------------O(1)\n",
    "    else:\n",
    "        prev = powersof2(int(n/2)) \n",
    "        curr = prevI*2  -----------------O(1)\n",
    "        print(curr)    --------------------O(1)\n",
    "        return curr   --------------------O(1)`\n",
    "        \n",
    "        \n",
    "`In each recursive call, we reduced the input by half. Hence, the time complexity will be O(logN).`"
   ]
  },
  {
   "cell_type": "code",
   "execution_count": null,
   "id": "81895845",
   "metadata": {},
   "outputs": [],
   "source": []
  }
 ],
 "metadata": {
  "kernelspec": {
   "display_name": "Python 3 (ipykernel)",
   "language": "python",
   "name": "python3"
  },
  "language_info": {
   "codemirror_mode": {
    "name": "ipython",
    "version": 3
   },
   "file_extension": ".py",
   "mimetype": "text/x-python",
   "name": "python",
   "nbconvert_exporter": "python",
   "pygments_lexer": "ipython3",
   "version": "3.9.7"
  }
 },
 "nbformat": 4,
 "nbformat_minor": 5
}
