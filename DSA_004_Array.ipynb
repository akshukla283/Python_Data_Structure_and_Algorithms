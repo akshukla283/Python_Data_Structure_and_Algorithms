{
 "cells": [
  {
   "cell_type": "code",
   "execution_count": 4,
   "id": "de881797",
   "metadata": {},
   "outputs": [],
   "source": [
    "from array import *"
   ]
  },
  {
   "cell_type": "code",
   "execution_count": 5,
   "id": "a1493101",
   "metadata": {},
   "outputs": [
    {
     "name": "stdout",
     "output_type": "stream",
     "text": [
      "array('i', [3, 2, 7, 6, 9])\n",
      "array('d', [1.4, 7.8, 9.6, 8.2])\n"
     ]
    }
   ],
   "source": [
    "\n",
    "#creating an array of integer data type\n",
    "arr_1 = array('i', [3, 2, 7, 6, 9])\n",
    "print(arr_1)\n",
    "#Output: array('i', [3, 2, 7, 6, 9])\n",
    "\n",
    "#creating an array of double data type\n",
    "arr_2 = array('d', [1.4, 7.8, 9.6, 8.2])\n",
    "print(arr_2)\n",
    "#Output: array('d', [1.4, 7.8, 9.6, 8.2])"
   ]
  },
  {
   "cell_type": "code",
   "execution_count": null,
   "id": "7048709b",
   "metadata": {},
   "outputs": [],
   "source": []
  }
 ],
 "metadata": {
  "kernelspec": {
   "display_name": "Python 3 (ipykernel)",
   "language": "python",
   "name": "python3"
  },
  "language_info": {
   "codemirror_mode": {
    "name": "ipython",
    "version": 3
   },
   "file_extension": ".py",
   "mimetype": "text/x-python",
   "name": "python",
   "nbconvert_exporter": "python",
   "pygments_lexer": "ipython3",
   "version": "3.9.7"
  }
 },
 "nbformat": 4,
 "nbformat_minor": 5
}
