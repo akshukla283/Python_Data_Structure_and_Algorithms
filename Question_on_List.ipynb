{
 "cells": [
  {
   "cell_type": "markdown",
   "id": "6a05367e",
   "metadata": {},
   "source": [
    "### Q1.\n",
    "Find the missing number from n natural number."
   ]
  },
  {
   "cell_type": "code",
   "execution_count": 2,
   "id": "cd3b823f",
   "metadata": {},
   "outputs": [],
   "source": [
    "def missing_num(mylist):\n",
    "    N = len(mylist) +  1    # here we took + 1 for included missing value\n",
    "    # sum of N natural number\n",
    "    sum_N = N*(N+1)//2\n",
    "    # sum of given list \n",
    "    sum_mylist = sum(mylist)\n",
    "    \n",
    "    return sum_N - sum_mylist\n",
    "    "
   ]
  },
  {
   "cell_type": "code",
   "execution_count": 3,
   "id": "7255510f",
   "metadata": {},
   "outputs": [
    {
     "name": "stdout",
     "output_type": "stream",
     "text": [
      "Missing number in list_1:  2\n",
      "Missing number is list_2:  4\n"
     ]
    }
   ],
   "source": [
    "list_1 = [1, 4, 3, 5]\n",
    "print(\"Missing number in list_1: \", missing_num(list_1))\n",
    "#Output: Missing number in list_1:  2\n",
    "\n",
    "list_2 = [1, 7, 8, 2, 3 , 5, 6]\n",
    "print(\"Missing number is list_2: \", missing_num(list_2))"
   ]
  },
  {
   "cell_type": "markdown",
   "id": "e1a6b93d",
   "metadata": {},
   "source": [
    "### Q2.\n",
    "Write a program to find all the distinct pairs of integers in a list whose, the sum is equal to a given target number."
   ]
  },
  {
   "cell_type": "code",
   "execution_count": 12,
   "id": "1825de1f",
   "metadata": {},
   "outputs": [],
   "source": [
    "def target_sum(mylist, target):\n",
    "    \n",
    "    for i in range(len(mylist)):\n",
    "        for j in range(i+1, len(mylist)):  # we need to compare two distinct number\n",
    "            if mylist[i] == mylist[j]:\n",
    "                continue\n",
    "            \n",
    "            elif mylist[i] + mylist[j] == target:\n",
    "                print(f\"{(mylist[i],mylist[j])}\", end= \" \")\n",
    "            "
   ]
  },
  {
   "cell_type": "code",
   "execution_count": 13,
   "id": "4d34e414",
   "metadata": {},
   "outputs": [
    {
     "name": "stdout",
     "output_type": "stream",
     "text": [
      "(1, 8) (4, 5) (6, 3) (7, 2) "
     ]
    }
   ],
   "source": [
    "list_1 = [1, 4, 6, 8, 3, 5, 7, 2]\n",
    "target = 9\n",
    "target_sum(list_1, target)"
   ]
  },
  {
   "cell_type": "markdown",
   "id": "70817f7c",
   "metadata": {},
   "source": [
    "#### Q3.\n",
    "Given a list of positive integers, write a program to find the pair with the maximum product."
   ]
  },
  {
   "cell_type": "code",
   "execution_count": 16,
   "id": "dae59be9",
   "metadata": {},
   "outputs": [],
   "source": [
    "def maxProduct(mylist):\n",
    "    \n",
    "    maxim = 0\n",
    "    for i in range(len(mylist)):\n",
    "        for j in range(i+1, len(mylist)):\n",
    "            if mylist[i] * mylist[j] > maxim:\n",
    "                maxim = mylist[i] * mylist[j]\n",
    "                pairs = str(mylist[i]) + \", \" + str(mylist[j])\n",
    "                \n",
    "    print(\"Pairs: \", pairs)\n",
    "    print(\"Maximum Product: \", maxim)\n",
    "   "
   ]
  },
  {
   "cell_type": "code",
   "execution_count": 17,
   "id": "66f99081",
   "metadata": {},
   "outputs": [
    {
     "name": "stdout",
     "output_type": "stream",
     "text": [
      "Pairs:  8, 7\n",
      "Maximum Product:  56\n"
     ]
    }
   ],
   "source": [
    "             \n",
    "list_1 = [1, 4, 6, 8, 3, 5, 7, 2]\n",
    "maxProduct(list_1)"
   ]
  },
  {
   "cell_type": "markdown",
   "id": "96afac0f",
   "metadata": {},
   "source": [
    "### Q4.\n",
    "\n",
    "Given a list of numbers, write a program to check if the list contains all the unique elements or not."
   ]
  },
  {
   "cell_type": "code",
   "execution_count": 22,
   "id": "108e82d6",
   "metadata": {},
   "outputs": [],
   "source": [
    "def unique(mylist):\n",
    "    new_list = []\n",
    "    for i in mylist:\n",
    "        if i not in new_list:\n",
    "            new_list.append(i)\n",
    "            \n",
    "    if len(mylist) == len(new_list):\n",
    "        print(\"Unique\")\n",
    "    else:\n",
    "        print(\"Not Unique\")\n",
    "    \n",
    "    "
   ]
  },
  {
   "cell_type": "code",
   "execution_count": 24,
   "id": "c285b7ec",
   "metadata": {},
   "outputs": [
    {
     "name": "stdout",
     "output_type": "stream",
     "text": [
      "Not Unique\n"
     ]
    }
   ],
   "source": [
    "list1 = [1, 7, 7, 5, 6, 8]\n",
    "unique(list1)"
   ]
  },
  {
   "cell_type": "code",
   "execution_count": 25,
   "id": "2038e685",
   "metadata": {},
   "outputs": [
    {
     "name": "stdout",
     "output_type": "stream",
     "text": [
      "Unique\n"
     ]
    }
   ],
   "source": [
    "list1 = [1, 7, 5, 6, 8]\n",
    "unique(list1)"
   ]
  },
  {
   "cell_type": "code",
   "execution_count": 26,
   "id": "2f1d7fe7",
   "metadata": {},
   "outputs": [],
   "source": [
    "# another method\n",
    "\n",
    "def isUnique(mylist):\n",
    "    visit = []\n",
    "    for i in mylist:\n",
    "        if i in visit:\n",
    "            return \"Not Unique\"\n",
    "        else:\n",
    "            visit.append(i)\n",
    "    return \"Unique\""
   ]
  },
  {
   "cell_type": "code",
   "execution_count": 27,
   "id": "3c63500d",
   "metadata": {},
   "outputs": [
    {
     "name": "stdout",
     "output_type": "stream",
     "text": [
      "Not Unique\n",
      "Unique\n"
     ]
    }
   ],
   "source": [
    "list_1 = [1, 1, 2, 8, 9, 4, 4]\n",
    "print(isUnique(list_1))\n",
    "#Output: Not Unique\n",
    "\n",
    "list_2 = [1, 4, 6, 8, 3]\n",
    "print(isUnique(list_2))\n",
    "#Output: Unique"
   ]
  },
  {
   "cell_type": "markdown",
   "id": "91bbf64b",
   "metadata": {},
   "source": [
    "#### 5.  Permutation\n",
    "\n",
    "Write a program to check if two lists are permutations of each other. \n",
    "\n",
    "* i.e. the list must have the same elements, but the elements can be in a different order."
   ]
  },
  {
   "cell_type": "code",
   "execution_count": 28,
   "id": "7a50f933",
   "metadata": {},
   "outputs": [],
   "source": [
    "def isPermutation(list1, list2):\n",
    "    if sorted(list1) == sorted(list2):\n",
    "        return True\n",
    "    else:\n",
    "        return False\n",
    "    return"
   ]
  },
  {
   "cell_type": "code",
   "execution_count": 29,
   "id": "09a566fe",
   "metadata": {},
   "outputs": [
    {
     "data": {
      "text/plain": [
       "True"
      ]
     },
     "execution_count": 29,
     "metadata": {},
     "output_type": "execute_result"
    }
   ],
   "source": [
    "list_1 = [1, 4, 5, 7]\n",
    "list_2 = [4, 1, 7, 5]\n",
    "isPermutation(list_1, list_2)"
   ]
  },
  {
   "cell_type": "code",
   "execution_count": 30,
   "id": "3b68e7fb",
   "metadata": {},
   "outputs": [],
   "source": [
    "# Another method\n",
    "\n",
    "def isPermutation(list_1, list_2):\n",
    "    if len(list_1) != len(list_2):\n",
    "        return False\n",
    "    list_1.sort()\n",
    "    list_2.sort()\n",
    "    if list_1 == list_2:\n",
    "        return True\n",
    "    else:\n",
    "        return False\n",
    "    "
   ]
  },
  {
   "cell_type": "code",
   "execution_count": 31,
   "id": "26a79364",
   "metadata": {},
   "outputs": [
    {
     "name": "stdout",
     "output_type": "stream",
     "text": [
      "True\n"
     ]
    }
   ],
   "source": [
    "list_1 = [1, 8, 3, 4, 6]\n",
    "list_2 = [1, 4, 6, 8, 3]\n",
    "print(isPermutation(list_1, list_2))"
   ]
  },
  {
   "cell_type": "markdown",
   "id": "822f4ca6",
   "metadata": {},
   "source": [
    "### Q7.  Average Temperature\n",
    "Write a program to find the number of days having a temperature greater than the average temperature."
   ]
  },
  {
   "cell_type": "code",
   "execution_count": 2,
   "id": "a976ee01",
   "metadata": {},
   "outputs": [
    {
     "name": "stdout",
     "output_type": "stream",
     "text": [
      "How many day's temperature ?:  4\n",
      "Enter day 1 the Temp. : 14\n",
      "Enter day 2 the Temp. : 13\n",
      "Enter day 3 the Temp. : 19\n",
      "Enter day 4 the Temp. : 15\n",
      "\n",
      "Avrage temperature :  15.25\n",
      "1 days had temperature greater than average temperature!\n"
     ]
    }
   ],
   "source": [
    "n_day = int(input(\"How many day's temperature ?:  \"))\n",
    "\n",
    "temp_list = [int(input(f\"Enter day {x+1} the Temp. : \")) for x in range(n_day)]\n",
    "avg_temp = sum(temp_list)/n_day\n",
    "\n",
    "count = 0\n",
    "for i in temp_list:\n",
    "    if i>avg_temp:\n",
    "        count += 1\n",
    "print()\n",
    "print(\"Avrage temperature : \", avg_temp)\n",
    "print(count,\"days had temperature greater than average temperature!\")"
   ]
  },
  {
   "cell_type": "code",
   "execution_count": 1,
   "id": "011ab869",
   "metadata": {},
   "outputs": [
    {
     "name": "stdout",
     "output_type": "stream",
     "text": [
      "How many day's temperature? 4\n",
      "Day1 temperature: 12\n",
      "Day2 temperature: 23\n",
      "Day3 temperature: 18\n",
      "Day4 temperature: 14\n",
      "Average temperature:  16.75\n",
      "Days with temperature above the average temperature:  2\n"
     ]
    }
   ],
   "source": [
    "# Another method\n",
    "\n",
    "num_days = int(input(\"How many day's temperature? \"))\n",
    "#To store temperature of each day\n",
    "list_temp = []\n",
    "#To get the count of days having temperature > avg temp\n",
    "count = 0\n",
    "\n",
    "for i in range(num_days):\n",
    "    temp = int(input(\"Day\" +str(i+1) + \" temperature: \"))\n",
    "    list_temp.append(temp)\n",
    "avg_temp = sum(list_temp) / num_days\n",
    "print(\"Average temperature: \", avg_temp)\n",
    "\n",
    "for i in list_temp:\n",
    "    if i > avg_temp:\n",
    "        count += 1\n",
    "print(\"Days with temperature above the average temperature: \", count)"
   ]
  },
  {
   "cell_type": "markdown",
   "id": "edbbf459",
   "metadata": {},
   "source": [
    "# Q8. Middle function\n",
    "Write a program that takes a list and returns a new list that contains all the elements except the first and last elements."
   ]
  },
  {
   "cell_type": "code",
   "execution_count": 34,
   "id": "cd59c6d0",
   "metadata": {},
   "outputs": [],
   "source": [
    "def middle_func(mylist):\n",
    "    return mylist[1:-1]"
   ]
  },
  {
   "cell_type": "code",
   "execution_count": 35,
   "id": "ff2a99a3",
   "metadata": {},
   "outputs": [
    {
     "data": {
      "text/plain": [
       "[6, 7, 8]"
      ]
     },
     "execution_count": 35,
     "metadata": {},
     "output_type": "execute_result"
    }
   ],
   "source": [
    "mylist = [1, 6, 7, 8, 4]\n",
    "middle_func(mylist)"
   ]
  },
  {
   "cell_type": "code",
   "execution_count": 36,
   "id": "3962fb78",
   "metadata": {},
   "outputs": [
    {
     "name": "stdout",
     "output_type": "stream",
     "text": [
      "[5, 3, 8]\n",
      "[3, 9, 0, 1, 2]\n"
     ]
    }
   ],
   "source": [
    "# Another method\n",
    "\n",
    "def middle(my_list):\n",
    "    return my_list[1: len(my_list) - 1]\n",
    "\n",
    "list_1 = [1, 5, 3, 8, 2]\n",
    "print(middle(list_1))\n",
    "#Output: [5, 3, 8]\n",
    "\n",
    "list_2 = [1, 3, 9, 0, 1, 2, 3]\n",
    "print(middle(list_2))\n",
    "#Output: [3, 9, 0, 1, 2]"
   ]
  },
  {
   "cell_type": "markdown",
   "id": "47f9f06e",
   "metadata": {},
   "source": [
    "### 9. 2D list\n",
    "Given a square matrix, write a program to calculate the sum of diagonal elements."
   ]
  },
  {
   "cell_type": "code",
   "execution_count": 47,
   "id": "52655aa8",
   "metadata": {},
   "outputs": [],
   "source": [
    "def diagonal_sum(mylist):\n",
    "    row = col = len(mylist) # because it is an square matrix\n",
    "    total = 0\n",
    "    for i in range(row):\n",
    "        for j in range(col):\n",
    "            if i == j:\n",
    "                total += mylist[i][j]\n",
    "                \n",
    "    return total\n"
   ]
  },
  {
   "cell_type": "code",
   "execution_count": 48,
   "id": "3d15400d",
   "metadata": {},
   "outputs": [
    {
     "data": {
      "text/plain": [
       "3"
      ]
     },
     "execution_count": 48,
     "metadata": {},
     "output_type": "execute_result"
    }
   ],
   "source": [
    "list1 = [[1, 4, 6], [7, 8, 9],  [10, 4, 6]]\n",
    "len(list1)"
   ]
  },
  {
   "cell_type": "code",
   "execution_count": 49,
   "id": "35a1018d",
   "metadata": {},
   "outputs": [
    {
     "data": {
      "text/plain": [
       "15"
      ]
     },
     "execution_count": 49,
     "metadata": {},
     "output_type": "execute_result"
    }
   ],
   "source": [
    "list1 = [[1, 4, 6], [7, 8, 9],  [10, 4, 6]]\n",
    "diagonal_sum(list1)"
   ]
  },
  {
   "cell_type": "code",
   "execution_count": 50,
   "id": "beef8565",
   "metadata": {},
   "outputs": [
    {
     "name": "stdout",
     "output_type": "stream",
     "text": [
      "15\n"
     ]
    }
   ],
   "source": [
    "# Another method\n",
    "\n",
    "def sumDiagonal(my_list):\n",
    "    total = 0\n",
    "    for i in range(len(my_list)):\n",
    "        total += my_list[i][i]\n",
    "    return total\n",
    "\n",
    "\n",
    "\n",
    "list_1 = [[1, 4, 6], [7, 8, 9], [10, 4, 6]]\n",
    "print(sumDiagonal(list_1))\n",
    "#Output: 15"
   ]
  },
  {
   "cell_type": "markdown",
   "id": "39627386",
   "metadata": {},
   "source": [
    "### Q10. Best Score\n",
    "Given a list of scores, write a program to get the first and second-best scores."
   ]
  },
  {
   "cell_type": "code",
   "execution_count": 54,
   "id": "8636397c",
   "metadata": {},
   "outputs": [
    {
     "name": "stdout",
     "output_type": "stream",
     "text": [
      "First :  90\n",
      "Second:  87\n"
     ]
    }
   ],
   "source": [
    "def BestScore(my_list):\n",
    "    my_list.sort(reverse = True)\n",
    "    print(\"First : \", my_list[0])\n",
    "    print(\"Second: \", my_list[1])\n",
    "\n",
    "list_1 = [60, 78, 90, 87]\n",
    "BestScore(list_1)"
   ]
  },
  {
   "cell_type": "code",
   "execution_count": 53,
   "id": "ef11c712",
   "metadata": {},
   "outputs": [
    {
     "data": {
      "text/plain": [
       "['o', 'l', 'l', 'e', 'h']"
      ]
     },
     "execution_count": 53,
     "metadata": {},
     "output_type": "execute_result"
    }
   ],
   "source": [
    "list(reversed(\"hello\"))"
   ]
  },
  {
   "cell_type": "code",
   "execution_count": 52,
   "id": "146f0473",
   "metadata": {},
   "outputs": [
    {
     "name": "stdout",
     "output_type": "stream",
     "text": [
      "d\n",
      "c\n",
      "b\n",
      "a\n"
     ]
    }
   ],
   "source": [
    "alph = [\"a\", \"b\", \"c\", \"d\"]\n",
    "ralph = reversed(alph)\n",
    "for x in ralph:\n",
    "    print(x)"
   ]
  },
  {
   "cell_type": "markdown",
   "id": "766e62ca",
   "metadata": {},
   "source": [
    "### Q11. Remove duplicates\n",
    "\n",
    "Given a list, write a program to remove the duplicate elements from a list."
   ]
  },
  {
   "cell_type": "code",
   "execution_count": 55,
   "id": "02410b1d",
   "metadata": {},
   "outputs": [],
   "source": [
    "def removeDuplicate(mylist):\n",
    "    return list(dict.fromkeys(mylist))"
   ]
  },
  {
   "cell_type": "code",
   "execution_count": 56,
   "id": "0e691e37",
   "metadata": {},
   "outputs": [
    {
     "data": {
      "text/plain": [
       "[1, 5, 6, 2, 3]"
      ]
     },
     "execution_count": 56,
     "metadata": {},
     "output_type": "execute_result"
    }
   ],
   "source": [
    "list1 = [1, 5, 6, 5, 1, 2, 3]\n",
    "removeDuplicate(list1)"
   ]
  },
  {
   "cell_type": "code",
   "execution_count": 57,
   "id": "10bc2b14",
   "metadata": {},
   "outputs": [
    {
     "name": "stdout",
     "output_type": "stream",
     "text": [
      "[1, 5, 6, 2, 3]\n",
      "[1, 4, 6]\n"
     ]
    }
   ],
   "source": [
    "def removeDuplicates(my_list):\n",
    "    unique_list =[]\n",
    "    for i in my_list:\n",
    "        if i not in unique_list:\n",
    "            unique_list.append(i)\n",
    "    return unique_list\n",
    "\n",
    "list_1 =  [1, 5, 6, 5, 1, 2, 3]\n",
    "print(removeDuplicates(list_1))\n",
    "#Output: [1, 5, 6, 2, 3]\n",
    "\n",
    "list_2 =  [1, 1, 4, 6, 4]\n",
    "print(removeDuplicates(list_2))\n",
    "#Output: [1, 4, 6]"
   ]
  },
  {
   "cell_type": "markdown",
   "id": "ea85364d",
   "metadata": {},
   "source": [
    "### 12. Rotate a Matrix by 90\n",
    "\n",
    "Write a program to rotate a matrix by 90 degrees in the clockwise direction."
   ]
  },
  {
   "cell_type": "code",
   "execution_count": 8,
   "id": "d09a4900",
   "metadata": {},
   "outputs": [],
   "source": [
    "def rotateMatrix(my_matrix):\n",
    "    print(\"Original Matrix : \")\n",
    "    for i in range(len(my_matrix)):\n",
    "        for j in range(len(my_matrix[0])):\n",
    "            print(my_matrix[i][j], end = \" \")\n",
    "        print()\n",
    "    \n",
    "    n = len(my_matrix)\n",
    "    new_mat = [[0 for i in range(len(my_matrix))] for j in range(len(my_matrix[0]))]\n",
    "    for i in range(len(my_matrix)):\n",
    "        for j in range(len(my_matrix)):\n",
    "            \n",
    "            new_mat[j][n-i-1] = my_matrix[i][j]\n",
    "            \n",
    "    print(\"Matrix after 90 degree rotation : \")\n",
    "    for i in range(len(new_mat)):\n",
    "        for j in range(len(new_mat[0])):\n",
    "            print(new_mat[i][j], end = \" \")\n",
    "        print() \n",
    "            "
   ]
  },
  {
   "cell_type": "code",
   "execution_count": 9,
   "id": "dbbdb1be",
   "metadata": {},
   "outputs": [
    {
     "name": "stdout",
     "output_type": "stream",
     "text": [
      "Original Matrix : \n",
      "9 7 8 \n",
      "3 6 7 \n",
      "1 2 3 \n",
      "Matrix after 90 degree rotation : \n",
      "1 3 9 \n",
      "2 6 7 \n",
      "3 7 8 \n"
     ]
    }
   ],
   "source": [
    "my_matrix =[[9, 7, 8],\n",
    "           [3, 6, 7],\n",
    "           [1, 2, 3]]\n",
    "rotateMatrix(my_matrix)"
   ]
  },
  {
   "cell_type": "code",
   "execution_count": null,
   "id": "74c0f1ca",
   "metadata": {},
   "outputs": [],
   "source": []
  },
  {
   "cell_type": "code",
   "execution_count": 3,
   "id": "1ac7b47c",
   "metadata": {},
   "outputs": [
    {
     "name": "stdout",
     "output_type": "stream",
     "text": [
      "matrix_A:  [[9, 7, 8], [3, 6, 7], [1, 2, 3]]\n",
      "Transpose of matrix_A:  [[9, 3, 1], [7, 6, 2], [8, 7, 3]]\n",
      "Rotating matrix_A by 90 degree:  [[1, 3, 9], [2, 6, 7], [3, 7, 8]]\n"
     ]
    }
   ],
   "source": [
    "# Another Method.\n",
    "def rotated(matrix_A):\n",
    "    print(\"matrix_A: \", matrix_A)\n",
    "    \n",
    "    #Initializing matrix_B with 0\n",
    "    matrix_B = [[0 for i in range(len(matrix_A))]\n",
    "             for j in range(len(matrix_A[0]))]\n",
    "\n",
    "    #Transpose of matrix\n",
    "    for i in range(len(matrix_A)):\n",
    "        for j in range(len(matrix_A[0])):\n",
    "            matrix_B[j][i] = matrix_A[i][j]\n",
    "    \n",
    "    print(\"Transpose of matrix_A: \", matrix_B)\n",
    "\n",
    "    #Reversing each row of matrix_B\n",
    "    M = len(matrix_B)#Number of rows\n",
    "    N = len(matrix_B)#Number of columns\n",
    "    for i in range(M):\n",
    "        for j in range(N//2):\n",
    "            #reversing each row\n",
    "            matrix_B[i][j], matrix_B[i][N-j-1] = matrix_B[i][N-j-1], matrix_B[i][j]\n",
    "\n",
    "    print(\"Rotating matrix_A by 90 degree: \", matrix_B)\n",
    "\n",
    "matrix_A =[[9, 7, 8],\n",
    "           [3, 6, 7],\n",
    "           [1, 2, 3]]\n",
    "rotated(matrix_A)"
   ]
  },
  {
   "cell_type": "code",
   "execution_count": 5,
   "id": "2514c32d",
   "metadata": {},
   "outputs": [
    {
     "name": "stdout",
     "output_type": "stream",
     "text": [
      "matrix_A: \n",
      "9 7 8 \n",
      "3 6 7 \n",
      "1 2 3 \n",
      "Transpose of matrix_A: \n",
      "9 3 1 \n",
      "7 6 2 \n",
      "8 7 3 \n",
      "Rotating matrix_A by 90 degree: \n",
      "1 3 9 \n",
      "2 6 7 \n",
      "3 7 8 \n"
     ]
    }
   ],
   "source": [
    "def rotated(matrix_A):\n",
    "    print(\"matrix_A: \")\n",
    "    for i in range(len(matrix_A)):\n",
    "        for j in range(len(matrix_A)):\n",
    "            print(matrix_A[i][j], end = \" \")\n",
    "        print()\n",
    "    \n",
    "    #Initializing matrix_B with 0\n",
    "    matrix_B = [[0 for i in range(len(matrix_A))]\n",
    "             for j in range(len(matrix_A[0]))]\n",
    "\n",
    "    #Transpose of matrix\n",
    "    for i in range(len(matrix_A)):\n",
    "        for j in range(len(matrix_A[0])):\n",
    "            matrix_B[j][i] = matrix_A[i][j]\n",
    "    \n",
    "    print(\"Transpose of matrix_A: \")\n",
    "    for i in range(len(matrix_B)):\n",
    "        for j in range(len(matrix_B)):\n",
    "            print(matrix_B[i][j], end = \" \")\n",
    "        print()\n",
    "\n",
    "    #Reversing each row of matrix_B\n",
    "    M = len(matrix_B)#Number of rows\n",
    "    N = len(matrix_B)#Number of columns\n",
    "    for i in range(M):\n",
    "        for j in range(N//2):\n",
    "            #reversing each row\n",
    "            matrix_B[i][j], matrix_B[i][N-j-1] = matrix_B[i][N-j-1], matrix_B[i][j]\n",
    "\n",
    "    print(\"Rotating matrix_A by 90 degree: \")\n",
    "    for i in range(len(matrix_B)):\n",
    "        for j in range(len(matrix_B)):\n",
    "            print(matrix_B[i][j], end = \" \")\n",
    "        print()\n",
    "\n",
    "matrix_A =[[9, 7, 8],\n",
    "           [3, 6, 7],\n",
    "           [1, 2, 3]]\n",
    "rotated(matrix_A)"
   ]
  },
  {
   "cell_type": "markdown",
   "id": "7b8fbc8c",
   "metadata": {},
   "source": [
    "### Q13.\n",
    "\n",
    "Iterate through python list."
   ]
  },
  {
   "cell_type": "code",
   "execution_count": 10,
   "id": "aa885bb5",
   "metadata": {},
   "outputs": [
    {
     "name": "stdout",
     "output_type": "stream",
     "text": [
      "Iterating through for loop\n",
      "1\t3\t5\t7\t9\t\n",
      "Iterating through while loop\n",
      "1\t3\t5\t7\t9\t\n",
      "Iterating using list comprehend\n",
      "1\t3\t5\t7\t9\t\n",
      "Iterating using enumerate\n",
      "1\t3\t5\t7\t9\t"
     ]
    }
   ],
   "source": [
    "list = [1, 3, 5, 7, 9]\n",
    "print(\"Iterating through for loop\")\n",
    "for i in list:\n",
    "    print(i,end='\\t')\n",
    "    \n",
    "list = [1, 3, 5, 7, 9]\n",
    "print(\"\\nIterating through while loop\")\n",
    "length = len(list)\n",
    "i = 0\n",
    "while i < length:\n",
    "    print(list[i],end='\\t')\n",
    "    i += 1\n",
    "    \n",
    "list = [1, 3, 5, 7, 9]\n",
    "print(\"\\nIterating using list comprehend\")\n",
    "[print(i,end='\\t') for i in list]\n",
    "\n",
    "list = [1, 3, 5, 7, 9]\n",
    "print(\"\\nIterating using enumerate\")\n",
    "for i, val in enumerate(list):\n",
    "    print (val,end='\\t')"
   ]
  },
  {
   "cell_type": "markdown",
   "id": "5a2fc414",
   "metadata": {},
   "source": [
    "### Q14.\n",
    "How to Flatten a List in Python?"
   ]
  },
  {
   "cell_type": "code",
   "execution_count": 50,
   "id": "a382061c",
   "metadata": {},
   "outputs": [
    {
     "ename": "TypeError",
     "evalue": "isinstance() arg 2 must be a type or tuple of types",
     "output_type": "error",
     "traceback": [
      "\u001b[1;31m---------------------------------------------------------------------------\u001b[0m",
      "\u001b[1;31mTypeError\u001b[0m                                 Traceback (most recent call last)",
      "Input \u001b[1;32mIn [50]\u001b[0m, in \u001b[0;36m<cell line: 11>\u001b[1;34m()\u001b[0m\n\u001b[0;32m      7\u001b[0m         \u001b[38;5;28;01mreturn\u001b[39;00m flatten(list_of_lists[\u001b[38;5;241m0\u001b[39m]) \u001b[38;5;241m+\u001b[39m flatten(list_of_lists[\u001b[38;5;241m1\u001b[39m:])\n\u001b[0;32m      8\u001b[0m     \u001b[38;5;28;01mreturn\u001b[39;00m list_of_lists[:\u001b[38;5;241m1\u001b[39m] \u001b[38;5;241m+\u001b[39m flatten(list_of_lists[\u001b[38;5;241m1\u001b[39m:])\n\u001b[1;32m---> 11\u001b[0m \u001b[38;5;28mprint\u001b[39m(\u001b[43mflatten\u001b[49m\u001b[43m(\u001b[49m\u001b[43m[\u001b[49m\u001b[43m[\u001b[49m\u001b[38;5;241;43m1\u001b[39;49m\u001b[43m,\u001b[49m\u001b[43m \u001b[49m\u001b[38;5;241;43m2\u001b[39;49m\u001b[43m,\u001b[49m\u001b[43m \u001b[49m\u001b[38;5;241;43m3\u001b[39;49m\u001b[43m,\u001b[49m\u001b[43m \u001b[49m\u001b[38;5;241;43m4\u001b[39;49m\u001b[43m]\u001b[49m\u001b[43m,\u001b[49m\u001b[43m \u001b[49m\u001b[43m[\u001b[49m\u001b[38;5;241;43m5\u001b[39;49m\u001b[43m,\u001b[49m\u001b[43m \u001b[49m\u001b[38;5;241;43m6\u001b[39;49m\u001b[43m,\u001b[49m\u001b[43m \u001b[49m\u001b[38;5;241;43m7\u001b[39;49m\u001b[43m]\u001b[49m\u001b[43m,\u001b[49m\u001b[43m \u001b[49m\u001b[43m[\u001b[49m\u001b[38;5;241;43m8\u001b[39;49m\u001b[43m,\u001b[49m\u001b[43m \u001b[49m\u001b[38;5;241;43m9\u001b[39;49m\u001b[43m]\u001b[49m\u001b[43m,\u001b[49m\u001b[43m \u001b[49m\u001b[38;5;241;43m10\u001b[39;49m\u001b[43m]\u001b[49m\u001b[43m)\u001b[49m)\n",
      "Input \u001b[1;32mIn [50]\u001b[0m, in \u001b[0;36mflatten\u001b[1;34m(list_of_lists)\u001b[0m\n\u001b[0;32m      4\u001b[0m \u001b[38;5;28;01mif\u001b[39;00m \u001b[38;5;28mlen\u001b[39m(list_of_lists) \u001b[38;5;241m==\u001b[39m \u001b[38;5;241m0\u001b[39m:\n\u001b[0;32m      5\u001b[0m     \u001b[38;5;28;01mreturn\u001b[39;00m list_of_lists\n\u001b[1;32m----> 6\u001b[0m \u001b[38;5;28;01mif\u001b[39;00m \u001b[38;5;28;43misinstance\u001b[39;49m\u001b[43m(\u001b[49m\u001b[43mlist_of_lists\u001b[49m\u001b[43m[\u001b[49m\u001b[38;5;241;43m0\u001b[39;49m\u001b[43m]\u001b[49m\u001b[43m,\u001b[49m\u001b[43m \u001b[49m\u001b[38;5;28;43mlist\u001b[39;49m\u001b[43m)\u001b[49m:\n\u001b[0;32m      7\u001b[0m     \u001b[38;5;28;01mreturn\u001b[39;00m flatten(list_of_lists[\u001b[38;5;241m0\u001b[39m]) \u001b[38;5;241m+\u001b[39m flatten(list_of_lists[\u001b[38;5;241m1\u001b[39m:])\n\u001b[0;32m      8\u001b[0m \u001b[38;5;28;01mreturn\u001b[39;00m list_of_lists[:\u001b[38;5;241m1\u001b[39m] \u001b[38;5;241m+\u001b[39m flatten(list_of_lists[\u001b[38;5;241m1\u001b[39m:])\n",
      "\u001b[1;31mTypeError\u001b[0m: isinstance() arg 2 must be a type or tuple of types"
     ]
    }
   ],
   "source": [
    "# Recursvely\n",
    "\n",
    "def flatten(list_of_lists):\n",
    "    if len(list_of_lists) == 0:\n",
    "        return list_of_lists\n",
    "    if isinstance(list_of_lists[0], list):\n",
    "        return flatten(list_of_lists[0]) + flatten(list_of_lists[1:])\n",
    "    return list_of_lists[:1] + flatten(list_of_lists[1:])\n",
    "\n",
    "\n",
    "print(flatten([[1, 2, 3, 4], [5, 6, 7], [8, 9], 10]))"
   ]
  },
  {
   "cell_type": "code",
   "execution_count": 47,
   "id": "802f893d",
   "metadata": {},
   "outputs": [
    {
     "data": {
      "text/plain": [
       "['Hello world', ['hi', 2], 4]"
      ]
     },
     "execution_count": 47,
     "metadata": {},
     "output_type": "execute_result"
    }
   ],
   "source": [
    "new_lst = []\n",
    "def flat(lst):\n",
    "    global new_lst\n",
    "    for item in lst:\n",
    "        if type(item) == list:\n",
    "            for i in item:\n",
    "                new_lst.append(i)\n",
    "        new_lst.append(item)\n",
    "        \n",
    "    return new_lst\n",
    "\n",
    "flat([\"Hello world\", [\"hi\", 2], 4])\n",
    "        \n",
    "    "
   ]
  },
  {
   "cell_type": "code",
   "execution_count": 49,
   "id": "ec97ac7c",
   "metadata": {},
   "outputs": [
    {
     "data": {
      "text/plain": [
       "[['Tomato and Cucumber', 'Hummus, Beetroot, and Lettuce'],\n",
       " ['Cheese', 'Egg'],\n",
       " ['Ham', 'Bacon', 'Chicken Club', 'Tuna']]"
      ]
     },
     "execution_count": 49,
     "metadata": {},
     "output_type": "execute_result"
    }
   ],
   "source": [
    "foods = [[\"Tomato and Cucumber\", \"Hummus, Beetroot, and Lettuce\"],\n",
    "       [\"Cheese\", \"Egg\"],\n",
    "       [\"Ham\", \"Bacon\", \"Chicken Club\", \"Tuna\"]]\n",
    "\n",
    "\n",
    "flatten_food = []\n",
    "def flatten_func(foods):\n",
    "    for item in foods:\n",
    "        if type(item) is  list:\n",
    "            flatten_func(item)\n",
    "        \n",
    "        flatten_food.append(item)\n",
    "            \n",
    "    return flatten_food\n",
    "\n",
    "flatten_func(foods)\n",
    "        "
   ]
  },
  {
   "cell_type": "code",
   "execution_count": 15,
   "id": "f2981b9d",
   "metadata": {},
   "outputs": [
    {
     "name": "stdout",
     "output_type": "stream",
     "text": [
      "using list comprehension\n",
      "\n",
      "['Tomato and Cucumber', 'Hummus, Beetroot, and Lettuce', 'Cheese', ['mango'], 'Egg', 'Ham', 'Bacon', 'Chicken Club', 'Tuna']\n",
      "\n",
      "using nested for loop\n",
      "\n",
      "['Tomato and Cucumber', 'Hummus, Beetroot, and Lettuce', 'Cheese', ['mango'], 'Egg', 'Ham', 'Bacon', 'Chicken Club', 'Tuna']\n"
     ]
    }
   ],
   "source": [
    "foods = [\n",
    "       [\"Tomato and Cucumber\", \"Hummus, Beetroot, and Lettuce\"],\n",
    "       [\"Cheese\", [\"mango\"],\"Egg\"],\n",
    "       [\"Ham\", \"Bacon\", \"Chicken Club\", \"Tuna\"]\n",
    "]\n",
    "print(\"using list comprehension\\n\")\n",
    "new_foods = [food for sublist in foods for food in sublist]\n",
    "print(new_foods)\n",
    "\n",
    "print(\"\\nusing nested for loop\\n\")\n",
    "new_foods = []\n",
    "for sublist in foods:\n",
    "    for food in sublist:\n",
    "        new_foods.append(food)\n",
    "print(new_foods)"
   ]
  },
  {
   "cell_type": "markdown",
   "id": "dd4fdb9c",
   "metadata": {},
   "source": [
    "### Q15.\n",
    "How to Print List Items Without Bracket With Comma?\n",
    "\n",
    "The symbol * is used to print a list without brackets. The argument sep is used in print() function, to print list items with a comma."
   ]
  },
  {
   "cell_type": "code",
   "execution_count": 18,
   "id": "bcea3009",
   "metadata": {},
   "outputs": [
    {
     "name": "stdout",
     "output_type": "stream",
     "text": [
      "Welcome, Home, people, 1, 3, 6\n"
     ]
    }
   ],
   "source": [
    "my_list = [\"Welcome\", \"Home\", \"people\",1,3,6]\n",
    "print(*my_list, sep = \", \")"
   ]
  },
  {
   "cell_type": "markdown",
   "id": "e50dcd23",
   "metadata": {},
   "source": [
    "### Q16.\n",
    "How to Limit a List to 8 in Python?\n",
    "\n",
    "The slicing method can be used to limit the size of the list to 8."
   ]
  },
  {
   "cell_type": "code",
   "execution_count": 19,
   "id": "8e94d652",
   "metadata": {},
   "outputs": [
    {
     "name": "stdout",
     "output_type": "stream",
     "text": [
      "[1, 2, 3, 4, 5, 6, 7, 8]\n"
     ]
    }
   ],
   "source": [
    "my_list=[1,2,3,4,5,6,7,8,9,10,11,12]\n",
    "if len(my_list) > 8:\n",
    "    my_list = my_list[:8]\n",
    "print(my_list)"
   ]
  },
  {
   "cell_type": "markdown",
   "id": "49a9baed",
   "metadata": {},
   "source": [
    "### Q17.\n",
    "How to Build Reverse a List Function using Python?\n",
    "\n",
    "The following user-defined function reverses the list by traversing using for loop and insert() function."
   ]
  },
  {
   "cell_type": "code",
   "execution_count": 20,
   "id": "563ed9bc",
   "metadata": {},
   "outputs": [
    {
     "name": "stdout",
     "output_type": "stream",
     "text": [
      "[5, 4, 3, 2, 1]\n"
     ]
    }
   ],
   "source": [
    "def reverse(a):\n",
    "    rev_str = []\n",
    "    for x in a:\n",
    "        rev_str.insert(0, x)\n",
    "    return rev_str\n",
    "print(reverse([1,2,3,4,5]))"
   ]
  },
  {
   "cell_type": "markdown",
   "id": "d6031ff0",
   "metadata": {},
   "source": [
    "#### 18.\n",
    "How to Identify Whether a Variable is a List in Python?\n",
    "\n",
    "The isinstance() method can be used to identify whether a variable is a list or not. This method takes object and classinfo as parameters. The parameter classinfo is set to list here."
   ]
  },
  {
   "cell_type": "code",
   "execution_count": 31,
   "id": "183b7df1",
   "metadata": {},
   "outputs": [
    {
     "ename": "TypeError",
     "evalue": "isinstance() arg 2 must be a type or tuple of types",
     "output_type": "error",
     "traceback": [
      "\u001b[1;31m---------------------------------------------------------------------------\u001b[0m",
      "\u001b[1;31mTypeError\u001b[0m                                 Traceback (most recent call last)",
      "Input \u001b[1;32mIn [31]\u001b[0m, in \u001b[0;36m<cell line: 2>\u001b[1;34m()\u001b[0m\n\u001b[0;32m      1\u001b[0m a_list \u001b[38;5;241m=\u001b[39m [\u001b[38;5;124m\"\u001b[39m\u001b[38;5;124ma\u001b[39m\u001b[38;5;124m\"\u001b[39m, \u001b[38;5;124m\"\u001b[39m\u001b[38;5;124mb\u001b[39m\u001b[38;5;124m\"\u001b[39m, \u001b[38;5;124m\"\u001b[39m\u001b[38;5;124mc\u001b[39m\u001b[38;5;124m\"\u001b[39m]\n\u001b[1;32m----> 2\u001b[0m list_check \u001b[38;5;241m=\u001b[39m \u001b[38;5;28;43misinstance\u001b[39;49m\u001b[43m(\u001b[49m\u001b[43ma_list\u001b[49m\u001b[43m,\u001b[49m\u001b[43m \u001b[49m\u001b[38;5;28;43mlist\u001b[39;49m\u001b[43m)\u001b[49m\n\u001b[0;32m      3\u001b[0m \u001b[38;5;28mprint\u001b[39m(list_check,\u001b[38;5;124m\"\u001b[39m\u001b[38;5;124m It is a list\u001b[39m\u001b[38;5;124m\"\u001b[39m)\n",
      "\u001b[1;31mTypeError\u001b[0m: isinstance() arg 2 must be a type or tuple of types"
     ]
    }
   ],
   "source": [
    "a_list = [\"a\", \"b\", \"c\"]\n",
    "list_check = isinstance(a_list, list)\n",
    "print(list_check,\" It is a list\")"
   ]
  },
  {
   "cell_type": "code",
   "execution_count": 27,
   "id": "d5f2ba0e",
   "metadata": {},
   "outputs": [
    {
     "data": {
      "text/plain": [
       "True"
      ]
     },
     "execution_count": 27,
     "metadata": {},
     "output_type": "execute_result"
    }
   ],
   "source": [
    "#a_list = [\"a\", \"b\", \"c\"]\n",
    "isinstance(\"hello\", str)"
   ]
  },
  {
   "cell_type": "markdown",
   "id": "c517c767",
   "metadata": {},
   "source": [
    "### Q19. \n",
    "How to Make a List of 20 Unique Random Integers in Python?\n",
    "\n",
    "The random.sample() method is used to generate 20 unique random integers."
   ]
  },
  {
   "cell_type": "code",
   "execution_count": 32,
   "id": "4e831f0d",
   "metadata": {},
   "outputs": [
    {
     "data": {
      "text/plain": [
       "[1, 20, 4, 18, 9, 8, 6, 5, 27, 29, 21, 7, 12, 16, 24, 10, 11, 13, 15, 23]"
      ]
     },
     "execution_count": 32,
     "metadata": {},
     "output_type": "execute_result"
    }
   ],
   "source": [
    "import random\n",
    "var = random.sample(range(1, 30), 20)\n",
    "var"
   ]
  },
  {
   "cell_type": "markdown",
   "id": "7ecb67c8",
   "metadata": {},
   "source": [
    "### 20. \n",
    "How to Pull a Random Variable from List using Python?\n",
    "We can use random.choice() method to pull a random variable from the list. The list variable is passed as an argument to the method."
   ]
  },
  {
   "cell_type": "code",
   "execution_count": 33,
   "id": "57bfbb8a",
   "metadata": {},
   "outputs": [
    {
     "name": "stdout",
     "output_type": "stream",
     "text": [
      "The randomly chosen variable:\n",
      "4\n"
     ]
    }
   ],
   "source": [
    "my_list=[1,2,3,4,5,6,\"hello\",\"tech\"]\n",
    "print(\"The randomly chosen variable:\")\n",
    "print(random.choice(my_list))"
   ]
  },
  {
   "cell_type": "markdown",
   "id": "e689af29",
   "metadata": {},
   "source": [
    "### Q21.\n",
    "Which Python Keyword is Used to Iterate through a List?\n",
    "\n",
    "The iter() and next() is used to iterate through the list."
   ]
  },
  {
   "cell_type": "code",
   "execution_count": 34,
   "id": "ae6af246",
   "metadata": {},
   "outputs": [
    {
     "name": "stdout",
     "output_type": "stream",
     "text": [
      "apple\n"
     ]
    }
   ],
   "source": [
    "mylist = iter([\"apple\", \"banana\", \"cherry\"])\n",
    "x = next(mylist, \"orange\")\n",
    "print(x)"
   ]
  },
  {
   "cell_type": "markdown",
   "id": "cc6ca007",
   "metadata": {},
   "source": [
    "### Q22. How to not include Hyphenated Words in List using Python?\n",
    "\n",
    "`The for loop is used to iterate through the list. The range() function iterates through each character in each word of the list. The replace() function replaces hyphen(-) with empty character(“”).`"
   ]
  },
  {
   "cell_type": "code",
   "execution_count": 35,
   "id": "60c8c5a9",
   "metadata": {},
   "outputs": [
    {
     "name": "stdout",
     "output_type": "stream",
     "text": [
      "['helloworld', 'welcomehome', 'all']\n"
     ]
    }
   ],
   "source": [
    "mylist=[\"hello-w-orld\",\"welco-me-home-\",\"a-ll\"]\n",
    "newlist=[]\n",
    "for word in mylist:\n",
    "    size=len(word)\n",
    "    for i in range(0,size):\n",
    "        newword=word.replace(\"-\",\"\")\n",
    "    newlist.append(newword)\n",
    "print(newlist)"
   ]
  },
  {
   "cell_type": "code",
   "execution_count": 36,
   "id": "56ec31c2",
   "metadata": {},
   "outputs": [
    {
     "name": "stdout",
     "output_type": "stream",
     "text": [
      "['helloworld', 'welcomehome', 'all']\n"
     ]
    }
   ],
   "source": [
    "mylist=[\"hello-w-orld\",\"welco-me-home-\",\"a-ll\"]\n",
    "newlist=[]\n",
    "for word in mylist:\n",
    "    newlist.append(word.replace(\"-\",\"\"))\n",
    "    \n",
    "print(newlist)\n",
    "    "
   ]
  },
  {
   "cell_type": "code",
   "execution_count": 52,
   "id": "52214d07",
   "metadata": {},
   "outputs": [
    {
     "ename": "TypeError",
     "evalue": "isinstance() arg 2 must be a type or tuple of types",
     "output_type": "error",
     "traceback": [
      "\u001b[1;31m---------------------------------------------------------------------------\u001b[0m",
      "\u001b[1;31mTypeError\u001b[0m                                 Traceback (most recent call last)",
      "Input \u001b[1;32mIn [52]\u001b[0m, in \u001b[0;36m<cell line: 4>\u001b[1;34m()\u001b[0m\n\u001b[0;32m      1\u001b[0m numbers \u001b[38;5;241m=\u001b[39m [\u001b[38;5;241m1\u001b[39m, \u001b[38;5;241m2\u001b[39m, \u001b[38;5;241m3\u001b[39m, \u001b[38;5;241m4\u001b[39m, \u001b[38;5;241m2\u001b[39m, \u001b[38;5;241m5\u001b[39m]\n\u001b[0;32m      3\u001b[0m \u001b[38;5;66;03m# check if numbers is instance of list\u001b[39;00m\n\u001b[1;32m----> 4\u001b[0m result \u001b[38;5;241m=\u001b[39m \u001b[38;5;28;43misinstance\u001b[39;49m\u001b[43m(\u001b[49m\u001b[43mnumbers\u001b[49m\u001b[43m,\u001b[49m\u001b[43m \u001b[49m\u001b[38;5;28;43mlist\u001b[39;49m\u001b[43m)\u001b[49m\n\u001b[0;32m      5\u001b[0m \u001b[38;5;28mprint\u001b[39m(result)\n",
      "\u001b[1;31mTypeError\u001b[0m: isinstance() arg 2 must be a type or tuple of types"
     ]
    }
   ],
   "source": [
    "numbers = [1, 2, 3, 4, 2, 5]\n",
    "\n",
    "# check if numbers is instance of list\n",
    "result = isinstance(numbers, list)\n",
    "print(result)\n"
   ]
  },
  {
   "cell_type": "code",
   "execution_count": null,
   "id": "0a1ec580",
   "metadata": {},
   "outputs": [],
   "source": []
  }
 ],
 "metadata": {
  "kernelspec": {
   "display_name": "Python 3 (ipykernel)",
   "language": "python",
   "name": "python3"
  },
  "language_info": {
   "codemirror_mode": {
    "name": "ipython",
    "version": 3
   },
   "file_extension": ".py",
   "mimetype": "text/x-python",
   "name": "python",
   "nbconvert_exporter": "python",
   "pygments_lexer": "ipython3",
   "version": "3.9.7"
  }
 },
 "nbformat": 4,
 "nbformat_minor": 5
}
