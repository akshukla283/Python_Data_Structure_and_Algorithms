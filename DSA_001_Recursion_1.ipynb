{
 "cells": [
  {
   "cell_type": "markdown",
   "id": "8b636b31",
   "metadata": {},
   "source": [
    "### Recursion in Python :\n",
    "\n",
    "\n",
    "Recursion is a technique where a function makes a call to itself. Recursion breaks the problem into smaller ones and is easier to use. In recursion, the same operation is performed multiple times with the smaller inputs to make the problem smaller.\n",
    "\n",
    "\n",
    "We use recursion with data structures like trees, graphs and also with different algorithms such as the divide and conquer algorithm, greedy algorithm, and dynamic programming.\n",
    "\n",
    "\n",
    "\n",
    "### Working of Recursion :\n",
    "\n",
    "There are three conditions that we should follow while working with recursion.\n",
    "\n",
    "#### 1. A Base Condition :\n",
    "\n",
    "A base condition, to exit from an infinite loop. A base condition is very important for a recursive function to terminate the function call, if not provided the function will call itself infinitely.\n",
    "\n",
    "#### 2. A Function Call : \n",
    "\n",
    "A function call, where a function calls itself with smaller values.\n",
    "\n",
    "#### 3. A Condition for Unintnstional Cases :\n",
    "\n",
    "A condition for unintentional cases, to check if the input is valid or not.\n",
    "\n",
    "\n",
    "\n",
    "* `Recursion uses a stack memory` to keep the track of the data when a function call is made recursively. Let us consider the following example. As soon as we call the `method_1,` the first statement in the `method_1` is to call the `method_2.` Now, the control of the program moves to `method_2`.\n",
    "\n",
    "\n",
    "\n",
    "* After completing the execution of `method_2,` the control needs to come back to `method_1` to execute the rest of the code. The system needs to store the `method_1 `somewhere to execute the rest of the code.\n",
    "\n",
    "\n",
    "\n",
    "* Hence, the system pushes the `method_1` to stack memory. In this way, the system remembers that it needs to execute the remaining code of `method_1.`"
   ]
  },
  {
   "cell_type": "code",
   "execution_count": 1,
   "id": "ea1fa037",
   "metadata": {},
   "outputs": [],
   "source": [
    "def method_1():\n",
    "    method_2()\n",
    "    print(\"This is First Method\")\n",
    "def method_2():\n",
    "    print(\"This is Second Method\")"
   ]
  },
  {
   "cell_type": "code",
   "execution_count": 2,
   "id": "d69fa305",
   "metadata": {},
   "outputs": [
    {
     "name": "stdout",
     "output_type": "stream",
     "text": [
      "This is Second Method\n",
      "This is First Method\n"
     ]
    }
   ],
   "source": [
    "method_1()"
   ]
  },
  {
   "cell_type": "markdown",
   "id": "271b1810",
   "metadata": {},
   "source": [
    "#### Recursion Example\n",
    "\n",
    "\n",
    "Let us consider an example to find the factorial of a number using recursion. In mathematics, the factorial of a number n(denoted as n!) is the product of all the integers from 1 to that number. The factorial of numbers 1 and 0 is 1 and the factorial for negative numbers or floating-point numbers are not defined."
   ]
  },
  {
   "cell_type": "markdown",
   "id": "eb786785",
   "metadata": {},
   "source": [
    "`n! = n *  (n-1) * (n-2) … 3 * 2 *  1`\n",
    "`Example, \n",
    "5! = 5 * 4 * 3* 2* 1 = 120`\n",
    "\n",
    "mathematically\n",
    "\n",
    "`fact(n)  = n *  (n-1) * (n-2) … 3 * 2 *  1 -----eq(1)     \n",
    "fact(n-1) = (n-1) * (n-2) … 3 * 2 *  1     ------eq(2)\n",
    "From eq(1) and eq(2):\n",
    "fact(n) = n* fact(n-1)`\n",
    "\n",
    "In the following example, we calculate the factorial of the number 4.\n",
    "\n",
    "\n",
    "#### Base Condition:\n",
    "\n",
    "The smallest possible input for the factorial of a number is 0 and 1. Hence, the recursion stops when the number is reduced to 0 or 1. This is the base condition.\n",
    "\n",
    "\n",
    "#### Recursive case:\n",
    "\n",
    "If the number is greater than 1, the function makes a recursive call fact(n) = n* fact(n-1) to itself.\n",
    "\n",
    "\n",
    "#### Unintentional cases:\n",
    "\n",
    "\n",
    "The factorial for negative numbers or floating-point numbers are not defined.\n",
    "\n",
    "\n"
   ]
  },
  {
   "cell_type": "code",
   "execution_count": 3,
   "id": "02252d87",
   "metadata": {},
   "outputs": [
    {
     "name": "stdout",
     "output_type": "stream",
     "text": [
      "24\n"
     ]
    }
   ],
   "source": [
    "def factorial(n):\n",
    "    if (n < 0 or int(n) != n):   #unintentional cases\n",
    "        return \"Not defined\"    #negative or floating point values\n",
    "    \n",
    "    if (n == 1 or n == 0): #base condition\n",
    "        return 1\n",
    "    else:\n",
    "        return n * factorial(n-1) # recursive calls\n",
    "    \n",
    "    \n",
    "       \n",
    "x = factorial(4) #calling function factorial\n",
    "print(x) "
   ]
  },
  {
   "cell_type": "markdown",
   "id": "46412e03",
   "metadata": {},
   "source": [
    "Let us look at the step-by-step process.\n",
    "![](recursion.png)"
   ]
  },
  {
   "cell_type": "markdown",
   "id": "fb829336",
   "metadata": {},
   "source": [
    "![](recursion_iteration.png)"
   ]
  },
  {
   "cell_type": "markdown",
   "id": "ba1eb5e5",
   "metadata": {},
   "source": [
    "![](recursion_type.png)"
   ]
  },
  {
   "cell_type": "markdown",
   "id": "3a8bd5e8",
   "metadata": {},
   "source": [
    "\n",
    "\n",
    "#### 1. Direct Recursion\n",
    "#### 2. Indirect Recursion\n",
    "\n",
    "\n",
    "\n",
    "#### 1. Direct Recursion:\n",
    "\n",
    "In the direct recursion technique, the function calls itself repeatedly until a base condition is satisfied. The direct recursion is again subdivided into different categories as follows.\n",
    "\n",
    "* Tail\n",
    "\n",
    "* Head\n",
    "\n",
    "* Tree\n",
    "\n",
    "* Nested\n",
    "\n",
    "\n",
    "\n",
    "#### I.   Tail Recursion:\n",
    "\n",
    "If a recursive function is calling itself and the recursive call is the last statement in the function, then it is called Tail recursion.\n",
    "\n",
    "After the recursive call, the function doesn’t execute any statements or instructions. In tail recursion, all the operations are performed at the calling time and no operations are performed at the returning time.\n",
    "\n",
    "\n",
    "In the following example, the function my_func() executes the print statement in the calling time and then makes the recursive call at the end."
   ]
  },
  {
   "cell_type": "code",
   "execution_count": 7,
   "id": "49b1c6bd",
   "metadata": {},
   "outputs": [
    {
     "name": "stdout",
     "output_type": "stream",
     "text": [
      "4 3 2 1 "
     ]
    }
   ],
   "source": [
    "# Tail Recursion\n",
    "\n",
    "def  my_func(n):\n",
    "    if (n > 0):\n",
    "        print(n, end =  \" \")\n",
    "        my_func(n-1)\n",
    "my_func(4)\n",
    "\n",
    "#Output: 4 3 2 1"
   ]
  },
  {
   "cell_type": "markdown",
   "id": "bd1a54fe",
   "metadata": {},
   "source": [
    "#### II. Head Recursion:\n",
    "\n",
    "\n",
    "If a recursive function is calling itself and the recursive call is the first statement in the function, then it is called Head recursion. There is no statement or instructions before the recursive call. In head recursion, all the operations are performed at the returning time and no operations are performed at the calling time.\n",
    "\n",
    "In the following example, the function my_func() makes a recursive call to itself and then executes the print statement in returning time."
   ]
  },
  {
   "cell_type": "code",
   "execution_count": 8,
   "id": "987b082a",
   "metadata": {},
   "outputs": [
    {
     "name": "stdout",
     "output_type": "stream",
     "text": [
      "1 2 3 4 "
     ]
    }
   ],
   "source": [
    "def  my_func(n):\n",
    "    if (n > 0):\n",
    "        my_func(n-1)\n",
    "        print(n, end = \" \")\n",
    "my_func(4)\n",
    "\n",
    "#Output: 1 2 3 4"
   ]
  },
  {
   "cell_type": "markdown",
   "id": "a32f6ae7",
   "metadata": {},
   "source": [
    "#### III.  Tree Recursion:\n",
    "\n",
    "If a function is calling itself more than one time, then it is known as Tree Recursion. In the following example, we make a call to my_func() recursively two times."
   ]
  },
  {
   "cell_type": "code",
   "execution_count": 1,
   "id": "52376c4e",
   "metadata": {},
   "outputs": [
    {
     "name": "stdout",
     "output_type": "stream",
     "text": [
      "4 3 2 1 1 2 1 1 3 2 1 1 2 1 1 "
     ]
    }
   ],
   "source": [
    "## Tree Recursion\n",
    "\n",
    "\n",
    "def  my_func(n):\n",
    "    if (n > 0):\n",
    "        print(n, end= \" \")\n",
    "        my_func(n-1) #first call\n",
    "        my_func(n-1) #second call\n",
    "my_func(4)\n",
    "\n",
    "#Output: 1 2 3 4"
   ]
  },
  {
   "cell_type": "markdown",
   "id": "77090363",
   "metadata": {},
   "source": [
    "####   IV.   Nested Recursion:\n",
    "In nested recursion, a recursive call takes a recursive call as a parameter, i.e. `recursion inside recursion.`\n",
    "\n",
    "In the following example, `my_func(my_func(n + 11)) `the recursive call takes another recursive call as a parameter."
   ]
  },
  {
   "cell_type": "code",
   "execution_count": 2,
   "id": "ea49d3e0",
   "metadata": {},
   "outputs": [
    {
     "name": "stdout",
     "output_type": "stream",
     "text": [
      "91\n"
     ]
    }
   ],
   "source": [
    "def  my_func(n):\n",
    "    if (n > 100):\n",
    "        return n - 10\n",
    "    else:\n",
    "        return my_func(my_func(n + 11))\n",
    "print(my_func(95))\n",
    "\n",
    "#Output: 91"
   ]
  },
  {
   "cell_type": "markdown",
   "id": "e2f664a9",
   "metadata": {},
   "source": [
    "### 2. Indirect Recursion:\n",
    "\n",
    "In the indirect recursion, more than one function calls one another circularly. For example, consider three functions func_A, func_B, and func_C. The func_A calls func_B, func_B calls func_C, and func_C calls func_A circularly."
   ]
  },
  {
   "cell_type": "code",
   "execution_count": 3,
   "id": "70bda865",
   "metadata": {},
   "outputs": [
    {
     "name": "stdout",
     "output_type": "stream",
     "text": [
      "20 19 18 9 8 7 3 2 1 "
     ]
    }
   ],
   "source": [
    "def func_A(n):\n",
    "    if n > 0:\n",
    "        print(n, end = \" \")\n",
    "        func_B(n - 1) #calling func_B\n",
    "        \n",
    "\n",
    "def func_B(n):\n",
    "    if n > 0:\n",
    "        print(n, end = \" \")\n",
    "        func_C(n - 1) #calling func_C\n",
    "        \n",
    "        \n",
    "def func_C(n):\n",
    "    if n > 0:\n",
    "        print(n, end = \" \")\n",
    "        func_A(n // 2) #calling func_A\n",
    "        \n",
    "        \n",
    "\n",
    "func_A(20)\n",
    "\n",
    "#Output: 20 19 18 9 8 7 3 2 1 "
   ]
  },
  {
   "cell_type": "markdown",
   "id": "ae1d38fc",
   "metadata": {},
   "source": [
    "#### Different Cases to use/avoid recursion :\n",
    "\n",
    "#### Cases to use recursion :\n",
    "\n",
    "\n",
    "* If a problem can be broken down into similar sub-problems.\n",
    "\n",
    "\n",
    "* If the time complexity and space is not an issue and,\n",
    "\n",
    "\n",
    "* When we need a quick solution instead of an efficient one.\n",
    "\n",
    "\n",
    "* The recursion technique can also be used with different data structure trees, graphs, and also with different algorithms such as the divide and conquer algorithm, greedy algorithm, and dynamic programming.\n",
    "\n",
    "\n",
    "#### Cases to Avoid recursion :\n",
    "\n",
    "*  If a problem cannot be broken down into similar sub-problems.\n",
    "\n",
    "* If we need an efficient solution and time & space complexity are important to us.\n",
    "\n",
    "\n",
    "#### Popular recursion examples\n",
    "\n",
    "#### Fibonacci number\n",
    "\n",
    "`In this example, we use recursion to find the Fibonacci series. A Fibonacci series is a series of numbers in which each number is the sum of two preceding numbers. The sequence starts from 0 and 1. The Fibonacci sequence is given as follows.`"
   ]
  },
  {
   "cell_type": "markdown",
   "id": "4c6d86c5",
   "metadata": {},
   "source": [
    "`0, 1, 1, 2, 3, 5, 8, 13, 21, 34, 55, 89...`\n",
    "\n",
    "`In the above series, consider the number 8 it is the sum of two preceding numbers 3 and 5(3 + 5 =8).`\n",
    "\n",
    "\n",
    "#### Base condition: \n",
    "\n",
    "The series starts from 0 and 1. These are reserved numbers. Hence, `fib(0) = 0 and fib(1) = 1.`\n",
    "\n",
    "#### Recursive case:\n",
    "\n",
    "`fib(n) = fib(n-1) + fib(n-2) where fib(n).` denotes nth number in Fibonacci series.\n",
    "\n",
    "#### Unintentional cases: \n",
    "\n",
    "The number n should not be a negative number or floating-point value."
   ]
  },
  {
   "cell_type": "code",
   "execution_count": 14,
   "id": "2b90bde3",
   "metadata": {},
   "outputs": [
    {
     "name": "stdout",
     "output_type": "stream",
     "text": [
      "Enter how many number you want in this Fibonacci series: 5\n",
      "0 1 1 2 3 "
     ]
    }
   ],
   "source": [
    "n = int(input(\"Enter how many number you want in this Fibonacci series: \"))\n",
    "\n",
    "first = 0\n",
    "second = 1\n",
    "for i in range(n):\n",
    "    print(first, end = \" \")\n",
    "    first, second = second, first + second\n",
    "    \n",
    "    \n",
    "    "
   ]
  },
  {
   "cell_type": "code",
   "execution_count": 37,
   "id": "7d606b5d",
   "metadata": {},
   "outputs": [
    {
     "name": "stdout",
     "output_type": "stream",
     "text": [
      "1.2\n",
      "<class 'str'>\n",
      "<class 'float'>\n"
     ]
    }
   ],
   "source": [
    "num = input()\n",
    "new = eval(num)\n",
    "print(type(num))\n",
    "print(type(new))"
   ]
  },
  {
   "cell_type": "code",
   "execution_count": 45,
   "id": "c5d058e3",
   "metadata": {},
   "outputs": [
    {
     "name": "stdout",
     "output_type": "stream",
     "text": [
      "Enter the number : 12\n",
      "Fibonacci series:\n",
      "0 1 1 2 3 5 8 13 21 34 55 89 "
     ]
    }
   ],
   "source": [
    "def fib(n):\n",
    "    if n < 0 or int(n) != n:\n",
    "        return \"Not defined\"\n",
    "    \n",
    "    elif n == 0 or n == 1 :\n",
    "        return n\n",
    "    else:\n",
    "        return fib(n-1) + fib(n-2)\n",
    "    \n",
    "    \n",
    "n_terms = input(\"Enter the number : \")\n",
    "n_terms = eval(n_terms)\n",
    "if n_terms <= 0 or int(n_terms) != n_terms:\n",
    "    print(\"Invalid input ! Please input a positive integer value\")\n",
    "else:\n",
    "    print(\"Fibonacci series:\")\n",
    "    for i in range(n_terms):\n",
    "        print(fib(i), end = \" \")"
   ]
  },
  {
   "cell_type": "code",
   "execution_count": 47,
   "id": "b28ac294",
   "metadata": {},
   "outputs": [
    {
     "name": "stdout",
     "output_type": "stream",
     "text": [
      "Enter number : 1.2\n"
     ]
    },
    {
     "data": {
      "text/plain": [
       "'Not defined'"
      ]
     },
     "execution_count": 47,
     "metadata": {},
     "output_type": "execute_result"
    }
   ],
   "source": [
    "def fib(n):\n",
    "    if n < 0 or int(n) != n:\n",
    "        return \"Not defined\"\n",
    "    \n",
    "    elif n == 0 or n == 1 :\n",
    "        return n\n",
    "    else:\n",
    "        return fib(n-1) + fib(n-2)\n",
    "\n",
    "n = input(\"Enter number : \")\n",
    "n = eval(n)\n",
    "fib(n)"
   ]
  },
  {
   "cell_type": "code",
   "execution_count": 4,
   "id": "12d02837",
   "metadata": {},
   "outputs": [],
   "source": [
    "def fib(n):\n",
    "    if n < 0 or int(n) != n:\n",
    "        return \"Not defined\"\n",
    "    \n",
    "    elif n == 0 or n == 1 :\n",
    "        return n\n",
    "    else:\n",
    "        return fib(n-1) + fib(n-2)\n",
    "\n",
    "    "
   ]
  },
  {
   "cell_type": "code",
   "execution_count": 5,
   "id": "5926900d",
   "metadata": {},
   "outputs": [
    {
     "name": "stdout",
     "output_type": "stream",
     "text": [
      "3\n"
     ]
    }
   ],
   "source": [
    "print(fib(4))#prints Fibonacci of 4th number in series\n",
    "#Output: 3"
   ]
  },
  {
   "cell_type": "code",
   "execution_count": 6,
   "id": "6943635b",
   "metadata": {},
   "outputs": [
    {
     "name": "stdout",
     "output_type": "stream",
     "text": [
      "0\n"
     ]
    }
   ],
   "source": [
    "print(fib(0))#prints Fibonacci of 0th number in series\n",
    "#Output: 0"
   ]
  },
  {
   "cell_type": "code",
   "execution_count": 7,
   "id": "1e65a483",
   "metadata": {},
   "outputs": [
    {
     "name": "stdout",
     "output_type": "stream",
     "text": [
      "Not defined\n"
     ]
    }
   ],
   "source": [
    "print(fib(-8))#prints Fibonacci of negative number\n",
    "#Output: Not defined"
   ]
  },
  {
   "cell_type": "code",
   "execution_count": 8,
   "id": "8191d71a",
   "metadata": {},
   "outputs": [
    {
     "name": "stdout",
     "output_type": "stream",
     "text": [
      "Not defined\n"
     ]
    }
   ],
   "source": [
    "print(fib(1.5))#prints Fibonacci of floating-point value\n",
    "#Output: Not defined"
   ]
  },
  {
   "cell_type": "markdown",
   "id": "d4991f50",
   "metadata": {},
   "source": [
    "Let us understand the example by tracing the program for fib(4).\n",
    "![](python-recursion-fibonacci.png)"
   ]
  },
  {
   "cell_type": "markdown",
   "id": "c9611b5a",
   "metadata": {},
   "source": [
    "#### Sum of digits of a positive number :\n",
    "\n",
    "Consider a number num = 3214. The sum of digits in the number num is (3 + 2 + 1 + 4 = 10). Now, to obtain each digit separately, we perform the modular and division operation.\n",
    "\n",
    "The (num % 10) gives the last digit, and the statement (num // 10) removes the last digit and returns the remaining part of the number. The function is then called recursively for the remaining digits.\n",
    "\n",
    "In the following code, we declare a user-defined function sum_digits() that takes a number num as a parameter.\n",
    "\n",
    "#### Base Condition:\n",
    "\n",
    "The smallest possible input for the recursive function sum_digits is 0. Hence, the recursion process stops when the number is reduced to 0.\n",
    "\n",
    "#### Recursive case:\n",
    "\n",
    "We call the function recursively for the remaining part of the number, excluding the last digit. The recursive call is sum_digits(num) = (num%10) + sum_digits(n//10).\n",
    "\n",
    "#### Unintentional cases:\n",
    "\n",
    "The number num should not be a negative number or a floating-point value. Otherwise, the program returns the unexpected output.\n"
   ]
  },
  {
   "cell_type": "code",
   "execution_count": 9,
   "id": "7640a7c5",
   "metadata": {},
   "outputs": [],
   "source": [
    "def sum_digits(num):\n",
    "    if num < 0 or int(num) != num:\n",
    "        return \"Not defined\"\n",
    "    elif num == 0:\n",
    "        return 0\n",
    "    else:\n",
    "        return (num % 10) + sum_digits(num//10)"
   ]
  },
  {
   "cell_type": "code",
   "execution_count": 10,
   "id": "dce5db30",
   "metadata": {},
   "outputs": [
    {
     "name": "stdout",
     "output_type": "stream",
     "text": [
      "10\n"
     ]
    }
   ],
   "source": [
    "print(sum_digits(3214)) #Positive number\n",
    "#Output: 10"
   ]
  },
  {
   "cell_type": "code",
   "execution_count": 11,
   "id": "ff627979",
   "metadata": {},
   "outputs": [
    {
     "name": "stdout",
     "output_type": "stream",
     "text": [
      "Not defined\n"
     ]
    }
   ],
   "source": [
    "print(sum_digits(-23))  # Negative number\n",
    "#Output: Not defined"
   ]
  },
  {
   "cell_type": "code",
   "execution_count": 12,
   "id": "180f1d21",
   "metadata": {},
   "outputs": [
    {
     "name": "stdout",
     "output_type": "stream",
     "text": [
      "Not defined\n"
     ]
    }
   ],
   "source": [
    "print(sum_digits(76.87)) #Floating-point value\n",
    "#Output: Not defined"
   ]
  },
  {
   "cell_type": "markdown",
   "id": "fb166bda",
   "metadata": {},
   "source": [
    "#### Power of a number\n",
    "The power of a number can be defined as, multiplying a number repetitively with itself. Consider a number x, when x is raised to the power of n, we multiply x with itself n number of times. Here, x represents the base, and n represents the exponent.\n",
    "\n",
    "Mathematically,\n",
    "\n",
    "`xn   =  x * x * x … (n times)\n",
    "x4 =  x * x * x* x\n",
    "X3 = x * x * x\n",
    "Now, from eq(1) and eq(2)\n",
    "X4 = x * x3`\n",
    "\n",
    "Hence, we can write program\n",
    "\n",
    "In the following program, we declare a user-defined function power() that takes the base and exp value as parameters.\n",
    "\n",
    "#### Base Condition:\n",
    "\n",
    "Any number raised to the power of 0 is 1. Hence, if the exponent value is reduced to 0, we return 1 and the recursion process stops.\n",
    "\n",
    "#### Recursive case:\n",
    "\n",
    "The recursive call is given as base * power(base, exp-1). In each recursive call, we reduce the value of the exp by 1.\n",
    "\n",
    "#### Unintentional cases:\n",
    "\n",
    "If the value of exp is negative or a float value, the function will call itself infinitely. Hence, the exp should not be a negative number or a floating-point value."
   ]
  },
  {
   "cell_type": "code",
   "execution_count": 15,
   "id": "2a63b6f8",
   "metadata": {},
   "outputs": [
    {
     "name": "stdout",
     "output_type": "stream",
     "text": [
      "81\n",
      "Enter a positive exponent value\n"
     ]
    }
   ],
   "source": [
    "def power(base, exp):\n",
    "    if exp < 0 or int(exp) != exp:\n",
    "        return \"Enter a positive exponent value\"\n",
    "    elif exp == 0:\n",
    "        return 1\n",
    "    else:\n",
    "        return base * power(base, exp - 1)\n",
    "    \n",
    "print(power(3, 4))\n",
    "#Output: 81\n",
    "\n",
    "print(power(3, -2))\n",
    "#Output: Enter a positive exponent value"
   ]
  },
  {
   "cell_type": "code",
   "execution_count": 21,
   "id": "49b37db0",
   "metadata": {},
   "outputs": [],
   "source": [
    "def power(base, exp):\n",
    "    if exp < 0 or int(exp) != exp:\n",
    "        return \"enter a positive integer exponent value\"\n",
    "    elif exp == 0:\n",
    "        return 1\n",
    "    else:\n",
    "        return round(base * power(base, exp - 1), 2)\n",
    "    "
   ]
  },
  {
   "cell_type": "code",
   "execution_count": 22,
   "id": "da827423",
   "metadata": {},
   "outputs": [
    {
     "data": {
      "text/plain": [
       "9.26"
      ]
     },
     "execution_count": 22,
     "metadata": {},
     "output_type": "execute_result"
    }
   ],
   "source": [
    "power(2.1, 3)"
   ]
  },
  {
   "cell_type": "code",
   "execution_count": 23,
   "id": "65909eff",
   "metadata": {},
   "outputs": [
    {
     "data": {
      "text/plain": [
       "'enter a positive integer exponent value'"
      ]
     },
     "execution_count": 23,
     "metadata": {},
     "output_type": "execute_result"
    }
   ],
   "source": [
    "power(3, 2.1)"
   ]
  },
  {
   "cell_type": "markdown",
   "id": "43f054cb",
   "metadata": {},
   "source": [
    "#### GCD(Greatest common divisor) of two numbers :\n",
    "\n",
    "The greatest common divisor for two or more integers is the largest common factor, that divides each of the integers.\n",
    "\n",
    "Consider two integers 36 and 60. We find all the factors for both the integers 36 and 60. The multiplication of all the common factors of both the numbers gives the greatest common divisor.\n",
    "\n",
    "`36 = 2 * 2 * 3 * 3\n",
    "60 = 2 * 2 * 3 * 5\n",
    "GCD = multiplication of common factors\n",
    "        = 2 * 2 * 3\n",
    "        = 12`\n",
    "        \n",
    "        \n",
    "#### Another way to find the greatest common factor is the Euclidean algorithm. \n",
    "\n",
    "Consider two integers 60 and 36. The algorithm to find gcd(60, 36) is given below.\n",
    "\n",
    "`a = 60, b = 36\n",
    "a/b => 60/36 = 1 and rem = 24`\n",
    "\n",
    "`Exchange ( a = b) and (b = rem)\n",
    "a = 36, b = 24\n",
    "36/24 = 1 and rem = 12`\n",
    "\n",
    "`Exchange ( a = b) and (b = rem)\n",
    "a = 24 , b = 12\n",
    "24/12 = 2 and rem= 0`\n",
    "\n",
    "`Exchange (a = b) and (b =rem)\n",
    "a = 12 and b = 0`\n",
    "\n",
    "`The division is not possible further. \n",
    "Hence if b becomes 0, we return a as gcd.`\n",
    "\n",
    "`Thus, GCD of (60, 36) is 12.`\n",
    "\n",
    "#### Program\n",
    "\n",
    "Consider a user-defined function gcd() that takes two numbers a and b as parameters. The function is called recursively to obtain the greatest common divisor.\n",
    "\n",
    "### Base condition:\n",
    "\n",
    "If b == 0, return a.\n",
    "\n",
    "### Recursive case:\n",
    "\n",
    "Divide a/b and get the remainder. Now, exchange a with b, and b with remainder and call the function recursively. The recursive call is given as gcd(b, a%b).\n",
    "\n",
    "### Unintentional case:\n",
    "\n",
    "We know that, gcd(a, b) = gcd(-a, b) = gcd(a, -b) = gcd(-a, -b).\n",
    "\n",
    "\n",
    "If we get any negative number as input, we convert it to their absolute values to avoid unexpected output.\n",
    "\n",
    "\n",
    "Now, the gcd is defined for integer values. To avoid floating-point values, we check if the number is not an integer. If the condition is True, then we ask the user to enter an integer value."
   ]
  },
  {
   "cell_type": "code",
   "execution_count": 24,
   "id": "2f4b0b60",
   "metadata": {},
   "outputs": [
    {
     "name": "stdout",
     "output_type": "stream",
     "text": [
      "12\n",
      "12\n",
      "Enter integer values\n"
     ]
    }
   ],
   "source": [
    "def gcd(a , b):\n",
    "    if int(a) != a or int(b) != b:\n",
    "        return \"Enter integer values\"\n",
    "    if a < 0:\n",
    "        a = -a\n",
    "    if b < 0:\n",
    "        b =-b\n",
    "    if b==0:     #base condition\n",
    "        return a\n",
    "    else:\n",
    "        return gcd(b, a%b)  #recursive call and we swap value as well\n",
    "\n",
    "print(gcd(60, 36))\n",
    "#Output: 12\n",
    "\n",
    "print(gcd(60, -36))\n",
    "#Output: 12\n",
    "\n",
    "print(gcd(60, 3.6))\n",
    "#Output: Enter integer values"
   ]
  },
  {
   "cell_type": "markdown",
   "id": "2395517e",
   "metadata": {},
   "source": [
    "####  Decimal number to Binary\n",
    "\n",
    "We can convert the decimal number to binary by successively dividing the number by 2, and printing the remainder in reverse order. In the following example, we obtain the binary value of the number 10.\n",
    "\n",
    "`Step 1: Divide the number by 2\n",
    "Step 2: Get the integer quotient for next iteration.\n",
    "Step 3: Get the remainder for binary digit.\n",
    "Step 4: Repeat the process until the quotient becomes 0.`\n",
    "\n",
    "#### Python Decimal Binary\n",
    "\n",
    "`The binary number of 10 is 1010. To concatenate all the digits in reverse order, we multiply the remainder with 10, to add a new place and add the previous remainder. This can be written as f(n) = (n %10) + 10 * f(n//2).`\n",
    "\n",
    "\n",
    "#### Program\n",
    "\n",
    "In the following example, we use a user-defined function decimal_binary() and take a number n as parameter.\n",
    "\n",
    "#### Base condition:\n",
    "If the value of n is equal to 0, return 0.\n",
    "#### Recursive case:\n",
    "`decimal_binary(n) = (n%2) + 10*decimal_binary(int(n/2))`\n",
    "#### Unintentional cases: \n",
    "If the number n is of float data type, the program gives unexpected output."
   ]
  },
  {
   "cell_type": "code",
   "execution_count": 25,
   "id": "dc38757c",
   "metadata": {},
   "outputs": [
    {
     "name": "stdout",
     "output_type": "stream",
     "text": [
      "1010\n",
      "1010\n",
      "Parameter can be only be an integer value\n"
     ]
    }
   ],
   "source": [
    "def decimal_binary(n):\n",
    "    if int(n) != n:\n",
    "        return \"Parameter can be only be an integer value\"\n",
    "    if n == 0:\n",
    "        return 0\n",
    "    else:\n",
    "        return (n % 2) + 10 * decimal_binary(int(n/2))\n",
    "\n",
    "print(decimal_binary(10)) #Positive decimal value\n",
    "#Output: 1010\n",
    "\n",
    "print(decimal_binary(-10)) # Negative decimal value\n",
    "#Output: 1010\n",
    "\n",
    "print(decimal_binary(1.2)) # Floating point value\n",
    "#Output: Parameter can be only be an integer value"
   ]
  },
  {
   "cell_type": "code",
   "execution_count": 26,
   "id": "ffd9e435",
   "metadata": {},
   "outputs": [
    {
     "data": {
      "text/plain": [
       "101"
      ]
     },
     "execution_count": 26,
     "metadata": {},
     "output_type": "execute_result"
    }
   ],
   "source": [
    "decimal_binary(5)"
   ]
  },
  {
   "cell_type": "markdown",
   "id": "1b31e937",
   "metadata": {},
   "source": [
    "#### FAQ on Recursion\n",
    "#### How to break out of recursion in python?\n",
    "The following is the recursion program to print the factorial of a number. The function fac(n) will be called till variable n becomes 0. The recursion breaks out when the base condition(n==1) is met."
   ]
  },
  {
   "cell_type": "code",
   "execution_count": 28,
   "id": "b74adaa7",
   "metadata": {},
   "outputs": [
    {
     "data": {
      "text/plain": [
       "6"
      ]
     },
     "execution_count": 28,
     "metadata": {},
     "output_type": "execute_result"
    }
   ],
   "source": [
    "def fac(n): \n",
    "    \n",
    "    pass\n",
    "    if n==0: \n",
    "        return 1 \n",
    "    else: \n",
    "        return n*fac(n-1) \n",
    "    \n",
    "fac(3)\n"
   ]
  },
  {
   "cell_type": "markdown",
   "id": "c5cc443f",
   "metadata": {},
   "source": [
    "#### How to call a recursive function in python?\n",
    "\n",
    "In the below code the function recursion(n) is called again within the same function block. The variable n is decremented and passed as a parameter to the same function until the variable becomes 1."
   ]
  },
  {
   "cell_type": "code",
   "execution_count": 30,
   "id": "cd5f1843",
   "metadata": {},
   "outputs": [
    {
     "name": "stdout",
     "output_type": "stream",
     "text": [
      "Fibonacci series:\n",
      "0 1 1 2 3 5 "
     ]
    }
   ],
   "source": [
    "def recursion(n):\n",
    "    if n <= 1:\n",
    "        return n\n",
    "    else:\n",
    "        return(recursion(n-1) + recursion(n-2)) #recursive call\n",
    "\n",
    "    \n",
    "n_terms = 6\n",
    "if n_terms <= 0:\n",
    "    print(\"Invalid input ! Please input a positive value\")\n",
    "else:\n",
    "    print(\"Fibonacci series:\")\n",
    "    for i in range(n_terms):\n",
    "        print(recursion(i), end= \" \")"
   ]
  },
  {
   "cell_type": "markdown",
   "id": "35dce31a",
   "metadata": {},
   "source": [
    "#### How to end recursion in python?\n",
    "\n",
    "If the solution to the problem shrinks and moves towards a base case with each recursive call, the recursive function finishes. If the base case is not met in the calls, a recursion can end up in an infinite loop.\n",
    "\n",
    "In the below code, the variable time is decremented each time the function startcountdown(time) is called and the recursion ends when the function meets the base condition (i.e time=0)."
   ]
  },
  {
   "cell_type": "code",
   "execution_count": 48,
   "id": "adc2e5d0",
   "metadata": {},
   "outputs": [
    {
     "name": "stdout",
     "output_type": "stream",
     "text": [
      "5\n",
      "4\n",
      "3\n",
      "2\n",
      "1\n",
      "0\n"
     ]
    }
   ],
   "source": [
    "def startcountdown(time):\n",
    "    print(time)\n",
    "    if time == 0:\n",
    "        return             # Terminate recursion\n",
    "    else:\n",
    "        startcountdown(time - 1)   # Recursive call\n",
    "        \n",
    "startcountdown(5)"
   ]
  },
  {
   "cell_type": "markdown",
   "id": "e421a275",
   "metadata": {},
   "source": [
    "#### How to find factorial using recursion in python?\n",
    "\n",
    "A number’s factorial is the product of all numbers from 1 to that number. The factorial() method in the following program takes one parameter and keeps running itself, reducing the value by one until it reaches 1."
   ]
  },
  {
   "cell_type": "code",
   "execution_count": 50,
   "id": "c2afece5",
   "metadata": {},
   "outputs": [
    {
     "name": "stdout",
     "output_type": "stream",
     "text": [
      "The factorial of 7 is 5040\n"
     ]
    }
   ],
   "source": [
    "def findfact(num):\n",
    "    if num == 1 or num == 0:\n",
    "        return 1\n",
    "    else:\n",
    "        return (num * findfact(num-1))\n",
    "num = 7\n",
    "print(\"The factorial of\", num, \"is\", findfact(num))"
   ]
  },
  {
   "cell_type": "code",
   "execution_count": 51,
   "id": "1fd29144",
   "metadata": {},
   "outputs": [
    {
     "data": {
      "text/plain": [
       "1"
      ]
     },
     "execution_count": 51,
     "metadata": {},
     "output_type": "execute_result"
    }
   ],
   "source": [
    "findfact(0)"
   ]
  },
  {
   "cell_type": "markdown",
   "id": "58c43bb2",
   "metadata": {},
   "source": [
    "#### How to reverse a list in python using recursion?\n",
    "\n",
    "In the below code, the original list, first and the last index is passed as a parameter. The first element in the list is stored at the last index of the list. And the last element is stored at the first index of the list. The function is recursively called by incrementing and decrementing the index."
   ]
  },
  {
   "cell_type": "code",
   "execution_count": 52,
   "id": "c9ca80a9",
   "metadata": {},
   "outputs": [
    {
     "name": "stdout",
     "output_type": "stream",
     "text": [
      "Enter the size of List: 4\n",
      "Enter the Value of 1 Element in List: 12\n",
      "Enter the Value of 2 Element in List: 3\n",
      "Enter the Value of 3 Element in List: 2\n",
      "Enter the Value of 4 Element in List: 4\n",
      "\n",
      "Original List:  [12, 3, 2, 4]\n",
      "\n",
      "Reversed List =   [4, 2, 3, 12]\n"
     ]
    }
   ],
   "source": [
    "def reversing_the_list(List, i, j):\n",
    "    if(i < j):\n",
    "        temp = List[i]\n",
    "        List[i] = List[j]\n",
    "        List[j] = temp\n",
    "        reversing_the_list(List, i + 1, j-1)\n",
    "\n",
    "List = []\n",
    "size = int(input(\"Enter the size of List: \"))\n",
    "for i in range(1, size + 1):\n",
    "    value = int(input(\"Enter the Value of %d Element in List: \" %i))\n",
    "    List.append(value)\n",
    "print(\"\\nOriginal List: \",List)\n",
    "\n",
    "reversing_the_list(List, 0, size - 1)\n",
    "print(\"\\nReversed List =  \", List)"
   ]
  },
  {
   "cell_type": "code",
   "execution_count": 53,
   "id": "34b63fe4",
   "metadata": {},
   "outputs": [
    {
     "name": "stdout",
     "output_type": "stream",
     "text": [
      "Enter the size of List: 3\n",
      "Enter the Value of 1 Element in List: 12\n",
      "Enter the Value of 2 Element in List: 3\n",
      "Enter the Value of 3 Element in List: 2\n",
      "\n",
      "Original List:  [12, 3, 2]\n",
      "\n",
      "Reversed List =   [2, 3, 12]\n"
     ]
    }
   ],
   "source": [
    "def reversing_the_list(List, i, j):\n",
    "    if(i < j):\n",
    "        List[i], List[j] = List[j], List[i]\n",
    "        \n",
    "        reversing_the_list(List, i + 1, j-1)\n",
    "\n",
    "List = []\n",
    "size = int(input(\"Enter the size of List: \"))\n",
    "for i in range(1, size + 1):\n",
    "    value = int(input(f\"Enter the Value of {i} Element in List: \" ))\n",
    "    List.append(value)\n",
    "print(\"\\nOriginal List: \",List)\n",
    "\n",
    "reversing_the_list(List, 0, size - 1)\n",
    "print(\"\\nReversed List =  \", List)"
   ]
  },
  {
   "cell_type": "markdown",
   "id": "4e5aa534",
   "metadata": {},
   "source": [
    "#### How to reverse a string using recursion in python?\n",
    "\n",
    "In the below `reverse_the_string(string)` function, the string is passed as an argument to a recursive function to reverse the string. The base condition returns the string if the string length is equal to zero.\n",
    "\n",
    "Otherwise `reverse_the_string(string)` function is called recursively to slice the string apart from the first character and concatenate the first character to the end of the sliced string."
   ]
  },
  {
   "cell_type": "code",
   "execution_count": 56,
   "id": "4f4c8b13",
   "metadata": {},
   "outputs": [
    {
     "name": "stdout",
     "output_type": "stream",
     "text": [
      "Enter the string to be reversed : Hello World\n",
      "Reversed string is :  dlroW olleH\n"
     ]
    }
   ],
   "source": [
    "def reverse_the_string(string):\n",
    "    if len(string) == 0:\n",
    "        return string\n",
    "    else:\n",
    "        return reverse_the_string(string[1:]) + string[0]\n",
    "res = input('Enter the string to be reversed : ')\n",
    "print('Reversed string is : ',reverse_the_string(res))"
   ]
  },
  {
   "cell_type": "code",
   "execution_count": null,
   "id": "65bcfcff",
   "metadata": {},
   "outputs": [],
   "source": []
  }
 ],
 "metadata": {
  "kernelspec": {
   "display_name": "Python 3 (ipykernel)",
   "language": "python",
   "name": "python3"
  },
  "language_info": {
   "codemirror_mode": {
    "name": "ipython",
    "version": 3
   },
   "file_extension": ".py",
   "mimetype": "text/x-python",
   "name": "python",
   "nbconvert_exporter": "python",
   "pygments_lexer": "ipython3",
   "version": "3.9.7"
  }
 },
 "nbformat": 4,
 "nbformat_minor": 5
}
